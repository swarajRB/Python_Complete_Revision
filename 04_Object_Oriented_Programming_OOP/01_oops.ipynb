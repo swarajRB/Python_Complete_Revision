{
 "cells": [
  {
   "cell_type": "markdown",
   "metadata": {},
   "source": [
    "OOPS - object oriented programming system"
   ]
  },
  {
   "cell_type": "code",
   "execution_count": 2,
   "metadata": {},
   "outputs": [
    {
     "data": {
      "text/plain": [
       "5"
      ]
     },
     "execution_count": 2,
     "metadata": {},
     "output_type": "execute_result"
    }
   ],
   "source": [
    "a = 5\n",
    "a"
   ]
  },
  {
   "cell_type": "code",
   "execution_count": 4,
   "metadata": {},
   "outputs": [
    {
     "name": "stdout",
     "output_type": "stream",
     "text": [
      "<class 'int'>\n"
     ]
    }
   ],
   "source": [
    "print(type(a))"
   ]
  },
  {
   "cell_type": "code",
   "execution_count": 6,
   "metadata": {},
   "outputs": [
    {
     "name": "stdout",
     "output_type": "stream",
     "text": [
      "<class 'str'>\n"
     ]
    }
   ],
   "source": [
    "s = \"pwskills\"\n",
    "print(type(s))"
   ]
  },
  {
   "cell_type": "code",
   "execution_count": 1,
   "metadata": {},
   "outputs": [],
   "source": [
    "# IIt form(templet)example,cars example, human being example\n",
    "# classes are blue print? templet for creating an object\n",
    "# we are diffrent objects of class humnan being\n",
    "# gujiya maker/ thekuamaker"
   ]
  },
  {
   "cell_type": "code",
   "execution_count": 2,
   "metadata": {},
   "outputs": [],
   "source": [
    "class Car: #naming convention >> upper Camelcase\n",
    "    pass    # class Car is nothing but a templet"
   ]
  },
  {
   "cell_type": "code",
   "execution_count": 3,
   "metadata": {},
   "outputs": [],
   "source": [
    "c1 = Car() # instance/object"
   ]
  },
  {
   "cell_type": "code",
   "execution_count": 4,
   "metadata": {},
   "outputs": [
    {
     "name": "stdout",
     "output_type": "stream",
     "text": [
      "<class '__main__.Car'>\n"
     ]
    }
   ],
   "source": [
    "print(type(c1))"
   ]
  },
  {
   "cell_type": "code",
   "execution_count": null,
   "metadata": {},
   "outputs": [],
   "source": [
    "# why oops >> we already had function \n",
    "# a project can have many  components , sat backend(f1,f2) , frontend(f3,f4), datapipe line \n",
    "# def f1():\n",
    "#     pass\n",
    "\n",
    "# def f6():\n",
    "#     pass\n",
    "\n",
    "# def f4():\n",
    "#     pass\n",
    "\n",
    "# def f2():\n",
    "#     pass\n",
    "# # if a back end developer want to work?change some backend function>>  all the functions\n",
    "\n",
    "# oops helps you to arragnge the required functions in a respective classes\n",
    "\n",
    "\n",
    "\n"
   ]
  },
  {
   "cell_type": "code",
   "execution_count": 2,
   "metadata": {},
   "outputs": [],
   "source": [
    "class Car ():\n",
    "    pass"
   ]
  },
  {
   "cell_type": "code",
   "execution_count": 3,
   "metadata": {},
   "outputs": [
    {
     "name": "stdout",
     "output_type": "stream",
     "text": [
      "<class '__main__.Car'>\n"
     ]
    }
   ],
   "source": [
    "c1 = Car()\n",
    "print(type(c1))"
   ]
  },
  {
   "cell_type": "code",
   "execution_count": 4,
   "metadata": {},
   "outputs": [],
   "source": [
    "class Car: # function/method of a car\n",
    "    def accelerate():\n",
    "        print(\"car is accelerating\")"
   ]
  },
  {
   "cell_type": "code",
   "execution_count": 5,
   "metadata": {},
   "outputs": [],
   "source": [
    "c1 = Car()"
   ]
  },
  {
   "cell_type": "code",
   "execution_count": 9,
   "metadata": {},
   "outputs": [
    {
     "ename": "TypeError",
     "evalue": "Car.accelerate() takes 0 positional arguments but 1 was given",
     "output_type": "error",
     "traceback": [
      "\u001b[1;31m---------------------------------------------------------------------------\u001b[0m",
      "\u001b[1;31mTypeError\u001b[0m                                 Traceback (most recent call last)",
      "Cell \u001b[1;32mIn[9], line 1\u001b[0m\n\u001b[1;32m----> 1\u001b[0m \u001b[43mc1\u001b[49m\u001b[38;5;241;43m.\u001b[39;49m\u001b[43maccelerate\u001b[49m\u001b[43m(\u001b[49m\u001b[43m)\u001b[49m \u001b[38;5;66;03m# it will through an eror\u001b[39;00m\n",
      "\u001b[1;31mTypeError\u001b[0m: Car.accelerate() takes 0 positional arguments but 1 was given"
     ]
    }
   ],
   "source": [
    "c1.accelerate() # it will through an eror"
   ]
  },
  {
   "cell_type": "code",
   "execution_count": 30,
   "metadata": {},
   "outputs": [],
   "source": [
    "class Car():  # function/method of a car\n",
    "    def accelerate(self):\n",
    "        print(\"Car is accelerating\")\n",
    "    \n",
    "    def speed(self):\n",
    "        print(\"speed is too high\")\n",
    "\n",
    "    def slow(self):\n",
    "        print(\"Please use break\")\n",
    "# self >> a variable that repesent of the class using which you can acess method / \n",
    "# also function of the class , also attribute/property of the class \n",
    "\n",
    "# self make sure that each object knows that the method is associated with it\n",
    "# iin othwer words method is reference to that perticular object "
   ]
  },
  {
   "cell_type": "code",
   "execution_count": 31,
   "metadata": {},
   "outputs": [
    {
     "name": "stdout",
     "output_type": "stream",
     "text": [
      "Car is accelerating\n"
     ]
    }
   ],
   "source": [
    "c1 = Car()\n",
    "c1.accelerate()"
   ]
  },
  {
   "cell_type": "code",
   "execution_count": 32,
   "metadata": {},
   "outputs": [
    {
     "name": "stdout",
     "output_type": "stream",
     "text": [
      "speed is too high\n",
      "Please use break\n"
     ]
    }
   ],
   "source": [
    "c1.speed() \n",
    "c1.slow()"
   ]
  },
  {
   "cell_type": "code",
   "execution_count": 35,
   "metadata": {},
   "outputs": [
    {
     "name": "stdout",
     "output_type": "stream",
     "text": [
      "speed is too high\n"
     ]
    }
   ],
   "source": [
    "c2=Car()\n",
    "c2.speed()"
   ]
  },
  {
   "cell_type": "code",
   "execution_count": 42,
   "metadata": {},
   "outputs": [],
   "source": [
    "# bank \n",
    "class Bank:\n",
    "    def deposite(self):\n",
    "        print(\"i am dpeositing the money\")\n",
    "    def withdraw(self):\n",
    "        print(\"I am withdrawing the money\")\n",
    "# self is not a python keyword you can pass any keyword\n",
    "# best practice to pass the self"
   ]
  },
  {
   "cell_type": "code",
   "execution_count": 41,
   "metadata": {},
   "outputs": [
    {
     "name": "stdout",
     "output_type": "stream",
     "text": [
      "i am dpeositing the money\n",
      "I am withdrawwing the money\n"
     ]
    }
   ],
   "source": [
    "c1 = Bank()\n",
    "c1.deposite()\n",
    "c1.withdraw()"
   ]
  },
  {
   "cell_type": "code",
   "execution_count": 45,
   "metadata": {},
   "outputs": [
    {
     "name": "stdout",
     "output_type": "stream",
     "text": [
      "i am dpeositing the money\n"
     ]
    }
   ],
   "source": [
    "c2 = Bank()\n",
    "c2.deposite()"
   ]
  },
  {
   "cell_type": "code",
   "execution_count": 46,
   "metadata": {},
   "outputs": [],
   "source": [
    "# passing data in the class >> can also be calle as property / attribute\n",
    "\n",
    "\n",
    "class Bank:\n",
    "    def deposite(self, amount_deposite):\n",
    "        print(\"i am dpeositing the money\")\n",
    "    def withdraw(self, amount_withdraw):\n",
    "        print(\"I am withdrawing the money\")"
   ]
  },
  {
   "cell_type": "code",
   "execution_count": 47,
   "metadata": {},
   "outputs": [
    {
     "ename": "TypeError",
     "evalue": "Bank.withdraw() missing 1 required positional argument: 'amount_withdraw'",
     "output_type": "error",
     "traceback": [
      "\u001b[1;31m---------------------------------------------------------------------------\u001b[0m",
      "\u001b[1;31mTypeError\u001b[0m                                 Traceback (most recent call last)",
      "Cell \u001b[1;32mIn[47], line 2\u001b[0m\n\u001b[0;32m      1\u001b[0m swaraj \u001b[38;5;241m=\u001b[39m Bank()\n\u001b[1;32m----> 2\u001b[0m \u001b[43mswaraj\u001b[49m\u001b[38;5;241;43m.\u001b[39;49m\u001b[43mwithdraw\u001b[49m\u001b[43m(\u001b[49m\u001b[43m)\u001b[49m\n",
      "\u001b[1;31mTypeError\u001b[0m: Bank.withdraw() missing 1 required positional argument: 'amount_withdraw'"
     ]
    }
   ],
   "source": [
    "swaraj = Bank()\n",
    "swaraj.withdraw() #it wull throw you an error"
   ]
  },
  {
   "cell_type": "code",
   "execution_count": 49,
   "metadata": {},
   "outputs": [
    {
     "name": "stdout",
     "output_type": "stream",
     "text": [
      "I am withdrawing the money\n"
     ]
    }
   ],
   "source": [
    "swaraj = Bank()\n",
    "swaraj.withdraw(200)"
   ]
  },
  {
   "cell_type": "code",
   "execution_count": 50,
   "metadata": {},
   "outputs": [
    {
     "ename": "TypeError",
     "evalue": "Bank.deposite() missing 1 required positional argument: 'amount_deposite'",
     "output_type": "error",
     "traceback": [
      "\u001b[1;31m---------------------------------------------------------------------------\u001b[0m",
      "\u001b[1;31mTypeError\u001b[0m                                 Traceback (most recent call last)",
      "Cell \u001b[1;32mIn[50], line 2\u001b[0m\n\u001b[0;32m      1\u001b[0m swaraj \u001b[38;5;241m=\u001b[39m Bank()\n\u001b[1;32m----> 2\u001b[0m \u001b[43mswaraj\u001b[49m\u001b[38;5;241;43m.\u001b[39;49m\u001b[43mdeposite\u001b[49m\u001b[43m(\u001b[49m\u001b[43m)\u001b[49m\n",
      "\u001b[1;31mTypeError\u001b[0m: Bank.deposite() missing 1 required positional argument: 'amount_deposite'"
     ]
    }
   ],
   "source": [
    "swaraj = Bank()\n",
    "swaraj.deposite()"
   ]
  },
  {
   "cell_type": "code",
   "execution_count": 51,
   "metadata": {},
   "outputs": [
    {
     "name": "stdout",
     "output_type": "stream",
     "text": [
      "i am dpeositing the money\n"
     ]
    }
   ],
   "source": [
    "swaraj = Bank()\n",
    "swaraj.deposite(1000)"
   ]
  },
  {
   "cell_type": "code",
   "execution_count": 64,
   "metadata": {},
   "outputs": [],
   "source": [
    "# bank will ask you for default amount , amount is attribute /property/data of class\n",
    "\n",
    "class Bank:\n",
    "    amount_deposite = 1000\n",
    "    def deposite(self, amount_deposite):\n",
    "        print(\"i am dpeositing the money\")\n",
    "    def withdraw(self, amount_withdraw):\n",
    "        print(\"I am withdrawing the money\")"
   ]
  },
  {
   "cell_type": "code",
   "execution_count": 69,
   "metadata": {},
   "outputs": [
    {
     "name": "stdout",
     "output_type": "stream",
     "text": [
      "i am dpeositing the money\n"
     ]
    }
   ],
   "source": [
    "swaraj = Bank()\n",
    "swaraj.deposite(10)"
   ]
  },
  {
   "cell_type": "code",
   "execution_count": 70,
   "metadata": {},
   "outputs": [
    {
     "data": {
      "text/plain": [
       "1000"
      ]
     },
     "execution_count": 70,
     "metadata": {},
     "output_type": "execute_result"
    }
   ],
   "source": [
    "#attributes / property can also be accessed the same way as methods/functionss are acessed\n",
    "swaraj.amount_deposite"
   ]
  },
  {
   "cell_type": "code",
   "execution_count": 11,
   "metadata": {},
   "outputs": [],
   "source": [
    "#extract odd and even nos from a given list\n",
    "\n",
    "class ListOps:\n",
    "    l = [1,2,3,4,6]\n",
    "    def extract_even(self, l):\n",
    "        l1=[]\n",
    "        for i in l:\n",
    "            if i%2==0:\n",
    "                l1.append(i)\n",
    "        return l1\n",
    "    def extract_odd(self, l):\n",
    "        l1=[]\n",
    "        for i in l:\n",
    "            if i%2!=0:\n",
    "                l1.append(i)\n",
    "        return l1"
   ]
  },
  {
   "cell_type": "code",
   "execution_count": 12,
   "metadata": {},
   "outputs": [
    {
     "data": {
      "text/plain": [
       "[1, 2, 3, 4, 6]"
      ]
     },
     "execution_count": 12,
     "metadata": {},
     "output_type": "execute_result"
    }
   ],
   "source": [
    "ops1 =ListOps()\n",
    "ops1.l"
   ]
  },
  {
   "cell_type": "code",
   "execution_count": 13,
   "metadata": {},
   "outputs": [
    {
     "data": {
      "text/plain": [
       "[2, 4, 6]"
      ]
     },
     "execution_count": 13,
     "metadata": {},
     "output_type": "execute_result"
    }
   ],
   "source": [
    "ops1.extract_even(ops1.l)"
   ]
  },
  {
   "cell_type": "code",
   "execution_count": 14,
   "metadata": {},
   "outputs": [
    {
     "data": {
      "text/plain": [
       "[1, 3]"
      ]
     },
     "execution_count": 14,
     "metadata": {},
     "output_type": "execute_result"
    }
   ],
   "source": [
    "ops1.extract_odd(ops1.l)"
   ]
  },
  {
   "cell_type": "code",
   "execution_count": 16,
   "metadata": {},
   "outputs": [
    {
     "data": {
      "text/plain": [
       "[9, 3]"
      ]
     },
     "execution_count": 16,
     "metadata": {},
     "output_type": "execute_result"
    }
   ],
   "source": [
    "ops1.extract_odd([2,4,6,8,9,3])"
   ]
  },
  {
   "cell_type": "code",
   "execution_count": 17,
   "metadata": {},
   "outputs": [
    {
     "data": {
      "text/plain": [
       "[1, 2, 3, 4, 6]"
      ]
     },
     "execution_count": 17,
     "metadata": {},
     "output_type": "execute_result"
    }
   ],
   "source": [
    "# if you make any object the attribute l is fixed\n",
    "# inspite of passing a diffrent listabove you are still getting the fixd l[1, 2, 3, 4, 6]\n",
    "ops1.l"
   ]
  },
  {
   "cell_type": "code",
   "execution_count": null,
   "metadata": {},
   "outputs": [],
   "source": [
    "# you want take the attribute a value of the class for each object diffrently"
   ]
  },
  {
   "cell_type": "code",
   "execution_count": 39,
   "metadata": {},
   "outputs": [],
   "source": [
    "#extract odd and even nos from a given list\n",
    "\n",
    "class ListOps:\n",
    "    def __init__(self,l): # magic method/dunder method Init mean initialisation\n",
    "        self.l = l\n",
    "\n",
    "    def extract_even(self,l):\n",
    "        l1=[]\n",
    "        for i in l:\n",
    "            if i%2==0:\n",
    "                l1.append(i)\n",
    "        return l1\n",
    "    def extract_odd(self,l):\n",
    "        l1=[]\n",
    "        for i in l:\n",
    "            if i%2!=0:\n",
    "                l1.append(i)\n",
    "        return l1"
   ]
  },
  {
   "cell_type": "code",
   "execution_count": 23,
   "metadata": {},
   "outputs": [
    {
     "ename": "TypeError",
     "evalue": "ListOps.__init__() missing 1 required positional argument: 'l'",
     "output_type": "error",
     "traceback": [
      "\u001b[1;31m---------------------------------------------------------------------------\u001b[0m",
      "\u001b[1;31mTypeError\u001b[0m                                 Traceback (most recent call last)",
      "Cell \u001b[1;32mIn[23], line 1\u001b[0m\n\u001b[1;32m----> 1\u001b[0m ops1 \u001b[38;5;241m=\u001b[39m \u001b[43mListOps\u001b[49m\u001b[43m(\u001b[49m\u001b[43m)\u001b[49m \u001b[38;5;66;03m#it will throw you an error \u001b[39;00m\n\u001b[0;32m      2\u001b[0m \u001b[38;5;66;03m#TypeError: ListOps.__init__() missing 1 required positional argument: 'l\u001b[39;00m\n",
      "\u001b[1;31mTypeError\u001b[0m: ListOps.__init__() missing 1 required positional argument: 'l'"
     ]
    }
   ],
   "source": [
    "ops1 = ListOps() #it will throw you an error , while making object/instance of the class , the first method that is executed is__init__\n",
    "# and __init__ needs an argument\n",
    "#TypeError: ListOps.__init__() missing 1 required positional argument: 'l"
   ]
  },
  {
   "cell_type": "code",
   "execution_count": 38,
   "metadata": {},
   "outputs": [
    {
     "name": "stdout",
     "output_type": "stream",
     "text": [
      "[1, 2, 3, 4, 5]\n",
      "[1, 3, 5]\n",
      "[2, 4]\n"
     ]
    }
   ],
   "source": [
    "ops1 = ListOps([1,2,3,4,5])\n",
    "print(ops1.l)\n",
    "print(ops1.extract_odd(ops1.l))\n",
    "print(ops1.extract_even(ops1.l))"
   ]
  },
  {
   "cell_type": "code",
   "execution_count": 41,
   "metadata": {},
   "outputs": [
    {
     "data": {
      "text/plain": [
       "[11, 2, 34, 43, 54, 5]"
      ]
     },
     "execution_count": 41,
     "metadata": {},
     "output_type": "execute_result"
    }
   ],
   "source": [
    "ops2 = ListOps([11,2,34,43,54,5])\n",
    "ops2.l"
   ]
  },
  {
   "cell_type": "code",
   "execution_count": 43,
   "metadata": {},
   "outputs": [
    {
     "ename": "TypeError",
     "evalue": "ListOps.extract_even() missing 1 required positional argument: 'l'",
     "output_type": "error",
     "traceback": [
      "\u001b[1;31m---------------------------------------------------------------------------\u001b[0m",
      "\u001b[1;31mTypeError\u001b[0m                                 Traceback (most recent call last)",
      "Cell \u001b[1;32mIn[43], line 1\u001b[0m\n\u001b[1;32m----> 1\u001b[0m \u001b[43mops1\u001b[49m\u001b[38;5;241;43m.\u001b[39;49m\u001b[43mextract_even\u001b[49m\u001b[43m(\u001b[49m\u001b[43m)\u001b[49m\n",
      "\u001b[1;31mTypeError\u001b[0m: ListOps.extract_even() missing 1 required positional argument: 'l'"
     ]
    }
   ],
   "source": [
    "ops1.extract_even() # throw an error ,see the explanation below"
   ]
  },
  {
   "cell_type": "code",
   "execution_count": 44,
   "metadata": {},
   "outputs": [],
   "source": [
    "class ListOps:\n",
    "    def __init__(self,l): # magic method/dunder method Init mean initialisation\n",
    "        self.l = l\n",
    "\n",
    "    def extract_even(self): # be careful as init has been used,only pss self in the method\n",
    "        l = self.l\n",
    "        l1=[]\n",
    "        for i in l:\n",
    "            if i%2==0:\n",
    "                l1.append(i)\n",
    "        return l1\n",
    "    def extract_odd(self):\n",
    "        l = self.l\n",
    "        l1=[]\n",
    "        for i in l:\n",
    "            if i%2!=0:\n",
    "                l1.append(i)\n",
    "        return l1"
   ]
  },
  {
   "cell_type": "code",
   "execution_count": 46,
   "metadata": {},
   "outputs": [
    {
     "data": {
      "text/plain": [
       "[1, 3, 5]"
      ]
     },
     "execution_count": 46,
     "metadata": {},
     "output_type": "execute_result"
    }
   ],
   "source": [
    "ops1 = ListOps([1,2,3,4,5,6,7])\n",
    "ops1.extract_odd()"
   ]
  },
  {
   "cell_type": "code",
   "execution_count": 47,
   "metadata": {},
   "outputs": [
    {
     "data": {
      "text/plain": [
       "[2, 4, 6]"
      ]
     },
     "execution_count": 47,
     "metadata": {},
     "output_type": "execute_result"
    }
   ],
   "source": [
    "ops1.extract_even()"
   ]
  },
  {
   "cell_type": "code",
   "execution_count": 49,
   "metadata": {},
   "outputs": [],
   "source": [
    "# multiple attributes\n",
    "# in a library  book is associated with author , title , name\n",
    "class Book:\n",
    "    def __init__(self, name, author, title):\n",
    "        self.name_of_book = name\n",
    "        self.book_author = author\n",
    "        self.title_name = title\n",
    "\n",
    "    def extract_details_name_title(self):\n",
    "        print(self.name_of_book, self.title_name)\n",
    "    \n",
    "    def extract_details_name_author(self):\n",
    "        print(self.name_of_book, self.book_author)\n",
    "    "
   ]
  },
  {
   "cell_type": "code",
   "execution_count": 50,
   "metadata": {},
   "outputs": [
    {
     "name": "stdout",
     "output_type": "stream",
     "text": [
      "ML murphy\n"
     ]
    }
   ],
   "source": [
    "student1=Book(\"ML\",\"murphy\",\"Linear regression\")\n",
    "\n",
    "student1.extract_details_name_author()"
   ]
  },
  {
   "cell_type": "code",
   "execution_count": 51,
   "metadata": {},
   "outputs": [
    {
     "name": "stdout",
     "output_type": "stream",
     "text": [
      "ML Linear regression\n"
     ]
    }
   ],
   "source": [
    "student1.extract_details_name_title()"
   ]
  },
  {
   "cell_type": "code",
   "execution_count": 62,
   "metadata": {},
   "outputs": [
    {
     "name": "stdout",
     "output_type": "stream",
     "text": [
      "stats descripted ststs\n"
     ]
    }
   ],
   "source": [
    "student2 = Book(\"stats\",\"joss\",\"descripted ststs\")\n",
    "student2.extract_details_name_title()"
   ]
  },
  {
   "cell_type": "code",
   "execution_count": 60,
   "metadata": {},
   "outputs": [
    {
     "name": "stdout",
     "output_type": "stream",
     "text": [
      "stats joss\n"
     ]
    }
   ],
   "source": [
    "student2.extract_details_name_author()"
   ]
  },
  {
   "cell_type": "code",
   "execution_count": 7,
   "metadata": {},
   "outputs": [],
   "source": [
    "# to pass default"
   ]
  },
  {
   "cell_type": "code",
   "execution_count": 3,
   "metadata": {},
   "outputs": [],
   "source": [
    "class Book:\n",
    "    def __init__(self):\n",
    "        self.name_of_book = \"DSS\"\n",
    "        self.book_author = \"Cormen\"\n",
    "        self.title_name = \"Stacks\"\n",
    "\n",
    "    def extract_details_name_title(self):\n",
    "        print(self.name_of_book, self.title_name)\n",
    "    \n",
    "    def extract_details_name_author(self):\n",
    "        print(self.name_of_book, self.book_author)\n",
    "    "
   ]
  },
  {
   "cell_type": "code",
   "execution_count": 4,
   "metadata": {},
   "outputs": [
    {
     "name": "stdout",
     "output_type": "stream",
     "text": [
      "DSS Cormen\n"
     ]
    }
   ],
   "source": [
    "student1=Book()\n",
    "student1.extract_details_name_author()"
   ]
  },
  {
   "cell_type": "code",
   "execution_count": 6,
   "metadata": {},
   "outputs": [
    {
     "name": "stdout",
     "output_type": "stream",
     "text": [
      "DSS Stacks\n"
     ]
    }
   ],
   "source": [
    "student1.extract_details_name_title()"
   ]
  },
  {
   "cell_type": "code",
   "execution_count": null,
   "metadata": {},
   "outputs": [],
   "source": []
  }
 ],
 "metadata": {
  "kernelspec": {
   "display_name": "Python 3",
   "language": "python",
   "name": "python3"
  },
  "language_info": {
   "codemirror_mode": {
    "name": "ipython",
    "version": 3
   },
   "file_extension": ".py",
   "mimetype": "text/x-python",
   "name": "python",
   "nbconvert_exporter": "python",
   "pygments_lexer": "ipython3",
   "version": "3.12.4"
  }
 },
 "nbformat": 4,
 "nbformat_minor": 2
}
