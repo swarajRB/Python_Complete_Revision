{
 "cells": [
  {
   "cell_type": "markdown",
   "metadata": {},
   "source": [
    "Decorators  >> decorating your functions and class "
   ]
  },
  {
   "cell_type": "code",
   "execution_count": 14,
   "metadata": {},
   "outputs": [],
   "source": [
    "# decorators >>> allows to modify or extend the behavior or functions / class without modifying their\n",
    "# similar to decorating your house and and rooms withlighs and posters , sticksers extend good "
   ]
  },
  {
   "cell_type": "code",
   "execution_count": 15,
   "metadata": {},
   "outputs": [],
   "source": [
    "# function decorators and class decorators\n",
    "\n",
    "# function decorators"
   ]
  },
  {
   "cell_type": "code",
   "execution_count": 16,
   "metadata": {},
   "outputs": [],
   "source": [
    "#use case to understand  >> say you want to use the line before computation and after computation\n",
    "# after each time you creat a function or call function . so it will take a lot of time to type the line s repetatively\n",
    "# thats why concept of decorators are introduced "
   ]
  },
  {
   "cell_type": "code",
   "execution_count": 17,
   "metadata": {},
   "outputs": [],
   "source": [
    "\n",
    "def my_decorators_func():\n",
    "    print(\"The line before computation\")\n",
    "    print(11*1200) # decorating the acttualll the computation line above line below\n",
    "    print(\"The line after computation\")\n",
    "# inthe above approce you have to write all the lines as many times as yu are creating\n",
    "# lets see the decoratoes approach"
   ]
  },
  {
   "cell_type": "code",
   "execution_count": 18,
   "metadata": {},
   "outputs": [
    {
     "name": "stdout",
     "output_type": "stream",
     "text": [
      "The line before computation\n",
      "13200\n",
      "The line after computation\n"
     ]
    }
   ],
   "source": [
    "my_decorators_func()"
   ]
  },
  {
   "cell_type": "code",
   "execution_count": 19,
   "metadata": {},
   "outputs": [],
   "source": [
    "# decorators approach for function >> use case\n",
    "def my_decorator(func): # this is decorator func which takes another func as arguement\n",
    "    def wrapper():#  wrapper is nested funtion that adds the functionality before and after calling original function\n",
    "        print(\"The line before computation\")\n",
    "        func() # say heloe which is the func here willbe executed here\n",
    "        print(\"This is the line after computation\")\n",
    "    return wrapper\n"
   ]
  },
  {
   "cell_type": "code",
   "execution_count": 20,
   "metadata": {},
   "outputs": [],
   "source": [
    "@my_decorator # syntax say_hello funttion\n",
    "def say_hello():\n",
    "    print(\"Hello\")"
   ]
  },
  {
   "cell_type": "code",
   "execution_count": 21,
   "metadata": {},
   "outputs": [
    {
     "name": "stdout",
     "output_type": "stream",
     "text": [
      "The line before computation\n",
      "Hello\n",
      "This is the line after computation\n"
     ]
    }
   ],
   "source": [
    "say_hello()\n",
    "# when say_hello is called , it is actually 1st calling the decorator funtion >>\n",
    "# which in return i calling wrapper funtion and then wrapped function is printing and calling the say_hello"
   ]
  },
  {
   "cell_type": "code",
   "execution_count": 27,
   "metadata": {},
   "outputs": [],
   "source": [
    "# another use case of the functon decorator\n",
    "# runtime of a code\n",
    "import time\n",
    "def timer_decorator(func):\n",
    "    def timer():\n",
    "        start = time.time()\n",
    "        func()\n",
    "        end = time.time()\n",
    "        print(\"The time for executing the code\",end-start)\n",
    "    return timer "
   ]
  },
  {
   "cell_type": "code",
   "execution_count": 28,
   "metadata": {},
   "outputs": [],
   "source": [
    "@timer_decorator\n",
    "def func_test():\n",
    "    print(1011010457*1000710)"
   ]
  },
  {
   "cell_type": "code",
   "execution_count": 29,
   "metadata": {},
   "outputs": [
    {
     "name": "stdout",
     "output_type": "stream",
     "text": [
      "1011728274424470\n",
      "The time for executing the code 0.0009999275207519531\n"
     ]
    }
   ],
   "source": [
    "func_test()"
   ]
  },
  {
   "cell_type": "code",
   "execution_count": 30,
   "metadata": {},
   "outputs": [],
   "source": [
    "@timer_decorator\n",
    "def func_test_1():\n",
    "    print(1011010457*1000710+1000/27-471-4*8571)"
   ]
  },
  {
   "cell_type": "code",
   "execution_count": 33,
   "metadata": {},
   "outputs": [
    {
     "name": "stdout",
     "output_type": "stream",
     "text": [
      "1011728274389752.0\n",
      "The time for executing the code 0.0010013580322265625\n"
     ]
    }
   ],
   "source": [
    "func_test_1()"
   ]
  },
  {
   "cell_type": "code",
   "execution_count": 34,
   "metadata": {},
   "outputs": [],
   "source": [
    "# why do we need the function decorators \n",
    "#reusability of code >> reuse the common code\n",
    "#enhancing the funtion without modifying the original  function\n",
    "# USe cases >> execution of code ,logging, caching , validation  "
   ]
  },
  {
   "cell_type": "code",
   "execution_count": 51,
   "metadata": {},
   "outputs": [],
   "source": [
    "# class decorators >>\n",
    "\n",
    "class MyDecorator:\n",
    "    def __init__(self, func): # similar to function decorator you are pasing func in class decorator \n",
    "        self.func = func\n",
    "        print(\"Inside the init method\")\n",
    "    def __call__(self): # __call__ is a specila method inside the classwhic s called / inport whe you call instance /object of the class as a function\n",
    "        print(\"something is happening before function.\")\n",
    "        self.func()\n",
    "        print(\"somthing ushappening after function\")\n"
   ]
  },
  {
   "cell_type": "code",
   "execution_count": 52,
   "metadata": {},
   "outputs": [
    {
     "name": "stdout",
     "output_type": "stream",
     "text": [
      "The line before computation\n",
      "Hello\n",
      "This is the line after computation\n"
     ]
    }
   ],
   "source": [
    "@my_decorator # class __call__ will be executed as object if the class will be callled as function >> so first__init__, then __call__ wil be executed\n",
    "def say_hello():\n",
    "    print(\"Hello\")\n",
    "\n",
    "say_hello()"
   ]
  },
  {
   "cell_type": "code",
   "execution_count": 44,
   "metadata": {},
   "outputs": [],
   "source": [
    "# __call__ is a specila method inside the classwhic s called / invoked whe you call instance /object of the class as a function"
   ]
  },
  {
   "cell_type": "code",
   "execution_count": 47,
   "metadata": {},
   "outputs": [],
   "source": [
    "class MyDecorator:\n",
    "    def __init__(self): # similar to function decorator you are pasing func in class decorator \n",
    "        # self.func = func\n",
    "        print(\"Inside the init method\")\n",
    "    def __call__(self):\n",
    "        print(\"something is happening before function.\")\n",
    "        # self.()\n",
    "        print(\"somthing ushappening after function\")"
   ]
  },
  {
   "cell_type": "code",
   "execution_count": 48,
   "metadata": {},
   "outputs": [
    {
     "name": "stdout",
     "output_type": "stream",
     "text": [
      "Inside the init method\n"
     ]
    }
   ],
   "source": [
    "obj1 = MyDecorator() # when yoou make a object of the class init is executed first"
   ]
  },
  {
   "cell_type": "code",
   "execution_count": 50,
   "metadata": {},
   "outputs": [
    {
     "name": "stdout",
     "output_type": "stream",
     "text": [
      "something is happening before function.\n",
      "somthing ushappening after function\n"
     ]
    }
   ],
   "source": [
    "obj1() # when you call a object of a class as function __call__ method will be envoked"
   ]
  },
  {
   "cell_type": "code",
   "execution_count": null,
   "metadata": {},
   "outputs": [],
   "source": [
    "# some inbuilt decorators >> details in the next class\n",
    "# @classmethod >> the method takes the class itself as the first agruement "
   ]
  },
  {
   "cell_type": "code",
   "execution_count": 55,
   "metadata": {},
   "outputs": [],
   "source": [
    "class Math:\n",
    "    @classmethod # takes reference to the class itself to modify and acess class itself\n",
    "    def add(cls,x,y): # class  \n",
    "        return cls.__name__, x +y  #__cls.__name>> class math  "
   ]
  },
  {
   "cell_type": "code",
   "execution_count": 56,
   "metadata": {},
   "outputs": [
    {
     "data": {
      "text/plain": [
       "('Math', 7)"
      ]
     },
     "execution_count": 56,
     "metadata": {},
     "output_type": "execute_result"
    }
   ],
   "source": [
    "Math.add(3,4) # you dont need any init method to take data "
   ]
  },
  {
   "cell_type": "code",
   "execution_count": null,
   "metadata": {},
   "outputs": [],
   "source": [
    "# class method is bound to class and not the instance of the class,\n",
    "# class itself as the first arguement >>  cls"
   ]
  },
  {
   "cell_type": "code",
   "execution_count": null,
   "metadata": {},
   "outputs": [],
   "source": [
    "# next inbuld decorators is static method \n",
    "# static method >> the method which can be  called  without creating any instance of class and without using self / cls"
   ]
  },
  {
   "cell_type": "code",
   "execution_count": 58,
   "metadata": {},
   "outputs": [],
   "source": [
    "#earlier\n",
    "class Math:\n",
    "    def add(self,x,y):\n",
    "        return x+y"
   ]
  },
  {
   "cell_type": "code",
   "execution_count": 59,
   "metadata": {},
   "outputs": [],
   "source": [
    "a = Math() # make object/instance"
   ]
  },
  {
   "cell_type": "code",
   "execution_count": 60,
   "metadata": {},
   "outputs": [
    {
     "data": {
      "text/plain": [
       "11"
      ]
     },
     "execution_count": 60,
     "metadata": {},
     "output_type": "execute_result"
    }
   ],
   "source": [
    "a.add(4,7) # this is the way to call regular class method"
   ]
  },
  {
   "cell_type": "code",
   "execution_count": 62,
   "metadata": {},
   "outputs": [],
   "source": [
    "# use of static meth0d\n",
    "class Math:\n",
    "    @staticmethod\n",
    "    def add(x,y): # noo need of cls /self\n",
    "        return x+y"
   ]
  },
  {
   "cell_type": "code",
   "execution_count": 63,
   "metadata": {},
   "outputs": [
    {
     "data": {
      "text/plain": [
       "8"
      ]
     },
     "execution_count": 63,
     "metadata": {},
     "output_type": "execute_result"
    }
   ],
   "source": [
    "Math.add(3,5) # no need of making any object"
   ]
  },
  {
   "cell_type": "code",
   "execution_count": null,
   "metadata": {},
   "outputs": [],
   "source": [
    "# class method>> to be used when you want to modufy class level data\n",
    "# static ethod >> when you dont want to interact with class level data"
   ]
  },
  {
   "cell_type": "code",
   "execution_count": null,
   "metadata": {},
   "outputs": [],
   "source": [
    "# property  decorator >> allowmethode to be allow to be accessed as atributes "
   ]
  },
  {
   "cell_type": "code",
   "execution_count": 64,
   "metadata": {},
   "outputs": [],
   "source": [
    "class Circle :\n",
    "    def __init__(self,radius):\n",
    "        self.radius = radius"
   ]
  },
  {
   "cell_type": "code",
   "execution_count": 65,
   "metadata": {},
   "outputs": [],
   "source": [
    "obj = Circle(5)"
   ]
  },
  {
   "cell_type": "code",
   "execution_count": 66,
   "metadata": {},
   "outputs": [
    {
     "data": {
      "text/plain": [
       "5"
      ]
     },
     "execution_count": 66,
     "metadata": {},
     "output_type": "execute_result"
    }
   ],
   "source": [
    "obj.radius #acessing data/attribute "
   ]
  },
  {
   "cell_type": "code",
   "execution_count": 74,
   "metadata": {},
   "outputs": [],
   "source": [
    "# using propert decorator \n",
    "class Circle :\n",
    "    def __init__(self,radius):\n",
    "        self.radius = radius\n",
    "    def area(self):\n",
    "        radius =self.radius\n",
    "        return 3.14*radius**2"
   ]
  },
  {
   "cell_type": "code",
   "execution_count": 75,
   "metadata": {},
   "outputs": [
    {
     "data": {
      "text/plain": [
       "5"
      ]
     },
     "execution_count": 75,
     "metadata": {},
     "output_type": "execute_result"
    }
   ],
   "source": [
    "obj = Circle(5)\n",
    "obj.radius"
   ]
  },
  {
   "cell_type": "code",
   "execution_count": 76,
   "metadata": {},
   "outputs": [
    {
     "data": {
      "text/plain": [
       "78.5"
      ]
     },
     "execution_count": 76,
     "metadata": {},
     "output_type": "execute_result"
    }
   ],
   "source": [
    "obj.area() # earlier"
   ]
  },
  {
   "cell_type": "code",
   "execution_count": 77,
   "metadata": {},
   "outputs": [],
   "source": [
    "# using propert decorator \n",
    "class Circle :\n",
    "    def __init__(self,radius):\n",
    "        self.radius = radius\n",
    "    @property\n",
    "    def area(self):\n",
    "        radius =self.radius\n",
    "        return 3.14*radius**2"
   ]
  },
  {
   "cell_type": "code",
   "execution_count": 79,
   "metadata": {},
   "outputs": [
    {
     "data": {
      "text/plain": [
       "78.5"
      ]
     },
     "execution_count": 79,
     "metadata": {},
     "output_type": "execute_result"
    }
   ],
   "source": [
    "obj1 = Circle(5)\n",
    "obj1.area"
   ]
  },
  {
   "cell_type": "code",
   "execution_count": null,
   "metadata": {},
   "outputs": [],
   "source": []
  }
 ],
 "metadata": {
  "kernelspec": {
   "display_name": "Python 3",
   "language": "python",
   "name": "python3"
  },
  "language_info": {
   "codemirror_mode": {
    "name": "ipython",
    "version": 3
   },
   "file_extension": ".py",
   "mimetype": "text/x-python",
   "name": "python",
   "nbconvert_exporter": "python",
   "pygments_lexer": "ipython3",
   "version": "3.12.4"
  }
 },
 "nbformat": 4,
 "nbformat_minor": 2
}
