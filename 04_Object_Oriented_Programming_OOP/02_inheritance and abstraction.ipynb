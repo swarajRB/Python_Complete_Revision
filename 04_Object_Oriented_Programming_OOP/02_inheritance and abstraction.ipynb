{
 "cells": [
  {
   "cell_type": "markdown",
   "metadata": {},
   "source": [
    "Inheritance >> refers to process of child receiving the properties of parent class"
   ]
  },
  {
   "cell_type": "code",
   "execution_count": 1,
   "metadata": {},
   "outputs": [],
   "source": [
    "# syntax\n",
    "# class BaseClass:\n",
    "    #body of base class\n",
    "# class DerivedClass(BaseClass):\n",
    "    #body of derivedclass\n",
    "    "
   ]
  },
  {
   "cell_type": "code",
   "execution_count": 2,
   "metadata": {},
   "outputs": [],
   "source": [
    "# single inheritance >> when a derived class has only one parent class"
   ]
  },
  {
   "cell_type": "code",
   "execution_count": 4,
   "metadata": {},
   "outputs": [],
   "source": [
    "class Father:\n",
    "    def father_property(self):\n",
    "        print(\"This is the father property\")"
   ]
  },
  {
   "cell_type": "code",
   "execution_count": 13,
   "metadata": {},
   "outputs": [],
   "source": [
    "class Son(Father):\n",
    "    def job(self):\n",
    "        print(\"Son has property form job\")"
   ]
  },
  {
   "cell_type": "code",
   "execution_count": 14,
   "metadata": {},
   "outputs": [],
   "source": [
    "child_obj = Son() # object / instance of son class "
   ]
  },
  {
   "cell_type": "code",
   "execution_count": 15,
   "metadata": {},
   "outputs": [
    {
     "name": "stdout",
     "output_type": "stream",
     "text": [
      "Son has property form job\n"
     ]
    }
   ],
   "source": [
    "# a child have his faher property and also have his owmn property\n",
    "child_obj.job()"
   ]
  },
  {
   "cell_type": "code",
   "execution_count": 16,
   "metadata": {},
   "outputs": [
    {
     "name": "stdout",
     "output_type": "stream",
     "text": [
      "This is the father property\n"
     ]
    }
   ],
   "source": [
    "child_obj.father_property()"
   ]
  },
  {
   "cell_type": "code",
   "execution_count": 18,
   "metadata": {},
   "outputs": [
    {
     "name": "stdout",
     "output_type": "stream",
     "text": [
      "This is the father property\n"
     ]
    }
   ],
   "source": [
    "# A father will have only hus property \n",
    "father_obj = Father() #object/instance of father class\n",
    "father_obj.father_property()"
   ]
  },
  {
   "cell_type": "code",
   "execution_count": 19,
   "metadata": {},
   "outputs": [
    {
     "ename": "AttributeError",
     "evalue": "'Father' object has no attribute 'job'",
     "output_type": "error",
     "traceback": [
      "\u001b[1;31m---------------------------------------------------------------------------\u001b[0m",
      "\u001b[1;31mAttributeError\u001b[0m                            Traceback (most recent call last)",
      "Cell \u001b[1;32mIn[19], line 1\u001b[0m\n\u001b[1;32m----> 1\u001b[0m \u001b[43mfather_obj\u001b[49m\u001b[38;5;241;43m.\u001b[39;49m\u001b[43mjob\u001b[49m()\n",
      "\u001b[1;31mAttributeError\u001b[0m: 'Father' object has no attribute 'job'"
     ]
    }
   ],
   "source": [
    "father_obj.job() # shows error"
   ]
  },
  {
   "cell_type": "code",
   "execution_count": null,
   "metadata": {},
   "outputs": [],
   "source": [
    "# parent class will not have acess to the property (method/attribute) of child class but child have acess to the"
   ]
  },
  {
   "cell_type": "code",
   "execution_count": 20,
   "metadata": {},
   "outputs": [],
   "source": [
    "class Fruit:\n",
    "    def fruit_info(self):\n",
    "        print(\"inside fruit info\")\n",
    "class Apple(Fruit):\n",
    "    def apple_info(self):\n",
    "        print(\"inside the child class\")"
   ]
  },
  {
   "cell_type": "code",
   "execution_count": 22,
   "metadata": {},
   "outputs": [
    {
     "name": "stdout",
     "output_type": "stream",
     "text": [
      "inside the child class\n"
     ]
    }
   ],
   "source": [
    "obj_1 = Apple()\n",
    "obj_1.apple_info()"
   ]
  },
  {
   "cell_type": "code",
   "execution_count": 24,
   "metadata": {},
   "outputs": [
    {
     "name": "stdout",
     "output_type": "stream",
     "text": [
      "inside fruit info\n"
     ]
    }
   ],
   "source": [
    "obj_1.fruit_info()"
   ]
  },
  {
   "cell_type": "code",
   "execution_count": 26,
   "metadata": {},
   "outputs": [
    {
     "name": "stdout",
     "output_type": "stream",
     "text": [
      "inside fruit info\n"
     ]
    }
   ],
   "source": [
    "obj_2 = Fruit()\n",
    "obj_2.fruit_info()"
   ]
  },
  {
   "cell_type": "code",
   "execution_count": 28,
   "metadata": {},
   "outputs": [
    {
     "ename": "AttributeError",
     "evalue": "'Fruit' object has no attribute 'apple_info'",
     "output_type": "error",
     "traceback": [
      "\u001b[1;31m---------------------------------------------------------------------------\u001b[0m",
      "\u001b[1;31mAttributeError\u001b[0m                            Traceback (most recent call last)",
      "Cell \u001b[1;32mIn[28], line 1\u001b[0m\n\u001b[1;32m----> 1\u001b[0m \u001b[43mobj_2\u001b[49m\u001b[38;5;241;43m.\u001b[39;49m\u001b[43mapple_info\u001b[49m() \u001b[38;5;66;03m# throw an error\u001b[39;00m\n",
      "\u001b[1;31mAttributeError\u001b[0m: 'Fruit' object has no attribute 'apple_info'"
     ]
    }
   ],
   "source": [
    "obj_2.apple_info() # throw an error"
   ]
  },
  {
   "cell_type": "code",
   "execution_count": 7,
   "metadata": {},
   "outputs": [],
   "source": [
    "# Method overriding  >> re-writing  re- defining methods ofparent class in derived/child class\n",
    "\n",
    "class Fruit:\n",
    "    def fruit_info(self):\n",
    "        print(\"inside fruit info\")\n",
    "class Apple(Fruit):\n",
    "    def fruit_info(self):\n",
    "        print(\"inside the chlid class(fruit info)\")\n",
    "    def apple_info(self):\n",
    "        print(\"inside the child class\")\n",
    "\n",
    "# Method overriding >> child class is very powerful >> can change the property of father\n",
    "# method overriding happend between two classes"
   ]
  },
  {
   "cell_type": "code",
   "execution_count": 9,
   "metadata": {},
   "outputs": [
    {
     "name": "stdout",
     "output_type": "stream",
     "text": [
      "inside the chlid class(fruit info)\n",
      "inside the child class\n"
     ]
    }
   ],
   "source": [
    "obj1 = Apple()\n",
    "obj1.fruit_info()\n",
    "obj1.apple_info()"
   ]
  },
  {
   "cell_type": "code",
   "execution_count": null,
   "metadata": {},
   "outputs": [],
   "source": [
    "# Multi-level inheritance >> \n",
    "# parent class(g father) >> child class one(father) >> child classs two(you)"
   ]
  },
  {
   "cell_type": "code",
   "execution_count": 18,
   "metadata": {},
   "outputs": [],
   "source": [
    "class GrandFather():\n",
    "    def prop_grand_father(self):\n",
    "        print(\"I am your Grand father, this is my property\")\n",
    "class Father(GrandFather):\n",
    "    def prop_father(self):\n",
    "        print(\"I am your Father and I have my property and your grand father's property\")\n",
    "class Son(Father):\n",
    "    def prop_son(self):\n",
    "        print(\"I am the son I have my property , my fatrge's property and my Graandfather's propeerty\")"
   ]
  },
  {
   "cell_type": "code",
   "execution_count": 19,
   "metadata": {},
   "outputs": [
    {
     "name": "stdout",
     "output_type": "stream",
     "text": [
      "I am your Grand father, this is my property\n",
      "I am your Father and I have my property and your grand father's property\n",
      "I am the son I have my property , my fatrge's property and my Graandfather's propeerty\n"
     ]
    }
   ],
   "source": [
    "son = Son()\n",
    "son.prop_grand_father()\n",
    "son.prop_father()\n",
    "son.prop_son()\n",
    "\n",
    "# son have all therr propert "
   ]
  },
  {
   "cell_type": "code",
   "execution_count": 21,
   "metadata": {},
   "outputs": [
    {
     "name": "stdout",
     "output_type": "stream",
     "text": [
      "I am your Grand father, this is my property\n",
      "I am your Father and I have my property and your grand father's property\n"
     ]
    }
   ],
   "source": [
    "father = Father()\n",
    "father.prop_grand_father()\n",
    "father.prop_father()\n",
    "\n",
    "# father have only two property"
   ]
  },
  {
   "cell_type": "code",
   "execution_count": 23,
   "metadata": {},
   "outputs": [
    {
     "name": "stdout",
     "output_type": "stream",
     "text": [
      "I am your Grand father, this is my property\n"
     ]
    }
   ],
   "source": [
    "gfather = GrandFather()\n",
    "gfather.prop_grand_father()\n",
    "\n",
    "# granfather have only his property"
   ]
  },
  {
   "cell_type": "code",
   "execution_count": 24,
   "metadata": {},
   "outputs": [],
   "source": [
    "#use case\n",
    "class Vehicle():\n",
    "    def vehicle_info(self):\n",
    "        print(\"Inside the vehicle class\")\n",
    "class Car(Vehicle):\n",
    "    def car_info(self):\n",
    "        print(\"Inside the car class\")\n",
    "class SportsCar(Car):\n",
    "    def sports_car_info(self):\n",
    "        print(\"Inside the sports car class\")\n"
   ]
  },
  {
   "cell_type": "code",
   "execution_count": 26,
   "metadata": {},
   "outputs": [
    {
     "name": "stdout",
     "output_type": "stream",
     "text": [
      "Inside the vehicle class\n"
     ]
    }
   ],
   "source": [
    "obj_vehicle = Vehicle()\n",
    "obj_vehicle.vehicle_info()\n",
    "#acess only vehicle property"
   ]
  },
  {
   "cell_type": "code",
   "execution_count": 30,
   "metadata": {},
   "outputs": [
    {
     "name": "stdout",
     "output_type": "stream",
     "text": [
      "Inside the car class\n",
      "Inside the vehicle class\n"
     ]
    }
   ],
   "source": [
    "obj_car = Car()\n",
    "obj_car.car_info()\n",
    "obj_car.vehicle_info()\n",
    "\n",
    "# acess both vehicle and car property"
   ]
  },
  {
   "cell_type": "code",
   "execution_count": 33,
   "metadata": {},
   "outputs": [
    {
     "name": "stdout",
     "output_type": "stream",
     "text": [
      "Inside the car class\n",
      "Inside the vehicle class\n",
      "Inside the sports car class\n"
     ]
    }
   ],
   "source": [
    "obj_spot = SportsCar()\n",
    "obj_spot.car_info()\n",
    "obj_spot.vehicle_info()\n",
    "obj_spot.sports_car_info()\n",
    "# access all the property"
   ]
  },
  {
   "cell_type": "code",
   "execution_count": 34,
   "metadata": {},
   "outputs": [],
   "source": [
    "# another example of methode overriding\n",
    "\n",
    "#use case\n",
    "class Vehicle():\n",
    "    def vehicle_info(self):\n",
    "        print(\"Inside the vehicle class\")\n",
    "class Car(Vehicle):\n",
    "    def car_info(self):\n",
    "        print(\"Inside the car class\")\n",
    "class SportsCar(Car):\n",
    "    def vehicle_info(self):\n",
    "        print(\"Inside the sports car class\")\n",
    "\n",
    "\n"
   ]
  },
  {
   "cell_type": "code",
   "execution_count": 36,
   "metadata": {},
   "outputs": [
    {
     "name": "stdout",
     "output_type": "stream",
     "text": [
      "Inside the sports car class\n"
     ]
    }
   ],
   "source": [
    "obj_spot = SportsCar()\n",
    "obj_spot.vehicle_info() # methode overriding >> child class is most powerful"
   ]
  },
  {
   "cell_type": "code",
   "execution_count": null,
   "metadata": {},
   "outputs": [],
   "source": [
    "# multiple inheritance >> one child class may inherit the property of multiple parent class"
   ]
  },
  {
   "cell_type": "code",
   "execution_count": 47,
   "metadata": {},
   "outputs": [],
   "source": [
    "class ParentClass1():\n",
    "    def method1(self):\n",
    "        print(\"method 1 of parent class 1\")\n",
    "class ParentClass2():\n",
    "    def method2(self):\n",
    "        print(\"method 2 of parent class 2\")\n"
   ]
  },
  {
   "cell_type": "code",
   "execution_count": 48,
   "metadata": {},
   "outputs": [],
   "source": [
    "class ChildClass(ParentClass1,ParentClass2):\n",
    "    def method(self):\n",
    "        print(\"methode of child class\")"
   ]
  },
  {
   "cell_type": "code",
   "execution_count": 49,
   "metadata": {},
   "outputs": [
    {
     "name": "stdout",
     "output_type": "stream",
     "text": [
      "methode of child class\n",
      "method 1 of parent class 1\n",
      "method 2 of parent class 2\n"
     ]
    }
   ],
   "source": [
    "c1 = ChildClass()\n",
    "c1.method()\n",
    "c1.method1()\n",
    "c1.method2()"
   ]
  },
  {
   "cell_type": "code",
   "execution_count": 17,
   "metadata": {},
   "outputs": [],
   "source": [
    "# Diamond problem >>> it occures when a class inherit from more than 2 class >> will lead  to ombigutity in execution of mmethods\n",
    "# to remove diamond problem  >> uses method resolution order(MRO) algorithim call c3 linearisation\n",
    "# meaning that the class that the class inherited first in the derived class, that method will be called >> inthis case parent 1\n",
    "class ParentClass1():\n",
    "    def method_par(self):\n",
    "        print(\"method 1 of parent class 1\")\n",
    "class ParentClass2():\n",
    "    def method_par(self):\n",
    "        print(\"method 2 of parent class 2\")\n",
    "class ChildClass(ParentClass1,ParentClass2):\n",
    "    def method(self):\n",
    "        print(\"methode of child class\")"
   ]
  },
  {
   "cell_type": "code",
   "execution_count": 18,
   "metadata": {},
   "outputs": [
    {
     "name": "stdout",
     "output_type": "stream",
     "text": [
      "method 1 of parent class 1\n"
     ]
    }
   ],
   "source": [
    "c2 = ChildClass()\n",
    "c2.method_par()"
   ]
  },
  {
   "cell_type": "code",
   "execution_count": 19,
   "metadata": {},
   "outputs": [],
   "source": [
    "class A:\n",
    "    def method(self):\n",
    "        print(\"mathod of class A\")\n",
    "class B(A):\n",
    "    def method(self):\n",
    "        print(\"mathod of class B\")\n",
    "class C(A):\n",
    "    def method(self):\n",
    "        print(\"mathod of class C\")\n",
    "class D(B,C):\n",
    "  \n",
    "    pass \n",
    "        "
   ]
  },
  {
   "cell_type": "code",
   "execution_count": 20,
   "metadata": {},
   "outputs": [
    {
     "name": "stdout",
     "output_type": "stream",
     "text": [
      "mathod of class B\n"
     ]
    }
   ],
   "source": [
    "d = D()\n",
    "d.method()"
   ]
  },
  {
   "cell_type": "code",
   "execution_count": null,
   "metadata": {},
   "outputs": [],
   "source": [
    "# hierarchical inheritance >> one paren class >> multiple (more than two childclass )"
   ]
  },
  {
   "cell_type": "code",
   "execution_count": 61,
   "metadata": {},
   "outputs": [],
   "source": [
    "class Vehicle:\n",
    "    def info(self):\n",
    "        print(\"This is vehicle\")\n",
    "class Car(Vehicle):\n",
    "    def car_info(self,name):\n",
    "        print(\"This is car info\",name)\n",
    "class Truck(Vehicle):\n",
    "    def truck_info(self,name):\n",
    "        print(\"This is truck info\",name)\n",
    "        "
   ]
  },
  {
   "cell_type": "code",
   "execution_count": 63,
   "metadata": {},
   "outputs": [
    {
     "name": "stdout",
     "output_type": "stream",
     "text": [
      "This is vehicle\n",
      "This is car info BMW\n"
     ]
    }
   ],
   "source": [
    "c1 = Car()\n",
    "c1.info()\n",
    "c1.car_info(\"BMW\")\n"
   ]
  },
  {
   "cell_type": "code",
   "execution_count": 65,
   "metadata": {},
   "outputs": [
    {
     "name": "stdout",
     "output_type": "stream",
     "text": [
      "This is vehicle\n",
      "This is truck info tata\n"
     ]
    }
   ],
   "source": [
    "obj2 = Truck()\n",
    "obj2.info()\n",
    "obj2.truck_info(\"tata\")"
   ]
  },
  {
   "cell_type": "code",
   "execution_count": null,
   "metadata": {},
   "outputs": [],
   "source": [
    "# hybrid inheritance >> multiple types of combinantion of different inheritance"
   ]
  },
  {
   "cell_type": "code",
   "execution_count": 71,
   "metadata": {},
   "outputs": [],
   "source": [
    "class Vehicle:\n",
    "    def vehicle_info(self):\n",
    "        print(\"This isnside vehicle class\")\n",
    "\n",
    "class Car(Vehicle):\n",
    "    def car_info(self):\n",
    "        print(\"Inside the car class\")\n",
    "\n",
    "class Truck(Vehicle):\n",
    "    def truck_info(self,name):\n",
    "        print(\"Inside the Truck class\",name)\n",
    "\n",
    "class SportsCar(Car, Vehicle):\n",
    "    def sports_info(self):\n",
    "        print(\"Inside aports car class\")"
   ]
  },
  {
   "cell_type": "code",
   "execution_count": 75,
   "metadata": {},
   "outputs": [
    {
     "name": "stdout",
     "output_type": "stream",
     "text": [
      "Inside the car class\n",
      "This isnside vehicle class\n",
      "Inside the car class\n"
     ]
    }
   ],
   "source": [
    "obj1 = SportsCar()\n",
    "obj1.car_info()\n",
    "obj1.vehicle_info()\n",
    "obj1.car_info()"
   ]
  },
  {
   "cell_type": "code",
   "execution_count": null,
   "metadata": {},
   "outputs": [],
   "source": [
    "#Abstraction >> concept of hiding complex impletation\n",
    "#hiding unneeded details and exposing the required\n",
    "# abstract class can not be instantiated(can nor make objects)\n",
    "# abstact class should always be subclassed\n",
    "# abstrct class may contain methodes that are just declared and not  implementee in the abstc. class itself ,,subclass class are responsible for implementing methods\n",
    "\n",
    "# if in inheritance class method is not presnt in abstarct clas it will not throw error"
   ]
  },
  {
   "cell_type": "code",
   "execution_count": 77,
   "metadata": {},
   "outputs": [],
   "source": [
    "# when you open an app or site you only see the interface not the backend codes\n",
    "\n",
    "# abstract can be achived using abstarct clas >> impot abc"
   ]
  },
  {
   "cell_type": "code",
   "execution_count": 85,
   "metadata": {},
   "outputs": [],
   "source": [
    "import abc # collection of multiple functions as a module \n",
    "# in anyclass at pwskills the three methods will be common \n",
    "\n",
    "\n",
    "class Pwskills:\n",
    "\n",
    "    @abc.abstractmethod\n",
    "    def student_details(self):\n",
    "        pass\n",
    "    @abc.abstractmethod\n",
    "    def student_assignment(self):\n",
    "        pass\n",
    "    @abc.abstractmethod\n",
    "    def student_marks(self):\n",
    "        pass"
   ]
  },
  {
   "cell_type": "code",
   "execution_count": 86,
   "metadata": {},
   "outputs": [],
   "source": [
    "class DataScience(Pwskills):\n",
    "    def student_details(self):\n",
    "        return \"data science course details\"\n",
    "    def student_marks(self):\n",
    "        return \"give ds student marks\"\n",
    " "
   ]
  },
  {
   "cell_type": "code",
   "execution_count": 91,
   "metadata": {},
   "outputs": [],
   "source": [
    "class Webdev(Pwskills):\n",
    "    def student_assignment(self):\n",
    "        return \"this will give web dev student assignment\"\n",
    "    def student_marks(self):\n",
    "        return \"web dev student marks\""
   ]
  },
  {
   "cell_type": "code",
   "execution_count": 95,
   "metadata": {},
   "outputs": [
    {
     "data": {
      "text/plain": [
       "'data science course details'"
      ]
     },
     "execution_count": 95,
     "metadata": {},
     "output_type": "execute_result"
    }
   ],
   "source": [
    "ds = DataScience()\n",
    "ds.student_assignment() # it will not throw an error even if any method is not given\n",
    "ds.student_details()"
   ]
  },
  {
   "cell_type": "code",
   "execution_count": 96,
   "metadata": {},
   "outputs": [
    {
     "data": {
      "text/plain": [
       "'this will give web dev student assignment'"
      ]
     },
     "execution_count": 96,
     "metadata": {},
     "output_type": "execute_result"
    }
   ],
   "source": [
    "w = Webdev()\n",
    "w.student_assignment()"
   ]
  },
  {
   "cell_type": "code",
   "execution_count": 97,
   "metadata": {},
   "outputs": [],
   "source": [
    "# use case\n",
    "\n",
    "class Shape:\n",
    "\n",
    "    @abc.abstractmethod\n",
    "    def calculate_area(self):\n",
    "        pass\n",
    "class Rectangle(Shape):\n",
    "    @abc.abstractmethod\n",
    "    def calculate_area(self):\n",
    "        return \"aren of rect len*brd\"\n",
    "\n",
    "class Circle(Shape):\n",
    "    def calculate_area(self):\n",
    "        return \"area of circle is pi r **2\""
   ]
  },
  {
   "cell_type": "code",
   "execution_count": 98,
   "metadata": {},
   "outputs": [
    {
     "data": {
      "text/plain": [
       "'aren of rect len*brd'"
      ]
     },
     "execution_count": 98,
     "metadata": {},
     "output_type": "execute_result"
    }
   ],
   "source": [
    "rect = Rectangle()\n",
    "rect.calculate_area()"
   ]
  },
  {
   "cell_type": "code",
   "execution_count": 99,
   "metadata": {},
   "outputs": [
    {
     "data": {
      "text/plain": [
       "'area of circle is pi r **2'"
      ]
     },
     "execution_count": 99,
     "metadata": {},
     "output_type": "execute_result"
    }
   ],
   "source": [
    "c= Circle()\n",
    "c.calculate_area()"
   ]
  },
  {
   "cell_type": "code",
   "execution_count": 2,
   "metadata": {},
   "outputs": [],
   "source": [
    "import abc"
   ]
  },
  {
   "cell_type": "code",
   "execution_count": 16,
   "metadata": {},
   "outputs": [
    {
     "name": "stdout",
     "output_type": "stream",
     "text": [
      "Area of the Circle is : 78.5\n",
      "Area of the reactangle:  15\n"
     ]
    }
   ],
   "source": [
    "\n",
    "\n",
    "class Shape:\n",
    "\n",
    "    @abc.abstractmethod\n",
    "    def calculate_area(self):\n",
    "        pass\n",
    "\n",
    "class Rectangle(Shape):\n",
    "\n",
    "    def __init__(self,width,height):\n",
    "        self.width = width\n",
    "        self.height = height\n",
    "\n",
    "    def calculate_area(self):\n",
    "        return self.height * self.width\n",
    "    \n",
    "    \n",
    "\n",
    "\n",
    "class Circle(Shape):\n",
    "    def __init__(self,radius):\n",
    "        self.radius = radius\n",
    "\n",
    "    def calculate_area(self):\n",
    "        return 3.14*self.radius**2\n",
    "    \n",
    "# Instances of the circle and Rectangle\n",
    "circle = Circle(5)\n",
    "rectangle = Rectangle(3,5)\n",
    "\n",
    "# printing the areas of the shapes\n",
    "print(\"Area of the Circle is :\", circle.calculate_area())\n",
    "print(\"Area of the reactangle: \", rectangle.calculate_area())\n"
   ]
  },
  {
   "cell_type": "code",
   "execution_count": null,
   "metadata": {},
   "outputs": [],
   "source": []
  }
 ],
 "metadata": {
  "kernelspec": {
   "display_name": "Python 3",
   "language": "python",
   "name": "python3"
  },
  "language_info": {
   "codemirror_mode": {
    "name": "ipython",
    "version": 3
   },
   "file_extension": ".py",
   "mimetype": "text/x-python",
   "name": "python",
   "nbconvert_exporter": "python",
   "pygments_lexer": "ipython3",
   "version": "3.12.4"
  }
 },
 "nbformat": 4,
 "nbformat_minor": 2
}
