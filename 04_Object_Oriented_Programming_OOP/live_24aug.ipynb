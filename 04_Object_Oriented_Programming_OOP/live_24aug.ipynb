{
 "cells": [
  {
   "cell_type": "code",
   "execution_count": 1,
   "metadata": {},
   "outputs": [
    {
     "name": "stdout",
     "output_type": "stream",
     "text": [
      "<class 'int'>\n"
     ]
    }
   ],
   "source": [
    "# oppps >> object oriented programming system\n",
    "\n",
    "a = 5\n",
    "print(type(a))"
   ]
  },
  {
   "cell_type": "code",
   "execution_count": 2,
   "metadata": {},
   "outputs": [],
   "source": [
    "# class >> \n",
    "class Car:\n",
    "    pass"
   ]
  },
  {
   "cell_type": "code",
   "execution_count": 3,
   "metadata": {},
   "outputs": [],
   "source": [
    "class Car: #function / method\n",
    "    def accelerate (self):# self >> referance to current object/instance\n",
    "        print(\"car is accelerating because binod in sitting in the car\")"
   ]
  },
  {
   "cell_type": "code",
   "execution_count": 7,
   "metadata": {},
   "outputs": [],
   "source": [
    "ammal = Car()"
   ]
  },
  {
   "cell_type": "code",
   "execution_count": 9,
   "metadata": {},
   "outputs": [
    {
     "name": "stdout",
     "output_type": "stream",
     "text": [
      "car is accelerating because binod in sitting in the car\n"
     ]
    }
   ],
   "source": [
    "ammal.accelerate()"
   ]
  },
  {
   "cell_type": "code",
   "execution_count": 11,
   "metadata": {},
   "outputs": [
    {
     "name": "stdout",
     "output_type": "stream",
     "text": [
      "car is accelerating because binod in sitting in the car\n"
     ]
    }
   ],
   "source": [
    "ramu = Car()\n",
    "ramu.accelerate()"
   ]
  },
  {
   "cell_type": "code",
   "execution_count": null,
   "metadata": {},
   "outputs": [],
   "source": [
    "# write a class which separtes even num and odd num in a given list"
   ]
  },
  {
   "cell_type": "code",
   "execution_count": 12,
   "metadata": {},
   "outputs": [],
   "source": [
    "class operations:\n",
    "    def __init__(self, l ):\n",
    "        self.l = l\n",
    "\n",
    "    def extract_even(self):\n",
    "        l = self.l\n",
    "        l1 = []\n",
    "        for i in l:\n",
    "            if i%2== 0:\n",
    "                l1.append(i)\n",
    "        return l1\n",
    "    def extract_odd(self):\n",
    "        l = self.l\n",
    "        l1 = []\n",
    "        for i in l:\n",
    "            if i%2!= 0:\n",
    "                l.append(i)\n",
    "        return l1        "
   ]
  },
  {
   "cell_type": "code",
   "execution_count": 17,
   "metadata": {},
   "outputs": [],
   "source": [
    "ops1 =operations([1,2,3,4,5,6,7,8])"
   ]
  },
  {
   "cell_type": "code",
   "execution_count": 18,
   "metadata": {},
   "outputs": [
    {
     "data": {
      "text/plain": [
       "[2, 4, 6, 8]"
      ]
     },
     "execution_count": 18,
     "metadata": {},
     "output_type": "execute_result"
    }
   ],
   "source": [
    "ops1.extract_even()"
   ]
  },
  {
   "cell_type": "markdown",
   "metadata": {},
   "source": [
    "Write a python program to creat a person class , include attributes likes names, country and dob, implement a method to determine the persons age"
   ]
  },
  {
   "cell_type": "markdown",
   "metadata": {},
   "source": []
  },
  {
   "cell_type": "code",
   "execution_count": null,
   "metadata": {},
   "outputs": [],
   "source": [
    "from datetime import datetime\n",
    "class Person:\n",
    "    def __init__(self , name,county,dob):\n",
    "        self.name = name\n",
    "        self.country = county\n",
    "        self.dob = dob\n",
    "\n",
    "    def age_calculator(self):\n",
    "        today = 2024\n",
    "        age = today - self.dob\n"
   ]
  },
  {
   "cell_type": "code",
   "execution_count": null,
   "metadata": {},
   "outputs": [],
   "source": []
  }
 ],
 "metadata": {
  "kernelspec": {
   "display_name": "Python 3",
   "language": "python",
   "name": "python3"
  },
  "language_info": {
   "codemirror_mode": {
    "name": "ipython",
    "version": 3
   },
   "file_extension": ".py",
   "mimetype": "text/x-python",
   "name": "python",
   "nbconvert_exporter": "python",
   "pygments_lexer": "ipython3",
   "version": "3.12.4"
  }
 },
 "nbformat": 4,
 "nbformat_minor": 2
}
