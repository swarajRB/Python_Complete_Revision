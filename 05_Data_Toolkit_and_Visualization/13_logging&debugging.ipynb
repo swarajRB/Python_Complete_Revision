{
 "cells": [
  {
   "cell_type": "markdown",
   "metadata": {},
   "source": [
    "# logging and debugging "
   ]
  },
  {
   "cell_type": "code",
   "execution_count": null,
   "metadata": {},
   "outputs": [],
   "source": [
    "# debugging >> is the process of idnetifyning and fixing bugs / issues in your code\n",
    "# debuging involves >> breaking the code (checkpoint) , executing the code ,  inspecting the variable using print statement "
   ]
  },
  {
   "cell_type": "code",
   "execution_count": null,
   "metadata": {},
   "outputs": [],
   "source": [
    "def devide"
   ]
  }
 ],
 "metadata": {
  "language_info": {
   "name": "python"
  }
 },
 "nbformat": 4,
 "nbformat_minor": 2
}
