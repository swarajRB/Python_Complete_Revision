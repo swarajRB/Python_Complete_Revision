{
 "cells": [
  {
   "cell_type": "markdown",
   "metadata": {},
   "source": [
    "# Python operaters"
   ]
  },
  {
   "cell_type": "markdown",
   "metadata": {},
   "source": [
    "Operators are some keywords or symboles that are used to perform some operations or values or variables .\n",
    "\n",
    "why ?  because we want to manage , to do computation and make decision using data."
   ]
  },
  {
   "cell_type": "code",
   "execution_count": null,
   "metadata": {},
   "outputs": [],
   "source": [
    "a = 2\n",
    "b = 3"
   ]
  },
  {
   "cell_type": "markdown",
   "metadata": {},
   "source": [
    "## Arithimatic operators"
   ]
  },
  {
   "cell_type": "code",
   "execution_count": null,
   "metadata": {},
   "outputs": [],
   "source": [
    "# This is an arithimatic operator\n",
    "\n",
    "# The arithimatic operators are\n",
    "\n",
    "# Addition (+)\n",
    "# Subtraction(-)\n",
    "# multiplication(*)\n",
    "# division(/)\n",
    "# modules (%)\n",
    "# exponential(**)\n"
   ]
  },
  {
   "cell_type": "code",
   "execution_count": null,
   "metadata": {},
   "outputs": [],
   "source": [
    "a+b"
   ]
  },
  {
   "cell_type": "code",
   "execution_count": null,
   "metadata": {},
   "outputs": [],
   "source": [
    "a-b"
   ]
  },
  {
   "cell_type": "code",
   "execution_count": null,
   "metadata": {},
   "outputs": [],
   "source": [
    "a*b"
   ]
  },
  {
   "cell_type": "code",
   "execution_count": null,
   "metadata": {},
   "outputs": [],
   "source": [
    "a/b"
   ]
  },
  {
   "cell_type": "code",
   "execution_count": null,
   "metadata": {},
   "outputs": [],
   "source": [
    "2**3 # It is exponential operator ( two to the power 3)\n"
   ]
  },
  {
   "cell_type": "code",
   "execution_count": null,
   "metadata": {},
   "outputs": [],
   "source": [
    "41/4"
   ]
  },
  {
   "cell_type": "code",
   "execution_count": null,
   "metadata": {},
   "outputs": [],
   "source": [
    "41%4 #it is the modules operator which prints the remainder"
   ]
  },
  {
   "cell_type": "code",
   "execution_count": null,
   "metadata": {},
   "outputs": [],
   "source": [
    "4//3 #floor operator"
   ]
  },
  {
   "cell_type": "markdown",
   "metadata": {},
   "source": [
    "## Comparision Operetors"
   ]
  },
  {
   "cell_type": "code",
   "execution_count": null,
   "metadata": {},
   "outputs": [],
   "source": [
    "#comparision operaters >> compare two values >> Returns a boolean value\n",
    "\n",
    "2 == 2 #equals to two "
   ]
  },
  {
   "cell_type": "code",
   "execution_count": null,
   "metadata": {},
   "outputs": [],
   "source": [
    "2>3 # greater than"
   ]
  },
  {
   "cell_type": "code",
   "execution_count": null,
   "metadata": {},
   "outputs": [],
   "source": [
    "2<3 # less than"
   ]
  },
  {
   "cell_type": "code",
   "execution_count": null,
   "metadata": {},
   "outputs": [],
   "source": [
    "2!=2 #not equals to"
   ]
  },
  {
   "cell_type": "code",
   "execution_count": null,
   "metadata": {},
   "outputs": [],
   "source": [
    "2>=3 #greater than or equals to"
   ]
  },
  {
   "cell_type": "code",
   "execution_count": null,
   "metadata": {},
   "outputs": [],
   "source": [
    "2<=3 # less than or equals to"
   ]
  },
  {
   "cell_type": "markdown",
   "metadata": {},
   "source": [
    "## Logical operators"
   ]
  },
  {
   "cell_type": "code",
   "execution_count": null,
   "metadata": {},
   "outputs": [],
   "source": [
    "# there are two types of logical operators ( and, or)"
   ]
  },
  {
   "cell_type": "code",
   "execution_count": null,
   "metadata": {},
   "outputs": [],
   "source": [
    "True and True"
   ]
  },
  {
   "cell_type": "code",
   "execution_count": null,
   "metadata": {},
   "outputs": [],
   "source": [
    "True and False"
   ]
  },
  {
   "cell_type": "code",
   "execution_count": null,
   "metadata": {},
   "outputs": [],
   "source": [
    "False and True"
   ]
  },
  {
   "cell_type": "code",
   "execution_count": null,
   "metadata": {},
   "outputs": [],
   "source": [
    "False and False"
   ]
  },
  {
   "cell_type": "code",
   "execution_count": null,
   "metadata": {},
   "outputs": [],
   "source": [
    "True or True"
   ]
  },
  {
   "cell_type": "code",
   "execution_count": null,
   "metadata": {},
   "outputs": [],
   "source": [
    "True or False"
   ]
  },
  {
   "cell_type": "code",
   "execution_count": null,
   "metadata": {},
   "outputs": [],
   "source": [
    "False or True"
   ]
  },
  {
   "cell_type": "code",
   "execution_count": null,
   "metadata": {},
   "outputs": [],
   "source": [
    "False or False"
   ]
  },
  {
   "cell_type": "code",
   "execution_count": null,
   "metadata": {},
   "outputs": [],
   "source": [
    "not False"
   ]
  },
  {
   "cell_type": "code",
   "execution_count": null,
   "metadata": {},
   "outputs": [],
   "source": [
    "not True"
   ]
  },
  {
   "cell_type": "code",
   "execution_count": null,
   "metadata": {},
   "outputs": [],
   "source": []
  },
  {
   "cell_type": "markdown",
   "metadata": {},
   "source": [
    "## Assignment Operators"
   ]
  },
  {
   "cell_type": "code",
   "execution_count": null,
   "metadata": {},
   "outputs": [],
   "source": [
    "# Assignment operators are used to assign values to variables.\n",
    "\n",
    "a = 3\n",
    "a+2"
   ]
  },
  {
   "cell_type": "code",
   "execution_count": null,
   "metadata": {},
   "outputs": [],
   "source": [
    "a = a+2\n",
    "a"
   ]
  },
  {
   "cell_type": "code",
   "execution_count": null,
   "metadata": {},
   "outputs": [],
   "source": [
    "a = 4 # add and assign operators\n",
    "a +=  3 # euivalent to a = a + 3\n",
    "a"
   ]
  },
  {
   "cell_type": "code",
   "execution_count": null,
   "metadata": {},
   "outputs": [],
   "source": [
    "a = 4 # Subtract and Assign Operator\n",
    "\n",
    "a-=1 # equivalent to a = a - 2\n",
    "a"
   ]
  },
  {
   "cell_type": "code",
   "execution_count": null,
   "metadata": {},
   "outputs": [],
   "source": [
    "# multiply and assign  opwrators \n",
    "\n",
    "a = 7\n",
    "\n",
    "a *= 3 #euivalent to a = a * 3\n",
    "a "
   ]
  },
  {
   "cell_type": "code",
   "execution_count": null,
   "metadata": {},
   "outputs": [],
   "source": [
    "# devide and assign operator\n",
    "a = 21\n",
    "a /= 3 #equivalent to a = a / 3\n",
    "a"
   ]
  },
  {
   "cell_type": "markdown",
   "metadata": {},
   "source": []
  },
  {
   "cell_type": "markdown",
   "metadata": {},
   "source": [
    "## Membership operetors"
   ]
  },
  {
   "cell_type": "markdown",
   "metadata": {},
   "source": [
    "Membership operators in Python are used to test whether a value is found in a sequence, such as a string, list, tuple, set, or dictionary. \n",
    "\n",
    "There are two membership operators in \n",
    "\n",
    "(in) return true if the value is found in the sequence other wise it return false\n",
    "\n",
    "( not in ) reurn true if the value isnot found in the sequence\n"
   ]
  },
  {
   "cell_type": "code",
   "execution_count": null,
   "metadata": {},
   "outputs": [],
   "source": [
    "name = \"Swaraj\"\n",
    "print( \"S\" in name)"
   ]
  },
  {
   "cell_type": "code",
   "execution_count": null,
   "metadata": {},
   "outputs": [],
   "source": [
    "a = \"raj\"\n",
    "\"ra\" in a"
   ]
  },
  {
   "cell_type": "code",
   "execution_count": null,
   "metadata": {},
   "outputs": [],
   "source": [
    "\"h\" in name"
   ]
  },
  {
   "cell_type": "code",
   "execution_count": null,
   "metadata": {},
   "outputs": [],
   "source": [
    "\"g\" not in name"
   ]
  },
  {
   "cell_type": "code",
   "execution_count": null,
   "metadata": {},
   "outputs": [],
   "source": [
    "# List\n",
    "fruits = [\"apple\", \"banana\", \"cherry\"]\n",
    "print(\"banana\" in fruits)  # Output: True\n",
    "\n",
    "# String\n",
    "text = \"Hello, world!\"\n",
    "print(\"world\" in text)  # Output: True\n",
    "\n",
    "# Dictionary\n",
    "student_grades = {\"John\": \"A\", \"Jane\": \"B\"}\n",
    "print(\"John\" in student_grades)  # Output: True\n"
   ]
  },
  {
   "cell_type": "code",
   "execution_count": null,
   "metadata": {},
   "outputs": [],
   "source": [
    "# List\n",
    "fruits = [\"apple\", \"banana\", \"cherry\"]\n",
    "print(\"grape\" not in fruits)  # Output: True\n",
    "\n",
    "# String\n",
    "text = \"Hello, world!\"\n",
    "print(\"Python\" not in text)  # Output: True\n",
    "\n",
    "# Dictionary\n",
    "student_grades = {\"John\": \"A\", \"Jane\": \"B\"}\n",
    "print(\"Mike\" not in student_grades)  # Output: True\n"
   ]
  },
  {
   "cell_type": "markdown",
   "metadata": {},
   "source": [
    "## identity operetors"
   ]
  },
  {
   "cell_type": "code",
   "execution_count": null,
   "metadata": {},
   "outputs": [],
   "source": [
    "# two types \" is \", \" is not\"# identity operators >>compares the memory location>> two variable\n"
   ]
  },
  {
   "cell_type": "code",
   "execution_count": null,
   "metadata": {},
   "outputs": [],
   "source": [
    "a=1\n",
    "b=5\n",
    "\n",
    "print(a is b) # returns false because a and b are diffrent memory location\n",
    "\n",
    "print(a is not b) # returns true because a and b are diffrent memory location"
   ]
  },
  {
   "cell_type": "code",
   "execution_count": null,
   "metadata": {},
   "outputs": [],
   "source": [
    "# Comparing identical objects by : is\n",
    "a = [1, 2, 3]\n",
    "b = a\n",
    "print(a is b)  # Output: True, because both 'a' and 'b' point to the same list object\n",
    "\n",
    "# Comparing different objects with the same content\n",
    "c = [1, 2, 3]\n",
    "print(a is c)  # Output: False, because 'a' and 'c' are different objects in memory\n"
   ]
  },
  {
   "cell_type": "code",
   "execution_count": null,
   "metadata": {},
   "outputs": [],
   "source": [
    "# Comparing identical objects by > \" is not \"\n",
    "a = [1, 2, 3]\n",
    "b = a\n",
    "print(a is not b)  # Output: False, because both 'a' and 'b' point to the same list object\n",
    "\n",
    "# Comparing different objects with the same content\n",
    "c = [1, 2, 3]\n",
    "print(a is not c)  # Output: True, because 'a' and 'c' are different objects in memory\n"
   ]
  },
  {
   "cell_type": "markdown",
   "metadata": {},
   "source": [
    "## Bitwise operation\n"
   ]
  },
  {
   "cell_type": "markdown",
   "metadata": {},
   "source": [
    "Bitwise operations in Python are used to perform operations on binary representations of integers. These operations work directly on the bits of the numbers. The main bitwise operators in Python are:\n",
    "\n",
    "AND (&): Sets each bit to 1 if both bits are 1.\n",
    "\n",
    "OR (|): Sets each bit to 1 if one of two bits is 1.\n",
    "\n",
    "\n",
    "XOR (^): Sets each bit to 1 if only one of two bits is 1.\n",
    "\n",
    "NOT (~): Inverts all the bits.\n",
    "\n",
    "Left Shift (<<): Shifts bits to the left by the specified number of positions.\n",
    "\n",
    "Right Shift (>>): Shifts bits to the right by the specified number of positions\n"
   ]
  },
  {
   "cell_type": "code",
   "execution_count": null,
   "metadata": {},
   "outputs": [],
   "source": [
    "2 & 3"
   ]
  },
  {
   "cell_type": "code",
   "execution_count": null,
   "metadata": {},
   "outputs": [],
   "source": [
    "bin(2)"
   ]
  },
  {
   "cell_type": "code",
   "execution_count": null,
   "metadata": {},
   "outputs": [],
   "source": [
    "2&4"
   ]
  },
  {
   "cell_type": "code",
   "execution_count": null,
   "metadata": {},
   "outputs": [],
   "source": [
    "3&6"
   ]
  },
  {
   "cell_type": "code",
   "execution_count": null,
   "metadata": {},
   "outputs": [],
   "source": [
    "4|2"
   ]
  },
  {
   "cell_type": "code",
   "execution_count": null,
   "metadata": {},
   "outputs": [],
   "source": [
    "bin(6)"
   ]
  },
  {
   "cell_type": "code",
   "execution_count": null,
   "metadata": {},
   "outputs": [],
   "source": [
    "18 & 3"
   ]
  },
  {
   "cell_type": "code",
   "execution_count": null,
   "metadata": {},
   "outputs": [],
   "source": [
    "bin(3)"
   ]
  },
  {
   "cell_type": "code",
   "execution_count": null,
   "metadata": {},
   "outputs": [],
   "source": [
    "a = 5    # 0b0101\n",
    "b = 3    # 0b0011\n",
    "result = a & b  # 0b0001\n",
    "print(result)  # Output: 1\n",
    "\n",
    "\n",
    "\n",
    "a = 5    # 0b0101\n",
    "b = 3    # 0b0011\n",
    "result = a | b  # 0b0111\n",
    "print(result)  # Output: 7\n"
   ]
  },
  {
   "cell_type": "code",
   "execution_count": null,
   "metadata": {},
   "outputs": [],
   "source": [
    "a = 5    # 0b0101\n",
    "result = ~a     # 0b1010 (2's complement)\n",
    "print(result)   # Output: -6\n"
   ]
  },
  {
   "cell_type": "code",
   "execution_count": null,
   "metadata": {},
   "outputs": [],
   "source": [
    "# xor ^\n",
    "\n",
    "a = 5    # 0b0101\n",
    "b = 3    # 0b0011\n",
    "result = a ^ b  # 0b0110\n",
    "print(result)  # Output: 6\n"
   ]
  },
  {
   "cell_type": "code",
   "execution_count": null,
   "metadata": {},
   "outputs": [],
   "source": [
    "#Left Shift (<<)\n",
    "a = 5    # 0b0101\n",
    "result = a << 1  # 0b1010\n",
    "print(result)    # Output: 10\n",
    "\n",
    "# Right Shift (>>)\n",
    "\n",
    "a = 5    # 0b0101\n",
    "result = a >> 1  # 0b0010\n",
    "print(result)    # Output: 2\n"
   ]
  },
  {
   "cell_type": "markdown",
   "metadata": {},
   "source": [
    "# Order of precedence\n"
   ]
  },
  {
   "cell_type": "markdown",
   "metadata": {},
   "source": [
    "| Precedence | Operators                                             | Description                                                                 |\n",
    "|------------|-------------------------------------------------------|-----------------------------------------------------------------------------|\n",
    "| 1          | `()`                                                  | Parentheses                                                                 |\n",
    "| 2          | `**`                                                  | Exponentiation                                                              |\n",
    "| 3          | `+x`, `-x`, `~x`                                      | Unary plus, Unary minus, Bitwise NOT                                        |\n",
    "| 4          | `*`, `/`, `//`, `%`                                   | Multiplication, Division, Floor division, Modulus                           |\n",
    "| 5          | `+`, `-`                                              | Addition, Subtraction                                                       |\n",
    "| 6          | `<<`, `>>`                                            | Bitwise shift operators                                                     |\n",
    "| 7          | `&`                                                   | Bitwise AND                                                                 |\n",
    "| 8          | `^`                                                   | Bitwise XOR                                                                 |\n",
    "| 9          | `|`                                                   | Bitwise OR                                                                  |\n",
    "| 10         | `==`, `!=`, `>`, `<`, `>=`, `<=`, `is`, `is not`, `in`, `not in` | Comparisons, Identity, Membership operators                        |\n",
    "| 11         | `not`                                                 | Boolean NOT                                                                 |\n",
    "| 12         | `and`                                                 | Boolean AND                                                                 |\n",
    "| 13         | `or`                                                  | Boolean OR                                                                  |\n",
    "| 14         | `if - else`                                           | Conditional expression                                                      |\n",
    "| 15         | `lambda`                                              | Lambda expression                                                           |\n"
   ]
  }
 ],
 "metadata": {
  "kernelspec": {
   "display_name": "Python 3",
   "language": "python",
   "name": "python3"
  },
  "language_info": {
   "codemirror_mode": {
    "name": "ipython",
    "version": 3
   },
   "file_extension": ".py",
   "mimetype": "text/x-python",
   "name": "python",
   "nbconvert_exporter": "python",
   "pygments_lexer": "ipython3",
   "version": "3.12.4"
  }
 },
 "nbformat": 4,
 "nbformat_minor": 2
}
