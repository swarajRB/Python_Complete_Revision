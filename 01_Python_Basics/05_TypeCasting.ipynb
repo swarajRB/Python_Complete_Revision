{
 "cells": [
  {
   "cell_type": "markdown",
   "metadata": {},
   "source": [
    "# Type Casting"
   ]
  },
  {
   "cell_type": "markdown",
   "metadata": {},
   "source": [
    "To cast or convert a data type in Python, you can use built-in functions such as int(), float(), str(), and others."
   ]
  },
  {
   "cell_type": "code",
   "execution_count": 7,
   "metadata": {},
   "outputs": [],
   "source": [
    "# type caasting / type conversion  >>> The procss of changing a data type  of a values /object from one to another \n",
    "# why >> while executing/compting using operators , there can be mismatch between the data type "
   ]
  },
  {
   "cell_type": "code",
   "execution_count": 8,
   "metadata": {},
   "outputs": [
    {
     "name": "stdout",
     "output_type": "stream",
     "text": [
      "<class 'str'>\n",
      "<class 'int'>\n",
      "5\n"
     ]
    }
   ],
   "source": [
    "a = \"2\"\n",
    "b = 3\n",
    "print(type(a))\n",
    "# Here you can not add \"a\" with \"b\" , >> \"a\" is a string here .\n",
    "\n",
    "# we need to change tyhe type of \"a\" .\n",
    "\n",
    "a = int(a) # changing the type of a from \"str\" to \"int\" .\n",
    "print(type(a))\n",
    "print(a+b)"
   ]
  },
  {
   "cell_type": "code",
   "execution_count": 9,
   "metadata": {},
   "outputs": [
    {
     "name": "stdout",
     "output_type": "stream",
     "text": [
      "<class 'float'>\n",
      "7\n",
      "<class 'int'>\n",
      "<class 'int'>\n",
      "<class 'float'>\n"
     ]
    }
   ],
   "source": [
    "a = 7.2\n",
    "print(type(a))\n",
    "\n",
    "# you can also type of floate into intiger and vice versa\n",
    "a =(int(a))\n",
    "print(a)\n",
    "print(type(a))\n",
    "\n",
    "\n",
    "# float to integer\n",
    "b = 3\n",
    "print(type(b))\n",
    "b = float(b)\n",
    "print(type(b))"
   ]
  },
  {
   "cell_type": "code",
   "execution_count": 10,
   "metadata": {},
   "outputs": [
    {
     "name": "stdout",
     "output_type": "stream",
     "text": [
      "<class 'str'>\n",
      "35.3\n",
      "<class 'float'>\n"
     ]
    }
   ],
   "source": [
    "# string to float \n",
    "\n",
    "c = \" 35.3 \"\n",
    "print(type(c))\n",
    "\n",
    "c = float(c)\n",
    "print(c)\n",
    "print(type(c))\n",
    "\n",
    "# characters cant not change into integers\n",
    "## you can only change the type of string into float or integer if the string is only in the form of number in the string"
   ]
  },
  {
   "cell_type": "code",
   "execution_count": 11,
   "metadata": {},
   "outputs": [
    {
     "name": "stdout",
     "output_type": "stream",
     "text": [
      " swaraj  ranjan \n"
     ]
    }
   ],
   "source": [
    "## concatination of string>> combinatin of string\n",
    "\n",
    "name1 = \" swaraj \"\n",
    "name2 = \" ranjan \"\n",
    "\n",
    "print( name1 + name2 )"
   ]
  },
  {
   "cell_type": "code",
   "execution_count": 12,
   "metadata": {},
   "outputs": [
    {
     "name": "stdout",
     "output_type": "stream",
     "text": [
      "False\n",
      "True\n",
      "True\n",
      "False\n"
     ]
    }
   ],
   "source": [
    "# bool\n",
    "print(bool(0))\n",
    "\n",
    "print(bool(1))\n",
    "print(bool(\"swaraj\"))\n",
    "\n",
    "# anything that is other than \"0\" will give true and \"0\" give false in bool type \n",
    "\n",
    "print(bool(\"\")) # it will give false because it is an empty srting means nothing means zero , zero means false"
   ]
  }
 ],
 "metadata": {
  "kernelspec": {
   "display_name": "Python 3",
   "language": "python",
   "name": "python3"
  },
  "language_info": {
   "codemirror_mode": {
    "name": "ipython",
    "version": 3
   },
   "file_extension": ".py",
   "mimetype": "text/x-python",
   "name": "python",
   "nbconvert_exporter": "python",
   "pygments_lexer": "ipython3",
   "version": "3.12.4"
  }
 },
 "nbformat": 4,
 "nbformat_minor": 2
}
