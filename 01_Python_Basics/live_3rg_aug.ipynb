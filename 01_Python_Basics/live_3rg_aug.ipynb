{
 "cells": [
  {
   "cell_type": "code",
   "execution_count": 1,
   "metadata": {},
   "outputs": [
    {
     "name": "stdout",
     "output_type": "stream",
     "text": [
      "go for a date\n"
     ]
    }
   ],
   "source": [
    "# conditional \n",
    "\n",
    "gf_happy= True\n",
    "print ( \"go for a date\")"
   ]
  },
  {
   "cell_type": "code",
   "execution_count": 2,
   "metadata": {},
   "outputs": [
    {
     "name": "stdout",
     "output_type": "stream",
     "text": [
      " i have beer\n"
     ]
    }
   ],
   "source": [
    "beer = True\n",
    "print (\" i have beer\")"
   ]
  },
  {
   "cell_type": "code",
   "execution_count": 3,
   "metadata": {},
   "outputs": [],
   "source": [
    "year =int(input(\"Enter the year\"))\n",
    "\n",
    "if year % 4 ==0:\n",
    "    if year %4 == 0:\n",
    "        if year %4 == 0:\n",
    "            print(\"this is a leap year\")\n",
    "        else:\n",
    "            print(\"this is not a lep yr\")\n",
    "    else:\n",
    "        print(\"this is not a lep yr\")\n",
    "else:\n",
    "    print(\"this is not a lep yr\")\n",
    "\n",
    " "
   ]
  },
  {
   "cell_type": "code",
   "execution_count": null,
   "metadata": {},
   "outputs": [],
   "source": [
    "is_vip = True\n",
    "age = int(input(\"Enter your age : \"))\n",
    "if is_vip:\n",
    "    if age>=18:\n",
    "        if age < 65:\n",
    "            print(\"welcome to vip costumer\")\n",
    "        else:\n",
    "            print(\"You are a vip , elegible for senior citizen discountand\")\n",
    "    else:\n",
    "        print(\"vip statusis only for adults\")\n",
    "else:\n",
    "    print(\"You are not vip and will be charged as normal rate\")\n",
    "\n"
   ]
  },
  {
   "cell_type": "code",
   "execution_count": null,
   "metadata": {},
   "outputs": [],
   "source": [
    "age = int(input\"Enter your age\")\n",
    "\n",
    "\n",
    "if age >70:\n",
    "    print(\"You are a\")"
   ]
  },
  {
   "cell_type": "code",
   "execution_count": null,
   "metadata": {},
   "outputs": [],
   "source": [
    "# print a pyramid\n",
    "# inverted pyramid\n",
    "# hollow pyramid\n",
    "\n",
    "# watch data structure"
   ]
  }
 ],
 "metadata": {
  "kernelspec": {
   "display_name": "Python 3",
   "language": "python",
   "name": "python3"
  },
  "language_info": {
   "codemirror_mode": {
    "name": "ipython",
    "version": 3
   },
   "file_extension": ".py",
   "mimetype": "text/x-python",
   "name": "python",
   "nbconvert_exporter": "python",
   "pygments_lexer": "ipython3",
   "version": "3.12.4"
  }
 },
 "nbformat": 4,
 "nbformat_minor": 2
}
