{
 "cells": [
  {
   "cell_type": "markdown",
   "metadata": {},
   "source": [
    "# Conditional statement\n"
   ]
  },
  {
   "cell_type": "markdown",
   "metadata": {},
   "source": [
    "\n",
    "Conditionals in Python are used to execute certain pieces of code based on whether a condition is true or false.\n",
    "\n",
    " The primary conditional statements in Python are if, elif, and else.\n",
    "\n",
    " 1. if\n",
    " 2. if - else\n",
    " 3. if - elif(else if) - else\n",
    " 4. nested\n",
    "\n"
   ]
  },
  {
   "cell_type": "code",
   "execution_count": null,
   "metadata": {},
   "outputs": [],
   "source": [
    "# conditional statement >> help s to code decision based on the pre defined conditions\n",
    "\n",
    "# exx - i will go to paly cricket if the weather is clear else i will sleep"
   ]
  },
  {
   "cell_type": "markdown",
   "metadata": {},
   "source": [
    "## if statement\n",
    "The if statement allows you to execute a block of code only if a specified condition is true.\n",
    "\n"
   ]
  },
  {
   "cell_type": "code",
   "execution_count": 1,
   "metadata": {},
   "outputs": [],
   "source": [
    "# if statement;\n",
    "# syntax\n",
    "\n",
    "# if the condition is true :\n",
    "#     the code will be executed"
   ]
  },
  {
   "cell_type": "code",
   "execution_count": null,
   "metadata": {},
   "outputs": [],
   "source": [
    "a = 23\n",
    "if a < 100 :\n",
    "    print(\"The number is less than 100\") "
   ]
  },
  {
   "cell_type": "code",
   "execution_count": null,
   "metadata": {},
   "outputs": [],
   "source": [
    "weather = \"sunny\"\n",
    "if weather == \"sunny\" :\n",
    "    print(\" iwill go to play cricket\")"
   ]
  },
  {
   "cell_type": "code",
   "execution_count": null,
   "metadata": {},
   "outputs": [],
   "source": [
    "weather = \"rainny\"\n",
    "if weather == \"sunny\" :\n",
    "    print(\" iwill go to play cricket\")\n",
    "    # it will not retun anything because the weather is not sunny"
   ]
  },
  {
   "cell_type": "code",
   "execution_count": null,
   "metadata": {},
   "outputs": [],
   "source": [
    "x = 10\n",
    "\n",
    "if x > 5:\n",
    "    print(\"x is greater than 5\")\n"
   ]
  },
  {
   "cell_type": "code",
   "execution_count": null,
   "metadata": {},
   "outputs": [],
   "source": [
    "tem = 30\n",
    "if tem < 35:\n",
    "    print(\"it is room temperature\")"
   ]
  },
  {
   "cell_type": "code",
   "execution_count": null,
   "metadata": {},
   "outputs": [],
   "source": []
  },
  {
   "cell_type": "code",
   "execution_count": null,
   "metadata": {},
   "outputs": [],
   "source": [
    "mark =90\n",
    "\n",
    "if (mark >= 90):\n",
    "    print(\" You are excellent\") "
   ]
  },
  {
   "cell_type": "code",
   "execution_count": null,
   "metadata": {},
   "outputs": [],
   "source": [
    "num = 20\n",
    "if (num % 2 == 0) and (num > 0) :\n",
    "    print(\"This is the number of intresst\")"
   ]
  },
  {
   "cell_type": "code",
   "execution_count": null,
   "metadata": {},
   "outputs": [],
   "source": [
    "mark =90\n",
    "co_cur = True\n",
    "if (mark >= 90)and(co_cur is True):\n",
    "    print(\" You are all rounder\") "
   ]
  },
  {
   "cell_type": "code",
   "execution_count": null,
   "metadata": {},
   "outputs": [],
   "source": [
    "mark =90\n",
    "co_cur = True\n",
    "if (mark >= 90)and(co_cur is True):\n",
    "    print(\" You are all rounder\") "
   ]
  },
  {
   "cell_type": "markdown",
   "metadata": {},
   "source": [
    "## if else - statement."
   ]
  },
  {
   "cell_type": "code",
   "execution_count": null,
   "metadata": {},
   "outputs": [],
   "source": [
    "# The else statement can be combined with an if statement to execute a block of code if the condition is False. \n",
    "\n",
    "# if condition: \n",
    "    # block of code to be executed if the condition is true\n",
    "# else:\n",
    "    # block of code to be executed if the condition is false "
   ]
  },
  {
   "cell_type": "code",
   "execution_count": null,
   "metadata": {},
   "outputs": [],
   "source": [
    "age = 17\n",
    "\n",
    "if age >= 18:\n",
    "    print(\"You are an adult.\")\n",
    "else:\n",
    "    print(\"You are a minor.\")\n"
   ]
  },
  {
   "cell_type": "code",
   "execution_count": null,
   "metadata": {},
   "outputs": [],
   "source": [
    "age  = int(input(\"Enter your Age: \"))\n",
    "\n",
    "if age >= 18 :\n",
    "    print (\"Weolcome to the bar and have a drink.\")\n",
    "else:\n",
    "    print(\"Get out from here.\")\n",
    "\n"
   ]
  },
  {
   "cell_type": "code",
   "execution_count": null,
   "metadata": {},
   "outputs": [],
   "source": [
    "weather = \"sunny\""
   ]
  },
  {
   "cell_type": "code",
   "execution_count": null,
   "metadata": {},
   "outputs": [],
   "source": [
    "# Prompt the user for input\n",
    "user_input = input(\"Enter a number: \")\n",
    "\n",
    "# Convert the input to an integer\n",
    "number = int(user_input)\n",
    "\n",
    "# Use if-else to check the number and print the result\n",
    "if number > 0:\n",
    "    print(\"The number is positive.\")\n",
    "elif number < 0:\n",
    "    print(\"The number is negative.\")\n",
    "else:\n",
    "    print(\"The number is zero.\")\n"
   ]
  },
  {
   "cell_type": "code",
   "execution_count": null,
   "metadata": {},
   "outputs": [],
   "source": [
    "mark =90\n",
    "co_cur =True\n",
    "if ( 80<mark >= 90)and (co_cur is False) :\n",
    "    print(\" You are all Excellent\") \n",
    "elif (mark>=90) and (co_cur is True) :\n",
    "    print(\"YOu are all runder\")\n",
    "else :\n",
    "    print(\" try again\")"
   ]
  },
  {
   "cell_type": "code",
   "execution_count": null,
   "metadata": {},
   "outputs": [],
   "source": [
    "weather = input (\"What is the weather condition \")\n",
    "\n",
    "if weather == \"sunny\" :\n",
    "    print(\"I will play crickrt\")\n",
    "else:\n",
    "    print(\"I will watch TV\")"
   ]
  },
  {
   "cell_type": "code",
   "execution_count": null,
   "metadata": {},
   "outputs": [],
   "source": [
    "num = int(input(\"Enter a number :\"))\n",
    "\n",
    "if num%2==0:\n",
    "    print(f\"{num} is an even number.\")\n",
    "else:\n",
    "    print(f\"{num} is an odd number\")"
   ]
  },
  {
   "cell_type": "markdown",
   "metadata": {},
   "source": [
    "## elif statement\n",
    "In Python, elif is used in conditional statements to check multiple expressions for True and execute a block of code as soon as one of the conditions is true. \n",
    "It's a shorthand for \"else if.\"\n",
    "\n",
    "\n",
    "stntax\n",
    "\n",
    "if condition1:\n",
    "\n",
    "        Code to execute if condition1 is true\n",
    "\n",
    "elif condition2:\n",
    "\n",
    "        Code to execute if condition2 is true\n",
    "\n",
    "elif condition3:\n",
    "\n",
    "        Code to execute if condition3 is true\n",
    "    \n",
    "else:\n",
    "\n",
    "        Code to execute if none of the conditions above are true\n"
   ]
  },
  {
   "cell_type": "code",
   "execution_count": null,
   "metadata": {},
   "outputs": [],
   "source": [
    "#if condition1:\n",
    "    # Code to execute if condition1 is true\n",
    "#elif condition2:\n",
    "    # Code to execute if condition2 is true\n",
    "#elif condition3:\n",
    "    # Code to execute if condition3 is true\n",
    "#else:\n",
    "    # Code to execute if none of the conditions above are true\n"
   ]
  },
  {
   "cell_type": "code",
   "execution_count": null,
   "metadata": {},
   "outputs": [],
   "source": [
    "age = int(input(\"Enter your age\"))\n",
    "\n",
    "if age < 18 :\n",
    "    print(\"You are a minor\")\n",
    "elif age < 65:\n",
    "    print(\"You are an an adult\")\n",
    "\n",
    "else :\n",
    "    print(\"You are a seniorcitizen\")"
   ]
  },
  {
   "cell_type": "code",
   "execution_count": null,
   "metadata": {},
   "outputs": [],
   "source": [
    "score = int(input(\"Enter your mark : \"))\n",
    "\n",
    "if (100<score>=90):\n",
    "    print(\"Your grade is A+\")\n",
    "elif (90>=score<80):\n",
    "    print(\"Your grade is A\")\n",
    "elif(80>score>70):\n",
    "    print(\"Your grade is B+\")\n",
    "else :\n",
    "    print(\"Your grade is B\")"
   ]
  },
  {
   "cell_type": "markdown",
   "metadata": {},
   "source": [
    "## Nested \"if\"\n",
    "\n",
    "\n",
    "Nested if statements in Python are if statements placed inside other if statements. \n",
    "This allows you to check for multiple conditions and execute code accordingly.\n",
    "\n",
    "Here's the syntax for nested if statements"
   ]
  },
  {
   "cell_type": "code",
   "execution_count": null,
   "metadata": {},
   "outputs": [],
   "source": [
    "# if condition1:\n",
    "    # Code to execute if condition1 is true\n",
    "    # if condition2:\n",
    "        # Code to execute if condition1 and condition2 are true\n",
    "    # else:\n",
    "        # Code to execute if condition1 is true but condition2 is false\n",
    "# else:\n",
    "    # Code to execute if condition1 is false\n"
   ]
  },
  {
   "cell_type": "code",
   "execution_count": null,
   "metadata": {},
   "outputs": [],
   "source": [
    "number = 10\n",
    "\n",
    "if number > 0:\n",
    "    print(\"The number is positive.\")\n",
    "    if number % 2 == 0:\n",
    "        print(\"The number is even.\")\n",
    "    else:\n",
    "        print(\"The number is odd.\")\n",
    "else:\n",
    "    print(\"The number is not positive.\")\n"
   ]
  },
  {
   "cell_type": "code",
   "execution_count": null,
   "metadata": {},
   "outputs": [],
   "source": [
    "is_vip = True\n",
    "age = int(input(\"Enter your age : \"))\n",
    "if is_vip:\n",
    "    if age>=18:\n",
    "        if age < 65:\n",
    "            print(\"welcome to vip costumer\")\n",
    "        else:\n",
    "            print(\"You are a vip , elegible for senior citizen discountand\")\n",
    "    else:\n",
    "        print(\"vip statusis only for adults\")\n",
    "else:\n",
    "    print(\"You are not vip and will be charged as normal rate\")\n",
    "\n"
   ]
  },
  {
   "cell_type": "code",
   "execution_count": null,
   "metadata": {},
   "outputs": [],
   "source": [
    "name = input(\"Enter Your name: \")\n",
    "email = input(\"Enter Your email: \")\n",
    "password = input(\"Enter Your Password: \")\n",
    "\n",
    "\n",
    "if name == \"\" :\n",
    "    print(\"Please enter your name, can not be empty\")\n",
    "else: \n",
    "    if \"@\" not in email:\n",
    "        print (\"Please enter a valid email\")\n",
    "    else:\n",
    "        if len(password) <0 :\n",
    "            print(\"enter a valid password\")\n",
    "        else :\n",
    "            print(\"login sucessfull\")"
   ]
  },
  {
   "cell_type": "code",
   "execution_count": null,
   "metadata": {},
   "outputs": [],
   "source": []
  }
 ],
 "metadata": {
  "kernelspec": {
   "display_name": "Python 3",
   "language": "python",
   "name": "python3"
  },
  "language_info": {
   "codemirror_mode": {
    "name": "ipython",
    "version": 3
   },
   "file_extension": ".py",
   "mimetype": "text/x-python",
   "name": "python",
   "nbconvert_exporter": "python",
   "pygments_lexer": "ipython3",
   "version": "3.12.4"
  }
 },
 "nbformat": 4,
 "nbformat_minor": 2
}
