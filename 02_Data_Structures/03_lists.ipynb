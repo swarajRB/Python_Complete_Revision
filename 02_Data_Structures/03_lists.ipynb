{
 "cells": [
  {
   "cell_type": "markdown",
   "metadata": {},
   "source": [
    "lists are orderd colletions if items\n",
    "\n",
    "square braccet- []\n",
    "\n",
    "list are like shopping bags which can store everything"
   ]
  },
  {
   "cell_type": "code",
   "execution_count": 1,
   "metadata": {},
   "outputs": [
    {
     "data": {
      "text/plain": [
       "list"
      ]
     },
     "execution_count": 1,
     "metadata": {},
     "output_type": "execute_result"
    }
   ],
   "source": [
    "type([])"
   ]
  },
  {
   "cell_type": "code",
   "execution_count": 2,
   "metadata": {},
   "outputs": [
    {
     "name": "stdout",
     "output_type": "stream",
     "text": [
      "['milk', 'orange', 1, 1.3, (4+3j)]\n",
      "<class 'list'>\n"
     ]
    }
   ],
   "source": [
    "grocery_list=[\"milk\", \"orange\",1,1.3, 3j+4]\n",
    "print(grocery_list)\n",
    "print(type(grocery_list))"
   ]
  },
  {
   "cell_type": "code",
   "execution_count": 3,
   "metadata": {},
   "outputs": [
    {
     "name": "stdout",
     "output_type": "stream",
     "text": [
      "milk\n"
     ]
    }
   ],
   "source": [
    "# lists are mutable \n",
    "print(grocery_list[0])"
   ]
  },
  {
   "cell_type": "code",
   "execution_count": 4,
   "metadata": {},
   "outputs": [
    {
     "data": {
      "text/plain": [
       "(4+3j)"
      ]
     },
     "execution_count": 4,
     "metadata": {},
     "output_type": "execute_result"
    }
   ],
   "source": [
    "grocery_list[-1]"
   ]
  },
  {
   "cell_type": "code",
   "execution_count": 5,
   "metadata": {},
   "outputs": [
    {
     "data": {
      "text/plain": [
       "['orange', 1, 1.3, (4+3j)]"
      ]
     },
     "execution_count": 5,
     "metadata": {},
     "output_type": "execute_result"
    }
   ],
   "source": [
    "grocery_list[1:]"
   ]
  },
  {
   "cell_type": "code",
   "execution_count": 6,
   "metadata": {},
   "outputs": [
    {
     "data": {
      "text/plain": [
       "['orange', 1, 1.3]"
      ]
     },
     "execution_count": 6,
     "metadata": {},
     "output_type": "execute_result"
    }
   ],
   "source": [
    "grocery_list[1:4]"
   ]
  },
  {
   "cell_type": "code",
   "execution_count": 7,
   "metadata": {},
   "outputs": [
    {
     "name": "stdout",
     "output_type": "stream",
     "text": [
      "['action', 'thriller', 'comedy', 'drama']\n"
     ]
    }
   ],
   "source": [
    "movies= [\"action\", \"thriller\", \"comedy\",\"drama\"]\n",
    "print(movies)"
   ]
  },
  {
   "cell_type": "code",
   "execution_count": 8,
   "metadata": {},
   "outputs": [
    {
     "name": "stdout",
     "output_type": "stream",
     "text": [
      "['action', 'thriller', 'comedy']\n"
     ]
    }
   ],
   "source": [
    "print(movies[0:3])"
   ]
  },
  {
   "cell_type": "code",
   "execution_count": 9,
   "metadata": {},
   "outputs": [],
   "source": [
    "pages=[\"titlepage\",'chapter1',\"chap2\",\"chap3\",\"consludion\",'index']"
   ]
  },
  {
   "cell_type": "code",
   "execution_count": 10,
   "metadata": {},
   "outputs": [
    {
     "name": "stdout",
     "output_type": "stream",
     "text": [
      "index\n"
     ]
    }
   ],
   "source": [
    "print(pages[-1])"
   ]
  },
  {
   "cell_type": "code",
   "execution_count": 11,
   "metadata": {},
   "outputs": [
    {
     "name": "stdout",
     "output_type": "stream",
     "text": [
      "ranjan\n",
      "sanjay\n"
     ]
    }
   ],
   "source": [
    "que=[\"ajay\",\"bijay\",\"sanjay\",\"ranjan\"]\n",
    "print(que[-1])\n",
    "print(que[-2])"
   ]
  },
  {
   "cell_type": "code",
   "execution_count": 12,
   "metadata": {},
   "outputs": [
    {
     "name": "stdout",
     "output_type": "stream",
     "text": [
      "<class 'list'>\n",
      "['apple', 'banana', 'orange']\n"
     ]
    }
   ],
   "source": [
    "l1=[\"apple\",\"banana\"]\n",
    "print(type(l1))\n",
    "l1.append(\"orange\")\n",
    "print(l1)"
   ]
  },
  {
   "cell_type": "code",
   "execution_count": 13,
   "metadata": {},
   "outputs": [
    {
     "name": "stdout",
     "output_type": "stream",
     "text": [
      "['sare jahan se achha', 'ae mere batan ke logo', 'dj song']\n"
     ]
    }
   ],
   "source": [
    "#use cases\n",
    "playlist=[]\n",
    "playlist.append(\"sare jahan se achha\")\n",
    "playlist.append(\"ae mere batan ke logo\")\n",
    "playlist.append(\"dj song\")\n",
    "print(playlist)"
   ]
  },
  {
   "cell_type": "code",
   "execution_count": 14,
   "metadata": {},
   "outputs": [
    {
     "name": "stdout",
     "output_type": "stream",
     "text": [
      "['book1', 'book2']\n"
     ]
    }
   ],
   "source": [
    "booksehelf=[]\n",
    "booksehelf.append(\"book1\")\n",
    "booksehelf.append(\"book2\")\n",
    "print(booksehelf)"
   ]
  },
  {
   "cell_type": "code",
   "execution_count": 15,
   "metadata": {},
   "outputs": [
    {
     "name": "stdout",
     "output_type": "stream",
     "text": [
      "['brinjal', 'banana', 'orange']\n"
     ]
    }
   ],
   "source": [
    "l1[0] =\"brinjal\"\n",
    "print(l1)\n",
    "\n",
    "# this proves that list is  mutable"
   ]
  },
  {
   "cell_type": "code",
   "execution_count": 16,
   "metadata": {},
   "outputs": [
    {
     "name": "stdout",
     "output_type": "stream",
     "text": [
      "['brinjal', 'potato', 'banana', 'orange']\n"
     ]
    }
   ],
   "source": [
    "l1.insert(1,\"potato\") #inserts the element before the index\n",
    "print(l1)"
   ]
  },
  {
   "cell_type": "code",
   "execution_count": 17,
   "metadata": {},
   "outputs": [
    {
     "name": "stdout",
     "output_type": "stream",
     "text": [
      "['swaraj', 'bayani', 'baya', 'bhai']\n"
     ]
    }
   ],
   "source": [
    "# use case \n",
    "bus_seat = [\"swaraj\",\"bayani\",\"bhai\"]\n",
    "bus_seat.insert(2,\"baya\")\n",
    "print(bus_seat)"
   ]
  },
  {
   "cell_type": "code",
   "execution_count": 18,
   "metadata": {},
   "outputs": [
    {
     "name": "stdout",
     "output_type": "stream",
     "text": [
      "['apple', 'orange', 'banana', 'potato', 'tomato', 'brinjal']\n"
     ]
    }
   ],
   "source": [
    "# extend >>> usd to append element from another list\n",
    "\n",
    "friut_list = [\"apple\",\"orange\",\"banana\"]\n",
    "veg_list = [\"potato\",\"tomato\",\"brinjal\"]\n",
    "\n",
    "friut_list.extend(veg_list)\n",
    "\n",
    "print(friut_list)"
   ]
  },
  {
   "cell_type": "code",
   "execution_count": 19,
   "metadata": {},
   "outputs": [
    {
     "name": "stdout",
     "output_type": "stream",
     "text": [
      "['potato', 'tomato', 'brinjal', 'apple', 'orange', 'banana']\n"
     ]
    }
   ],
   "source": [
    "# we can samely extend the 2nd list to the 1st\n",
    "\n",
    "friut_list = [\"apple\",\"orange\",\"banana\"]\n",
    "veg_list = [\"potato\",\"tomato\",\"brinjal\"]\n",
    "\n",
    "\n",
    "veg_list.extend(friut_list)\n",
    "print(veg_list)"
   ]
  },
  {
   "cell_type": "code",
   "execution_count": 20,
   "metadata": {},
   "outputs": [
    {
     "name": "stdout",
     "output_type": "stream",
     "text": [
      "['apple', 'orange', 'banana', 'potato', 'tomato', 'brinjal']\n"
     ]
    }
   ],
   "source": [
    "# list concatination \n",
    "friut_list = [\"apple\",\"orange\",\"banana\"]\n",
    "veg_list = [\"potato\",\"tomato\",\"brinjal\"]\n",
    "\n",
    "new_list = (friut_list + veg_list)\n",
    "print(new_list)"
   ]
  },
  {
   "cell_type": "code",
   "execution_count": 21,
   "metadata": {},
   "outputs": [
    {
     "data": {
      "text/plain": [
       "'************'"
      ]
     },
     "execution_count": 21,
     "metadata": {},
     "output_type": "execute_result"
    }
   ],
   "source": [
    "# repetation operation \n",
    "\n",
    "\"*\" * 12"
   ]
  },
  {
   "cell_type": "code",
   "execution_count": 22,
   "metadata": {},
   "outputs": [
    {
     "data": {
      "text/plain": [
       "'--------------'"
      ]
     },
     "execution_count": 22,
     "metadata": {},
     "output_type": "execute_result"
    }
   ],
   "source": [
    "\"-\"*14\n"
   ]
  },
  {
   "cell_type": "code",
   "execution_count": 23,
   "metadata": {},
   "outputs": [
    {
     "data": {
      "text/plain": [
       "[0, 0, 0, 0, 0, 0, 0, 0, 0, 0]"
      ]
     },
     "execution_count": 23,
     "metadata": {},
     "output_type": "execute_result"
    }
   ],
   "source": [
    "[0]*10"
   ]
  },
  {
   "cell_type": "code",
   "execution_count": 24,
   "metadata": {},
   "outputs": [
    {
     "data": {
      "text/plain": [
       "[1, 2, 3, 1, 2, 3, 1, 2, 3, 1, 2, 3]"
      ]
     },
     "execution_count": 24,
     "metadata": {},
     "output_type": "execute_result"
    }
   ],
   "source": [
    "[1,2,3] * 4"
   ]
  },
  {
   "cell_type": "code",
   "execution_count": 25,
   "metadata": {},
   "outputs": [
    {
     "data": {
      "text/plain": [
       "[0, 1, 2, 3, 4, 5, 6, 7, 8, 9, 0, 1, 2, 3, 4, 5, 6, 7, 8, 9]"
      ]
     },
     "execution_count": 25,
     "metadata": {},
     "output_type": "execute_result"
    }
   ],
   "source": [
    "list(range(10)) * 2"
   ]
  },
  {
   "cell_type": "code",
   "execution_count": 26,
   "metadata": {},
   "outputs": [
    {
     "name": "stdout",
     "output_type": "stream",
     "text": [
      "your metting is tommorow\n",
      "your metting is tommorow\n",
      "your metting is tommorow\n",
      "\n"
     ]
    }
   ],
   "source": [
    "msg = \"your metting is tommorow\\n\"\n",
    "\n",
    "print(msg*3)"
   ]
  },
  {
   "cell_type": "code",
   "execution_count": 27,
   "metadata": {},
   "outputs": [
    {
     "data": {
      "text/plain": [
       "True"
      ]
     },
     "execution_count": 27,
     "metadata": {},
     "output_type": "execute_result"
    }
   ],
   "source": [
    "# membership >> in ,not in\n",
    "\n",
    "\"orange\" in new_list"
   ]
  },
  {
   "cell_type": "code",
   "execution_count": 28,
   "metadata": {},
   "outputs": [
    {
     "data": {
      "text/plain": [
       "False"
      ]
     },
     "execution_count": 28,
     "metadata": {},
     "output_type": "execute_result"
    }
   ],
   "source": [
    "# not in\n",
    "\n",
    "\"orange\" not in new_list"
   ]
  },
  {
   "cell_type": "code",
   "execution_count": 29,
   "metadata": {},
   "outputs": [
    {
     "name": "stdout",
     "output_type": "stream",
     "text": [
      "[1, 2, 3]\n",
      "[1, 2, 3]\n",
      "[4, 2, 3]\n"
     ]
    }
   ],
   "source": [
    "# deep copy and shallow copy \n",
    "\n",
    "# shallow copy >> value will change with chaneing the other list\n",
    "\n",
    "list_1 = [\"a\",\"b\",\"c\"]\n",
    "list_2 = [1,2,3]\n",
    "\n",
    "list_1 = list_2\n",
    "print(list_1) # [1, 2, 3]\n",
    "\n",
    "print(list_2) # [1, 2 ,3]\n",
    "# here the value of list_1 will be same as list_2 , and the value of list_2 woll remain same\n",
    "\n",
    "list_2[0]= (4)\n",
    "print(list_1) # chaging the value of one list will affect the another"
   ]
  },
  {
   "cell_type": "code",
   "execution_count": 30,
   "metadata": {},
   "outputs": [
    {
     "name": "stdout",
     "output_type": "stream",
     "text": [
      "['a', 'b', 'c']\n",
      "[5, 'b', 'c']\n",
      "['a', 'b', 'c']\n"
     ]
    }
   ],
   "source": [
    "# deep copy >> it will not change the value of another list\n",
    "\n",
    "list_1 = [\"a\",\"b\",\"c\"]\n",
    "list_2 = [1,2,3]\n",
    "list_3 = list_1.copy() # there will be another memory block will be created\n",
    "print(list_3) #['a', 'b', 'c']\n",
    "list_3[0] = 5\n",
    "print(list_3) # here the value will change in the original list printing [5, 'b', 'c']\n",
    "\n",
    "print(list_1) # here the value will NOT change in the in the original list  ['a', 'b', 'c']\n"
   ]
  },
  {
   "cell_type": "code",
   "execution_count": 31,
   "metadata": {},
   "outputs": [
    {
     "data": {
      "text/plain": [
       "['algorathim', 'data str', 'web', 'web']"
      ]
     },
     "execution_count": 31,
     "metadata": {},
     "output_type": "execute_result"
    }
   ],
   "source": [
    "# sorting of list\n",
    "\n",
    "book_list = [\"data str\", \"algorathim\",\"web\",\"web\"]\n",
    "sorted(book_list) # print(book_list.sort())"
   ]
  },
  {
   "cell_type": "code",
   "execution_count": 32,
   "metadata": {},
   "outputs": [
    {
     "name": "stdout",
     "output_type": "stream",
     "text": [
      "2\n"
     ]
    }
   ],
   "source": [
    "print(book_list.index(\"web\")) # returns the index of the first occurence"
   ]
  },
  {
   "cell_type": "code",
   "execution_count": 33,
   "metadata": {},
   "outputs": [
    {
     "name": "stdout",
     "output_type": "stream",
     "text": [
      "1\n"
     ]
    }
   ],
   "source": [
    "print(book_list.index(\"algorathim\"))"
   ]
  },
  {
   "cell_type": "code",
   "execution_count": 34,
   "metadata": {},
   "outputs": [
    {
     "name": "stdout",
     "output_type": "stream",
     "text": [
      "4\n"
     ]
    }
   ],
   "source": [
    "print(len(book_list)) #prints the number of the elemrnt "
   ]
  },
  {
   "cell_type": "code",
   "execution_count": 35,
   "metadata": {},
   "outputs": [
    {
     "name": "stdout",
     "output_type": "stream",
     "text": [
      "2\n"
     ]
    }
   ],
   "source": [
    "print(book_list.count(\"web\")) #count gives the count of the sepecific element in a list"
   ]
  },
  {
   "cell_type": "code",
   "execution_count": 36,
   "metadata": {},
   "outputs": [
    {
     "name": "stdout",
     "output_type": "stream",
     "text": [
      "['data str', 'algorathim', 'web']\n"
     ]
    }
   ],
   "source": [
    "book_list.remove(\"web\")\n",
    "print(book_list)"
   ]
  },
  {
   "cell_type": "code",
   "execution_count": 37,
   "metadata": {},
   "outputs": [],
   "source": [
    "# del book_list >> delets th e variable/ list "
   ]
  },
  {
   "cell_type": "code",
   "execution_count": 38,
   "metadata": {},
   "outputs": [
    {
     "name": "stdout",
     "output_type": "stream",
     "text": [
      "[]\n"
     ]
    }
   ],
   "source": [
    "frnds = [\"sanjib\",\" rajendra\", \"subrat\",\"bholu\"]\n",
    "frnds.clear() # it delets rhe elemnt of the list\n",
    "print(frnds)"
   ]
  },
  {
   "cell_type": "code",
   "execution_count": 39,
   "metadata": {},
   "outputs": [
    {
     "name": "stdout",
     "output_type": "stream",
     "text": [
      "bholu\n",
      "subrat\n",
      "['sanjib', ' rajendra']\n"
     ]
    }
   ],
   "source": [
    "frnds = [\"sanjib\",\" rajendra\", \"subrat\",\"bholu\"]\n",
    "print(frnds.pop()) # removes the last eklement \n",
    "print(frnds.pop(2)) # removes the enterd elemnt\n",
    "print(frnds)"
   ]
  },
  {
   "cell_type": "code",
   "execution_count": 40,
   "metadata": {},
   "outputs": [
    {
     "name": "stdout",
     "output_type": "stream",
     "text": [
      "[20, 40, 60, 80, 100]\n"
     ]
    }
   ],
   "source": [
    "# list comprehension\n",
    "\n",
    "price =[10,20,30,40,50]\n",
    "doubled_price = []\n",
    "for i in price:\n",
    "    doubled_price.append(i*2)\n",
    "print(doubled_price)"
   ]
  },
  {
   "cell_type": "code",
   "execution_count": 41,
   "metadata": {},
   "outputs": [
    {
     "data": {
      "text/plain": [
       "[20, 40, 60, 80, 100]"
      ]
     },
     "execution_count": 41,
     "metadata": {},
     "output_type": "execute_result"
    }
   ],
   "source": [
    "[prices * 2 for prices in price]"
   ]
  },
  {
   "cell_type": "code",
   "execution_count": 42,
   "metadata": {},
   "outputs": [
    {
     "data": {
      "text/plain": [
       "['Sanjib', 'Rajendra', 'Subrat', 'Bholu']"
      ]
     },
     "execution_count": 42,
     "metadata": {},
     "output_type": "execute_result"
    }
   ],
   "source": [
    "frnds = [\"sanjib\",\"rajendra\", \"subrat\",\"bholu\"]\n",
    "\n",
    "\n",
    "[name.capitalize() for name in frnds]"
   ]
  },
  {
   "cell_type": "code",
   "execution_count": 43,
   "metadata": {},
   "outputs": [
    {
     "data": {
      "text/plain": [
       "[1, 4, 9, 16, 25]"
      ]
     },
     "execution_count": 43,
     "metadata": {},
     "output_type": "execute_result"
    }
   ],
   "source": [
    "# use cse\n",
    "nums = [1,2,3,4,5]\n",
    "\n",
    "[num**2 for num in nums]"
   ]
  },
  {
   "cell_type": "code",
   "execution_count": 44,
   "metadata": {},
   "outputs": [
    {
     "data": {
      "text/plain": [
       "'ppt'"
      ]
     },
     "execution_count": 44,
     "metadata": {},
     "output_type": "execute_result"
    }
   ],
   "source": [
    "str1 = (\"doc1.ppt\")\n",
    "str1.split(\".\") [-1]"
   ]
  },
  {
   "cell_type": "code",
   "execution_count": 45,
   "metadata": {},
   "outputs": [
    {
     "data": {
      "text/plain": [
       "['ppt', 'pdf', 'jpg', 'py']"
      ]
     },
     "execution_count": 45,
     "metadata": {},
     "output_type": "execute_result"
    }
   ],
   "source": [
    "# use case\n",
    "\n",
    "file_name = [\"doc1.ppt\",\"doc2.pdf\",\"doc3.jpg\" ,\"doc4.py\"]\n",
    "[extension.split(\".\")[-1] for extension in file_name]"
   ]
  },
  {
   "cell_type": "code",
   "execution_count": 46,
   "metadata": {},
   "outputs": [
    {
     "name": "stdout",
     "output_type": "stream",
     "text": [
      "[True, False, False, False]\n"
     ]
    },
    {
     "data": {
      "text/plain": [
       "['sb@yahoo.com', 'srj.yahoo.com']"
      ]
     },
     "execution_count": 46,
     "metadata": {},
     "output_type": "execute_result"
    }
   ],
   "source": [
    "# conditional list comprehension\n",
    "\n",
    "email_add =[\"srj@gmail.com\",\"srb@email.com\",\"sb@yahoo.com\",\"srj.yahoo.com\"]\n",
    "\n",
    "print([email.endswith(\"gmail.com\") for email in email_add])\n",
    "[email for email in email_add if email.endswith(\"yahoo.com\")] \n",
    "    "
   ]
  },
  {
   "cell_type": "code",
   "execution_count": 47,
   "metadata": {},
   "outputs": [
    {
     "data": {
      "text/plain": [
       "[[1, 4], [1, 5], [1, 6], [2, 4], [2, 5], [2, 6], [3, 4], [3, 5], [3, 6]]"
      ]
     },
     "execution_count": 47,
     "metadata": {},
     "output_type": "execute_result"
    }
   ],
   "source": [
    "# nested list comprehensiom \n",
    "\n",
    "pairs=[]\n",
    "for x in [1,2,3]:\n",
    "    for y in[4,5,6] :\n",
    "        pairs.append([x,y])\n",
    "pairs"
   ]
  },
  {
   "cell_type": "code",
   "execution_count": 48,
   "metadata": {},
   "outputs": [
    {
     "data": {
      "text/plain": [
       "[[1, 4], [1, 5], [1, 6], [2, 4], [2, 5], [2, 6], [3, 4], [3, 5], [3, 6]]"
      ]
     },
     "execution_count": 48,
     "metadata": {},
     "output_type": "execute_result"
    }
   ],
   "source": [
    "[[x,y]for x in [1,2,3] for y in [4,5,6]]"
   ]
  },
  {
   "cell_type": "code",
   "execution_count": 49,
   "metadata": {},
   "outputs": [
    {
     "data": {
      "text/plain": [
       "[['h', 'h'], ['h', 't'], ['t', 'h'], ['t', 't']]"
      ]
     },
     "execution_count": 49,
     "metadata": {},
     "output_type": "execute_result"
    }
   ],
   "source": [
    "[[x,y]for x in [\"h\",\"t\"] for y in[\"h\",\"t\"]]"
   ]
  },
  {
   "cell_type": "code",
   "execution_count": 50,
   "metadata": {},
   "outputs": [],
   "source": [
    "#list as stack and ques(optional)\n",
    "\n",
    "#stack  >> last in first out pricipal >> LIFO\n",
    "\n",
    "# push >> store >> pop >> only one end\n",
    "# as we store data as plate we but we remove the palte from top or last elemt added to the stack will be first to be removed\n"
   ]
  },
  {
   "cell_type": "code",
   "execution_count": 51,
   "metadata": {},
   "outputs": [
    {
     "name": "stdout",
     "output_type": "stream",
     "text": [
      "['plate1', 'plate2', 'plate3', 'plate4']\n"
     ]
    }
   ],
   "source": [
    "stack_of_plate = []\n",
    "stack_of_plate.append(\"plate1\")\n",
    "stack_of_plate.append(\"plate2\")\n",
    "stack_of_plate.append(\"plate3\")\n",
    "stack_of_plate.append(\"plate4\")\n",
    "print(stack_of_plate)\n"
   ]
  },
  {
   "cell_type": "code",
   "execution_count": 52,
   "metadata": {},
   "outputs": [
    {
     "data": {
      "text/plain": [
       "'plate4'"
      ]
     },
     "execution_count": 52,
     "metadata": {},
     "output_type": "execute_result"
    }
   ],
   "source": [
    "stack_of_plate.pop()  "
   ]
  },
  {
   "cell_type": "code",
   "execution_count": 53,
   "metadata": {},
   "outputs": [
    {
     "data": {
      "text/plain": [
       "'plate3'"
      ]
     },
     "execution_count": 53,
     "metadata": {},
     "output_type": "execute_result"
    }
   ],
   "source": [
    "stack_of_plate.pop()"
   ]
  },
  {
   "cell_type": "code",
   "execution_count": 54,
   "metadata": {},
   "outputs": [
    {
     "data": {
      "text/plain": [
       "'plate2'"
      ]
     },
     "execution_count": 54,
     "metadata": {},
     "output_type": "execute_result"
    }
   ],
   "source": [
    "stack_of_plate.pop()"
   ]
  },
  {
   "cell_type": "code",
   "execution_count": 55,
   "metadata": {},
   "outputs": [
    {
     "data": {
      "text/plain": [
       "'plate1'"
      ]
     },
     "execution_count": 55,
     "metadata": {},
     "output_type": "execute_result"
    }
   ],
   "source": [
    "stack_of_plate.pop()"
   ]
  },
  {
   "cell_type": "code",
   "execution_count": 56,
   "metadata": {},
   "outputs": [],
   "source": [
    "# stack_of_plate.pop() #it will show error bcoz the list got empty "
   ]
  },
  {
   "cell_type": "code",
   "execution_count": 57,
   "metadata": {},
   "outputs": [
    {
     "name": "stdout",
     "output_type": "stream",
     "text": [
      "['home page', 'about use', 'contact']\n"
     ]
    }
   ],
   "source": [
    "# use case \n",
    "browising_history = []\n",
    "\n",
    "browising_history.append(\"home page\")\n",
    "browising_history.append(\"about use\")\n",
    "browising_history.append(\"contact\")\n",
    "\n",
    "print(browising_history)"
   ]
  },
  {
   "cell_type": "code",
   "execution_count": 58,
   "metadata": {},
   "outputs": [
    {
     "name": "stdout",
     "output_type": "stream",
     "text": [
      "contact\n",
      "['home page', 'about use']\n"
     ]
    }
   ],
   "source": [
    "print(browising_history.pop())\n",
    "print(browising_history)"
   ]
  },
  {
   "cell_type": "code",
   "execution_count": 59,
   "metadata": {},
   "outputs": [],
   "source": [
    "# queue  >> follows first in first out >>  FIFO\n",
    "\n",
    "# it works on orderly sequential manner\n",
    "# two ends , enqueue >> dequeue\n",
    " "
   ]
  },
  {
   "cell_type": "code",
   "execution_count": 60,
   "metadata": {},
   "outputs": [],
   "source": [
    "# library is collection of multiple python script(module)\n",
    "\n",
    "# for reusing the code \n"
   ]
  },
  {
   "cell_type": "code",
   "execution_count": 61,
   "metadata": {},
   "outputs": [
    {
     "name": "stdout",
     "output_type": "stream",
     "text": [
      "deque(['cus1', 'cus2', 'cus3', 'cus4', 'cus5'])\n"
     ]
    }
   ],
   "source": [
    "from collections import deque\n",
    "# library is a collection of pyhon code (module)\n",
    "# colllection is a library and deque is modle\n",
    "\n",
    "checkout = deque()\n",
    "checkout.append(\"cus1\")\n",
    "checkout.append(\"cus2\")\n",
    "checkout.append(\"cus3\")\n",
    "checkout.append(\"cus4\")\n",
    "checkout.append(\"cus5\")\n",
    "print(checkout)"
   ]
  },
  {
   "cell_type": "code",
   "execution_count": 62,
   "metadata": {},
   "outputs": [
    {
     "name": "stdout",
     "output_type": "stream",
     "text": [
      "serving cus1\n",
      "serving cus2\n",
      "serving cus3\n",
      "serving cus4\n",
      "serving cus5\n"
     ]
    }
   ],
   "source": [
    "while checkout:\n",
    "    customer = checkout.popleft()\n",
    "    print (\"serving\", customer)\n"
   ]
  },
  {
   "cell_type": "code",
   "execution_count": 63,
   "metadata": {},
   "outputs": [
    {
     "name": "stdout",
     "output_type": "stream",
     "text": [
      "printing print the 1 pdf\n",
      "printing print the 2 pdf\n",
      "printing print the 3 pdf\n",
      "printing print the 4 pdf\n",
      "printing print the 5 pdf\n"
     ]
    }
   ],
   "source": [
    "from queue import Queue\n",
    "print_queue = Queue()\n",
    "print_queue.put(\"print the 1 pdf\") # put is similar to push\n",
    "print_queue.put(\"print the 2 pdf\")\n",
    "print_queue.put(\"print the 3 pdf\")\n",
    "print_queue.put(\"print the 4 pdf\")\n",
    "print_queue.put(\"print the 5 pdf\")\n",
    "\n",
    "\n",
    "while not print_queue.empty():\n",
    "    print_job = print_queue.get() # get is simil to pop \n",
    "    print(\"printing\",print_job)"
   ]
  },
  {
   "cell_type": "code",
   "execution_count": null,
   "metadata": {},
   "outputs": [],
   "source": []
  }
 ],
 "metadata": {
  "kernelspec": {
   "display_name": "Python 3",
   "language": "python",
   "name": "python3"
  },
  "language_info": {
   "codemirror_mode": {
    "name": "ipython",
    "version": 3
   },
   "file_extension": ".py",
   "mimetype": "text/x-python",
   "name": "python",
   "nbconvert_exporter": "python",
   "pygments_lexer": "ipython3",
   "version": "3.12.4"
  }
 },
 "nbformat": 4,
 "nbformat_minor": 2
}
