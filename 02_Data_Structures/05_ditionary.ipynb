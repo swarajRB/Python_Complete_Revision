{
 "cells": [
  {
   "cell_type": "markdown",
   "metadata": {},
   "source": [
    "# Dictionary"
   ]
  },
  {
   "cell_type": "code",
   "execution_count": 1,
   "metadata": {},
   "outputs": [],
   "source": [
    "# is a data structure that stores data as key value pair\n",
    "# keys are unique and immutable \n",
    "\n",
    "#Note: dictonaries are unordered . but from python 3.7 version dictionaries are retain in the order of intertion \n",
    "# this means that if you itrate over a dictionary ,, the item will be returned in the ordered they were added"
   ]
  },
  {
   "cell_type": "code",
   "execution_count": 2,
   "metadata": {},
   "outputs": [
    {
     "data": {
      "text/plain": [
       "dict"
      ]
     },
     "execution_count": 2,
     "metadata": {},
     "output_type": "execute_result"
    }
   ],
   "source": [
    "d = {}\n",
    "type(d)"
   ]
  },
  {
   "cell_type": "code",
   "execution_count": 3,
   "metadata": {},
   "outputs": [
    {
     "name": "stdout",
     "output_type": "stream",
     "text": [
      "{'name': 'swaraj', 'email': 'srj@gmail.com', 'mob': 2132423}\n",
      "<class 'dict'>\n"
     ]
    }
   ],
   "source": [
    "d= { \"name\":\"swaraj\",\n",
    "     \"email\":\"srj@gmail.com\",\n",
    "    \"mob\":2132423\n",
    "     }\n",
    "\n",
    "print(d)\n",
    "print(type(d))"
   ]
  },
  {
   "cell_type": "code",
   "execution_count": 4,
   "metadata": {},
   "outputs": [
    {
     "data": {
      "text/plain": [
       "'swaraj'"
      ]
     },
     "execution_count": 4,
     "metadata": {},
     "output_type": "execute_result"
    }
   ],
   "source": [
    "d[\"name\"]"
   ]
  },
  {
   "cell_type": "code",
   "execution_count": 5,
   "metadata": {},
   "outputs": [
    {
     "data": {
      "text/plain": [
       "'srj@gmail.com'"
      ]
     },
     "execution_count": 5,
     "metadata": {},
     "output_type": "execute_result"
    }
   ],
   "source": [
    "d[\"email\"]"
   ]
  },
  {
   "cell_type": "code",
   "execution_count": 6,
   "metadata": {},
   "outputs": [],
   "source": [
    "d[\"name\"] = \"appu\""
   ]
  },
  {
   "cell_type": "code",
   "execution_count": 7,
   "metadata": {},
   "outputs": [
    {
     "name": "stdout",
     "output_type": "stream",
     "text": [
      "{'name': 'appu', 'email': 'srj@gmail.com', 'mob': 2132423}\n"
     ]
    }
   ],
   "source": [
    "print(d)"
   ]
  },
  {
   "cell_type": "code",
   "execution_count": 8,
   "metadata": {},
   "outputs": [
    {
     "name": "stdout",
     "output_type": "stream",
     "text": [
      "{'address': 'jajpur road'}\n"
     ]
    }
   ],
   "source": [
    "d = {\"address\":\"jajpur road\",\n",
    "     }\n",
    "\n",
    "print(d)"
   ]
  },
  {
   "cell_type": "code",
   "execution_count": 9,
   "metadata": {},
   "outputs": [
    {
     "data": {
      "text/plain": [
       "{'key': 1}"
      ]
     },
     "execution_count": 9,
     "metadata": {},
     "output_type": "execute_result"
    }
   ],
   "source": [
    "d = {\"key\" : 1}\n",
    "d"
   ]
  },
  {
   "cell_type": "code",
   "execution_count": 10,
   "metadata": {},
   "outputs": [
    {
     "data": {
      "text/plain": [
       "1"
      ]
     },
     "execution_count": 10,
     "metadata": {},
     "output_type": "execute_result"
    }
   ],
   "source": [
    "d[\"key\"] # you can only acess value using key  >> vise versa not possible"
   ]
  },
  {
   "cell_type": "code",
   "execution_count": 11,
   "metadata": {},
   "outputs": [
    {
     "name": "stdout",
     "output_type": "stream",
     "text": [
      "{1: 'abc'}\n"
     ]
    }
   ],
   "source": [
    "# rules of defining keys\n",
    "d = {1:\"abc\"} # integer as key\n",
    "print(d)\n"
   ]
  },
  {
   "cell_type": "code",
   "execution_count": 12,
   "metadata": {},
   "outputs": [
    {
     "name": "stdout",
     "output_type": "stream",
     "text": [
      "{1.2: 'abc'}\n"
     ]
    }
   ],
   "source": [
    "d = {1.2: \"abc\"}\n",
    "print(d) # flot as key"
   ]
  },
  {
   "cell_type": "code",
   "execution_count": 13,
   "metadata": {},
   "outputs": [
    {
     "name": "stdout",
     "output_type": "stream",
     "text": [
      "{True: 'any value'}\n"
     ]
    }
   ],
   "source": [
    "d = {True: \"any value\"} #boolean valule as key\n",
    "print(d) "
   ]
  },
  {
   "cell_type": "code",
   "execution_count": 14,
   "metadata": {},
   "outputs": [],
   "source": [
    "# d = {@:\"ram\"}   >> special char are not be key of dict "
   ]
  },
  {
   "cell_type": "code",
   "execution_count": 15,
   "metadata": {},
   "outputs": [],
   "source": [
    "# d = {[1,2,3] : \"apppu\"} # you van not list as key >> unhashable error"
   ]
  },
  {
   "cell_type": "code",
   "execution_count": 16,
   "metadata": {},
   "outputs": [],
   "source": [
    "# d = {# : 123}  you can not have # as key beacuse it is used to comment "
   ]
  },
  {
   "cell_type": "code",
   "execution_count": 17,
   "metadata": {},
   "outputs": [
    {
     "name": "stdout",
     "output_type": "stream",
     "text": [
      "{(1, 2, 3): 'abc'}\n",
      "<class 'dict'>\n"
     ]
    }
   ],
   "source": [
    "d = {(1,2,3): \"abc\"} # you can have a tuple as a key > immutable\n",
    " \n",
    "print(d)\n",
    "print(type(d))"
   ]
  },
  {
   "cell_type": "code",
   "execution_count": 18,
   "metadata": {},
   "outputs": [],
   "source": [
    "# d = {{1,2,3}: \"abc\"} # you cannot also have set as a key >> unhashble error "
   ]
  },
  {
   "cell_type": "code",
   "execution_count": 19,
   "metadata": {},
   "outputs": [],
   "source": [
    "# d = {{\"key\":123}:\"swaraj\"} #also you can not have a dict as a value  >> unhashble\n"
   ]
  },
  {
   "cell_type": "code",
   "execution_count": 20,
   "metadata": {},
   "outputs": [],
   "source": [
    "# only string and number can be used as a key of a dictionary"
   ]
  },
  {
   "cell_type": "code",
   "execution_count": 21,
   "metadata": {},
   "outputs": [
    {
     "name": "stdout",
     "output_type": "stream",
     "text": [
      "{'name': 'appu', 'email': 'srj@gmail.com', 'mob': 2132423}\n"
     ]
    }
   ],
   "source": [
    "d = { \"name\":\"swaraj\",\n",
    "    \"email\":\"srj@gmail.com\",\n",
    "    \"mob\":2132423,\n",
    "    \"name\" : \"appu\"}\n",
    "\n",
    "print(d) #always the last key , value of two same will be used\n"
   ]
  },
  {
   "cell_type": "code",
   "execution_count": 22,
   "metadata": {},
   "outputs": [
    {
     "name": "stdout",
     "output_type": "stream",
     "text": [
      "{'name': 'sanjya', 'email': 'srj@gmail.com', 'mob': 2132423}\n"
     ]
    }
   ],
   "source": [
    "d[\"name\"] = \"sanjya\"\n",
    "print(d)"
   ]
  },
  {
   "cell_type": "code",
   "execution_count": 23,
   "metadata": {},
   "outputs": [
    {
     "name": "stdout",
     "output_type": "stream",
     "text": [
      "{'name': ['sanjya', 'bijay', 'suraj', 1, 5], 'email': 'srj@gmail.com', 'mob': (2132423, 4325234)}\n"
     ]
    }
   ],
   "source": [
    "d = {'name': ['sanjya', 'bijay', 'suraj', 1, 5], \n",
    "     'email': 'srj@gmail.com',\n",
    "       'mob': (2132423, 4325234)}\n",
    "\n",
    "\n",
    "print(d) # you can have list and tuple as value"
   ]
  },
  {
   "cell_type": "code",
   "execution_count": 24,
   "metadata": {},
   "outputs": [
    {
     "name": "stdout",
     "output_type": "stream",
     "text": [
      "['sanjya', 'bijay', 'suraj', 1, 5]\n",
      "bijay\n"
     ]
    }
   ],
   "source": [
    "print(d[\"name\"]) # acessing the values of name(key)\n",
    "print(d[\"name\"][1])  # index of the value of the key at 1st palece"
   ]
  },
  {
   "cell_type": "code",
   "execution_count": 25,
   "metadata": {},
   "outputs": [
    {
     "name": "stdout",
     "output_type": "stream",
     "text": [
      "{'name': ['sanjya', 'bijay', 'suraj', 1, 5], 'email': 'srj@gmail.com', 'mob': (2132423, 4325234), 'address': 'jajpur road', 'pin': 755019}\n"
     ]
    }
   ],
   "source": [
    "d[\"address\"] = \"jajpur road\" # you can add another key value pair to your existing dictionary\n",
    "\n",
    "d[\"pin\"] = 755019\n",
    "print(d)"
   ]
  },
  {
   "cell_type": "code",
   "execution_count": 26,
   "metadata": {},
   "outputs": [
    {
     "name": "stdout",
     "output_type": "stream",
     "text": [
      "{'name': ['sanjya', 'bijay', 'suraj', 1, 5], 'email': 'srj@gmail.com', 'mob': (2132423, 4325234), 'address': 'jajpur road'}\n"
     ]
    }
   ],
   "source": [
    "# deleting a key value pair from existing dict\n",
    "del d[\"pin\"]\n",
    "print(d)\n"
   ]
  },
  {
   "cell_type": "code",
   "execution_count": 27,
   "metadata": {},
   "outputs": [
    {
     "name": "stdout",
     "output_type": "stream",
     "text": [
      "{'name': ['sanjya', 'bijay', 'suraj', 1, 5], 'email': 'srj@gmail.com', 'mob': (2132423, 4325234)}\n"
     ]
    }
   ],
   "source": [
    "d = {'name': ['sanjya', 'bijay', 'suraj', 1, 5], \n",
    "     'email': 'srj@gmail.com', \n",
    "     'mob': (2132423, 4325234)}\n",
    "print(d)\n",
    " # you can delet the whole dict\n",
    "del d\n",
    "# print(d) now it give an error becoz the dict is no more "
   ]
  },
  {
   "cell_type": "code",
   "execution_count": 28,
   "metadata": {},
   "outputs": [
    {
     "name": "stdout",
     "output_type": "stream",
     "text": [
      "{'name': ['sanjya', 'bijay', 'suraj', 1, 5], 'email': 'srj@gmail.com', 'mob': (2132423, 4325234)}\n",
      "{}\n"
     ]
    }
   ],
   "source": [
    "d = {'name': ['sanjya', 'bijay', 'suraj', 1, 5],\n",
    "      'email': 'srj@gmail.com', \n",
    "      'mob': (2132423, 4325234)\n",
    "      }\n",
    "print(d)\n",
    "# you can clear the dict instead of deleting it \n",
    "d.clear()\n",
    "print(d) #now the output will be an empty dict"
   ]
  },
  {
   "cell_type": "code",
   "execution_count": 29,
   "metadata": {},
   "outputs": [
    {
     "data": {
      "text/plain": [
       "3"
      ]
     },
     "execution_count": 29,
     "metadata": {},
     "output_type": "execute_result"
    }
   ],
   "source": [
    "d = {'name': ['sanjya', 'bijay', 'suraj', 1, 5],\n",
    "      'email': 'srj@gmail.com', \n",
    "      'mob': (2132423, 4325234)\n",
    "      }\n",
    "# length of a dict will show that how many key-value pairs are there \n",
    "len(d)"
   ]
  },
  {
   "cell_type": "code",
   "execution_count": 30,
   "metadata": {},
   "outputs": [
    {
     "name": "stdout",
     "output_type": "stream",
     "text": [
      "dict_keys(['name', 'email', 'mob'])\n",
      "dict_values([['sanjya', 'bijay', 'suraj', 1, 5], 'srj@gmail.com', (2132423, 4325234)])\n"
     ]
    }
   ],
   "source": [
    "# you can acess all the keys of dict \n",
    "print(d.keys())\n",
    "# similarly the values\n",
    "print(d.values())"
   ]
  },
  {
   "cell_type": "code",
   "execution_count": 31,
   "metadata": {},
   "outputs": [
    {
     "name": "stdout",
     "output_type": "stream",
     "text": [
      "{'name': ['sanjya', 'bijay', 'suraj', 1, 5], 'email': 'srj@gmail.com', 'mob': (2132423, 4325234)}\n"
     ]
    }
   ],
   "source": [
    "# copying the dict \n",
    "d1 = d.copy()\n",
    "print(d1)"
   ]
  },
  {
   "cell_type": "code",
   "execution_count": 32,
   "metadata": {},
   "outputs": [],
   "source": [
    "del d1 # d1 deleted but d is still there"
   ]
  },
  {
   "cell_type": "code",
   "execution_count": 34,
   "metadata": {},
   "outputs": [
    {
     "name": "stdout",
     "output_type": "stream",
     "text": [
      "{'name': ['sanjya', 'bijay', 'suraj', 1, 5], 'email': 'srj@gmail.com', 'mob': (2132423, 4325234)}\n"
     ]
    }
   ],
   "source": [
    "print(d)"
   ]
  },
  {
   "cell_type": "code",
   "execution_count": 36,
   "metadata": {},
   "outputs": [
    {
     "name": "stdout",
     "output_type": "stream",
     "text": [
      "{'name': ['sanjya', 'bijay', 'suraj', 1, 5], 'email': 'srj@gmail.com'}\n"
     ]
    }
   ],
   "source": [
    "d = {'name': ['sanjya', 'bijay', 'suraj', 1, 5],\n",
    "      'email': 'srj@gmail.com', \n",
    "      'mob': (2132423, 4325234)\n",
    "      }\n",
    "\n",
    "d.pop(\"mob\")\n"
   ]
  },
  {
   "cell_type": "code",
   "execution_count": 37,
   "metadata": {},
   "outputs": [
    {
     "name": "stdout",
     "output_type": "stream",
     "text": [
      "{'name': ['sanjya', 'bijay', 'suraj', 1, 5], 'email': 'srj@gmail.com', 'course': 'ds'}\n"
     ]
    }
   ],
   "source": [
    "d1 = {\"course\":\"ds\"}\n",
    "\n",
    "# you can update the dict by a new\n",
    "d.update(d1)\n",
    "\n",
    "print(d)"
   ]
  },
  {
   "cell_type": "code",
   "execution_count": 40,
   "metadata": {},
   "outputs": [
    {
     "data": {
      "text/plain": [
       "['sanjya', 'bijay', 'suraj', 1, 5]"
      ]
     },
     "execution_count": 40,
     "metadata": {},
     "output_type": "execute_result"
    }
   ],
   "source": [
    "d.get(\"name\")\n",
    "# same as print(d[\"name\"])"
   ]
  },
  {
   "cell_type": "code",
   "execution_count": 42,
   "metadata": {},
   "outputs": [
    {
     "data": {
      "text/plain": [
       "{'name': ['sanjya', 'bijay', 'suraj', 1, 5],\n",
       " 'email': 'srj@gmail.com',\n",
       " 'course': 'ds'}"
      ]
     },
     "execution_count": 42,
     "metadata": {},
     "output_type": "execute_result"
    }
   ],
   "source": [
    "d"
   ]
  },
  {
   "cell_type": "code",
   "execution_count": 43,
   "metadata": {},
   "outputs": [
    {
     "data": {
      "text/plain": [
       "'ds'"
      ]
     },
     "execution_count": 43,
     "metadata": {},
     "output_type": "execute_result"
    }
   ],
   "source": [
    "d[\"course\"]"
   ]
  },
  {
   "cell_type": "code",
   "execution_count": 44,
   "metadata": {},
   "outputs": [
    {
     "data": {
      "text/plain": [
       "3"
      ]
     },
     "execution_count": 44,
     "metadata": {},
     "output_type": "execute_result"
    }
   ],
   "source": [
    "len(d)"
   ]
  },
  {
   "cell_type": "code",
   "execution_count": 46,
   "metadata": {},
   "outputs": [
    {
     "data": {
      "text/plain": [
       "{1: ('a', 'b', 'c'), 2: ('a', 'b', 'c'), 3: ('a', 'b', 'c')}"
      ]
     },
     "execution_count": 46,
     "metadata": {},
     "output_type": "execute_result"
    }
   ],
   "source": [
    "# from keys\n",
    "d.fromkeys((1,2,3),(\"a\",\"b\",\"c\"))\n",
    "# {1: ('a', 'b', 'c'), 2: ('a', 'b', 'c'), 3: ('a', 'b', 'c')}"
   ]
  },
  {
   "cell_type": "code",
   "execution_count": 47,
   "metadata": {},
   "outputs": [
    {
     "name": "stdout",
     "output_type": "stream",
     "text": [
      "('arun', 80)\n",
      "('ajay', 85)\n",
      "('bijay', 90)\n"
     ]
    }
   ],
   "source": [
    "# dictionary comprehension\n",
    "\n",
    "# zip function\n",
    "students = [\"arun\",\"ajay\",\"bijay\"]\n",
    "marks = [80, 85, 90]\n",
    "# name and corresponding mark\n",
    "\n",
    "for i in zip(students,marks):\n",
    "    print(i)\n",
    "# ('arun', 80)\n",
    "# ('ajay', 85)\n",
    "# ('bijay', 90)\n"
   ]
  },
  {
   "cell_type": "code",
   "execution_count": 2,
   "metadata": {},
   "outputs": [
    {
     "name": "stdout",
     "output_type": "stream",
     "text": [
      "{'arun': 80, 'ajay': 85, 'bijay': 90}\n"
     ]
    }
   ],
   "source": [
    "# store the above info in key value pairs \n",
    "\n",
    "students = [\"arun\",\"ajay\",\"bijay\"]\n",
    "marks = [80, 85, 90]\n",
    "students_marks = {}\n",
    "for student, mark in zip(students,marks):\n",
    "    students_marks[student] = mark \n",
    "\n",
    "print(students_marks)"
   ]
  },
  {
   "cell_type": "code",
   "execution_count": 4,
   "metadata": {},
   "outputs": [
    {
     "data": {
      "text/plain": [
       "{'arun': 80, 'ajay': 85, 'bijay': 90}"
      ]
     },
     "execution_count": 4,
     "metadata": {},
     "output_type": "execute_result"
    }
   ],
   "source": [
    "#using dict comprehension method\n",
    "students = [\"arun\",\"ajay\",\"bijay\"]\n",
    "marks = [80, 85, 90]\n",
    "{student:mark for student,mark in zip(students,marks)}"
   ]
  },
  {
   "cell_type": "code",
   "execution_count": 9,
   "metadata": {},
   "outputs": [
    {
     "data": {
      "text/plain": [
       "{1: 'a21', 2: 'a22', 3: 'a23'}"
      ]
     },
     "execution_count": 9,
     "metadata": {},
     "output_type": "execute_result"
    }
   ],
   "source": [
    "# use case \n",
    "user_id =[1,2,3]\n",
    "user_name = [\"a21\",\"a22\",\"a23\"]\n",
    "{id:name for id,name in zip(user_id,user_name)}\n"
   ]
  },
  {
   "cell_type": "code",
   "execution_count": 3,
   "metadata": {},
   "outputs": [
    {
     "name": "stdout",
     "output_type": "stream",
     "text": [
      "dict_keys(['arun', 'ajay', 'bijay'])\n",
      "dict_values([80, 85, 90])\n",
      "dict_items([('arun', 80), ('ajay', 85), ('bijay', 90)])\n"
     ]
    }
   ],
   "source": [
    "# use case  view object\n",
    "dict = {'arun': 80,\n",
    "         'ajay': 85, \n",
    "         'bijay': 90}\n",
    "\n",
    "print(dict.keys())\n",
    "print(dict.values())\n",
    "print(dict.items())\n"
   ]
  },
  {
   "cell_type": "code",
   "execution_count": 4,
   "metadata": {},
   "outputs": [
    {
     "name": "stdout",
     "output_type": "stream",
     "text": [
      "arun 80\n",
      "ajay 85\n",
      "bijay 90\n"
     ]
    }
   ],
   "source": [
    "for key,value in dict.items(): #itret both key and value\n",
    "    print(key,value)"
   ]
  },
  {
   "cell_type": "code",
   "execution_count": 5,
   "metadata": {},
   "outputs": [
    {
     "name": "stdout",
     "output_type": "stream",
     "text": [
      "arun\n",
      "ajay\n",
      "bijay\n"
     ]
    }
   ],
   "source": [
    "# iteret over only keys\n",
    "for key in dict.keys():\n",
    "    print(key)"
   ]
  },
  {
   "cell_type": "code",
   "execution_count": 6,
   "metadata": {},
   "outputs": [
    {
     "name": "stdout",
     "output_type": "stream",
     "text": [
      "80\n",
      "85\n",
      "90\n"
     ]
    }
   ],
   "source": [
    "# iteret over only value\n",
    "for value in dict.values():\n",
    "    print(value)"
   ]
  },
  {
   "cell_type": "code",
   "execution_count": null,
   "metadata": {},
   "outputs": [],
   "source": []
  },
  {
   "cell_type": "markdown",
   "metadata": {},
   "source": []
  }
 ],
 "metadata": {
  "kernelspec": {
   "display_name": "Python 3",
   "language": "python",
   "name": "python3"
  },
  "language_info": {
   "codemirror_mode": {
    "name": "ipython",
    "version": 3
   },
   "file_extension": ".py",
   "mimetype": "text/x-python",
   "name": "python",
   "nbconvert_exporter": "python",
   "pygments_lexer": "ipython3",
   "version": "3.12.4"
  }
 },
 "nbformat": 4,
 "nbformat_minor": 2
}
