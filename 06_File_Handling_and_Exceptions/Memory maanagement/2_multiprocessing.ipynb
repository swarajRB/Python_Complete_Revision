{
 "cells": [
  {
   "cell_type": "code",
   "execution_count": 2,
   "metadata": {},
   "outputs": [
    {
     "name": "stdout",
     "output_type": "stream",
     "text": [
      "Do somthing\n",
      "Sleep for 1 sec\n",
      "Done with sleeping\n",
      "Do somthing\n",
      "Sleep for 1 sec\n",
      "Done with sleeping\n",
      "The program finished in 2.0seconds\n"
     ]
    }
   ],
   "source": [
    "import time\n",
    "start = time.perf_counter()\n",
    "\n",
    "def test_func():\n",
    "    print(\"Do somthing\")\n",
    "    print(\"Sleep for 1 sec\")\n",
    "    time.sleep(1)\n",
    "    print(\"Done with sleeping\")\n",
    "test_func()\n",
    "test_func()\n",
    "end = time.perf_counter()\n",
    "\n",
    "print(f\"The program finished in {round(end-start,2)}seconds\")"
   ]
  },
  {
   "cell_type": "code",
   "execution_count": 3,
   "metadata": {},
   "outputs": [
    {
     "name": "stdout",
     "output_type": "stream",
     "text": [
      "The program finished in 0.8seconds\n"
     ]
    }
   ],
   "source": [
    "import multiprocess\n",
    "\n",
    "import time\n",
    "start = time.perf_counter()\n",
    "\n",
    "def test_func():\n",
    "    print(\"Do somthing\")\n",
    "    print(\"Sleep for 1 sec\")\n",
    "    time.sleep(1)\n",
    "    print(\"Done with sleeping\")\n",
    "p1 = multiprocess.Process(target = test_func)\n",
    "p2 = multiprocess.Process(target = test_func)\n",
    "\n",
    "p1.start()\n",
    "p2.start()\n",
    "\n",
    "p1.join()\n",
    "p2.join()\n",
    "\n",
    "end = time.perf_counter()\n",
    "\n",
    "print(f\"The program finished in {round(end-start,2)}seconds\")"
   ]
  },
  {
   "cell_type": "code",
   "execution_count": 4,
   "metadata": {},
   "outputs": [
    {
     "name": "stdout",
     "output_type": "stream",
     "text": [
      "The program finished in 1.55seconds\n"
     ]
    }
   ],
   "source": [
    "import multiprocessing\n",
    "\n",
    "import time\n",
    "start = time.perf_counter()\n",
    "\n",
    "def test_func():\n",
    "    print(\"Do somthing\")\n",
    "    print(\"Sleep for 1 sec\")\n",
    "    time.sleep(1)\n",
    "    print(\"Done with sleeping\")\n",
    "\n",
    "processes = []\n",
    "for i in range (10):\n",
    "    p = multiprocessing.Process(target = test_func)\n",
    "    p.start()\n",
    "    processes.append(p)\n",
    "\n",
    "for process in processes:\n",
    "    process.join()\n",
    "\n",
    "end = time.perf_counter()\n",
    "\n",
    "print(f\"The program finished in {round(end-start,2)}seconds\")"
   ]
  },
  {
   "cell_type": "code",
   "execution_count": 5,
   "metadata": {},
   "outputs": [
    {
     "name": "stdout",
     "output_type": "stream",
     "text": [
      "[1, 4, 25, 9, 16]\n",
      "The program finished in 2.53seconds\n"
     ]
    }
   ],
   "source": [
    "# multiprocessing >> should be used in case of computation \n",
    "# use case 1\n",
    "import multiprocess\n",
    "\n",
    "import time\n",
    "start = time.perf_counter()\n",
    "\n",
    "def square(index , value):\n",
    "    value[index] = value[index]**2\n",
    "\n",
    "arr = multiprocess.Array(\"i\",[1,2,5,3,4])\n",
    "\n",
    "processes = []\n",
    "for i in range(5): # in array 5 numbers there for loop will be in range of 5\n",
    "    p = multiprocess.Process(target = square, args = (i, arr))\n",
    "    p.start()\n",
    "    processes.append(p)\n",
    "\n",
    "for process in processes:\n",
    "    process.join()\n",
    "\n",
    "print(list(arr))\n",
    "\n",
    "end = time.perf_counter()\n",
    "\n",
    "print(f\"The program finished in {round(end-start,2)}seconds\")"
   ]
  },
  {
   "cell_type": "code",
   "execution_count": 6,
   "metadata": {},
   "outputs": [
    {
     "name": "stdout",
     "output_type": "stream",
     "text": [
      "[1, 4, 25, 9, 1600000000]\n",
      "The program finished in 1.57 seconds\n"
     ]
    }
   ],
   "source": [
    "import multiprocess\n",
    "import time\n",
    "\n",
    "start = time.perf_counter()\n",
    "\n",
    "def square(index, value):\n",
    "    value[index] = value[index] ** 2\n",
    "\n",
    "# Create a shared array\n",
    "arr = multiprocess.Array(\"i\",[1, 2, 5, 3, 40000])\n",
    "\n",
    "processes = []\n",
    "\n",
    "# Create and start processes\n",
    "for i in range(5):  # Loop through the 5 numbers in the array\n",
    "    p = multiprocess.Process(target=square, args=(i, arr))  # Pass the index and the shared array\n",
    "    p.start()\n",
    "    processes.append(p)\n",
    "\n",
    "# Wait for all processes to complete\n",
    "for process in processes:\n",
    "    process.join()\n",
    "\n",
    "# Convert shared array to list and print\n",
    "print(list(arr))\n",
    "\n",
    "end = time.perf_counter()\n",
    "print(f\"The program finished in {round(end - start, 2)} seconds\")\n"
   ]
  },
  {
   "cell_type": "code",
   "execution_count": 16,
   "metadata": {},
   "outputs": [
    {
     "name": "stdout",
     "output_type": "stream",
     "text": [
      "The program finished in 1.71 seconds\n"
     ]
    }
   ],
   "source": [
    "# using multiprocess.pool\n",
    "import multiprocess.pool\n",
    "\n",
    "\n",
    "start = time.perf_counter()\n",
    "def square(no):\n",
    "    result = no*no\n",
    "    print(f\"The square of the {no} is {result}\")\n",
    "\n",
    "\n",
    "numbers = [1,2,3,4,6000]\n",
    "\n",
    "with multiprocess.Pool() as pool:\n",
    "    pool.map(square,numbers)\n",
    "\n",
    "end = time.perf_counter()\n",
    "print(f\"The program finished in {round(end - start, 2)} seconds\")\n"
   ]
  },
  {
   "cell_type": "code",
   "execution_count": 13,
   "metadata": {},
   "outputs": [],
   "source": [
    "# no order in the result shows multiple core/processor being used and result returned not sequenced is parralle execution of the core"
   ]
  },
  {
   "cell_type": "code",
   "execution_count": 17,
   "metadata": {},
   "outputs": [],
   "source": [
    "# use case 2:\n",
    "# you want to get admissin in school\n",
    "# you will make an enrollment request in queue\n",
    "# these requests will be procesed from the queue nd registraton will be done\n",
    "\n",
    "# these enrollment and registration tasks can run in parallel\n",
    "# this means one process is busy putting the process into queue , the other process \n",
    "# can be busy processing other requests\n"
   ]
  },
  {
   "cell_type": "code",
   "execution_count": 5,
   "metadata": {},
   "outputs": [],
   "source": [
    "import multiprocessing\n",
    "import multiprocessing.queues\n",
    "\n",
    "def enroll_student(student_queue):\n",
    "    for student in [\"Rahul\",\"Rohit\",\"Aman\",\"ajay\"]:\n",
    "        student_queue.put(f\"Enroll request{student}\")\n",
    "\n",
    "def reg_students(studs_queue):\n",
    "    while True:\n",
    "        enrollment_req = studs_queue.get()\n",
    "        if enrollment_req is None:\n",
    "            break\n",
    "        print(f\"Register the enrollment request:{enrollment_req}\")\n",
    "\n",
    "if True :\n",
    "    student_queue = multiprocessing.Queue() # multiprocess has data structure queue\n",
    "    enrollment_process= multiprocessing.Process(target= enroll_student, args = (student_queue,))\n",
    "    reg_process= multiprocessing.Process(target= reg_students, args = (student_queue,))\n",
    "\n",
    "    enrollment_process.start()\n",
    "    reg_process.start()\n",
    "\n",
    "    enrollment_process.join()\n",
    "    reg_process.join()\n"
   ]
  },
  {
   "cell_type": "code",
   "execution_count": 6,
   "metadata": {},
   "outputs": [],
   "source": [
    "import multiprocessing  # use `multiprocessing` instead of `multiprocess`\n",
    "\n",
    "def enroll_student(student_queue):\n",
    "    for student in [\"Rahul\", \"Rohit\", \"Aman\", \"Ajay\"]:\n",
    "        student_queue.put(f\"Enroll request: {student}\")\n",
    "    student_queue.put(None)  # Signal the end of enrollment requests\n",
    "\n",
    "def reg_students(studs_queue):\n",
    "    while True:\n",
    "        enrollment_req = studs_queue.get()\n",
    "        if enrollment_req is None:\n",
    "            break\n",
    "        print(f\"Register the enrollment request: {enrollment_req}\")\n",
    "\n",
    "if True:\n",
    "    student_queue = multiprocessing.Queue()  # Use multiprocessing.Queue\n",
    "    enrollment_process = multiprocessing.Process(target=enroll_student, args=(student_queue,))\n",
    "    reg_process = multiprocessing.Process(target=reg_students, args=(student_queue,))\n",
    "\n",
    "    enrollment_process.start()\n",
    "    reg_process.start()\n",
    "\n",
    "    enrollment_process.join()\n",
    "    reg_process.join()\n"
   ]
  },
  {
   "cell_type": "code",
   "execution_count": 11,
   "metadata": {},
   "outputs": [
    {
     "name": "stdout",
     "output_type": "stream",
     "text": [
      "The program finished in 3.0seconds\n"
     ]
    }
   ],
   "source": [
    "# using concurrent.futures process pool\n",
    "import concurrent.futures\n",
    "\n",
    "import time\n",
    "start = time.perf_counter()\n",
    "\n",
    "def test_func(i):\n",
    "    print(\"Do somthing\")\n",
    "    print(\"Sleep for 1 sec\")\n",
    "    time.sleep(1)\n",
    "    print(\"Done with sleeping\")\n",
    "\n",
    "with concurrent.futures.ProcessPoolExecutor() as executor:\n",
    "    executor.map(test_func,range(10))\n",
    "\n",
    "end = time.perf_counter()\n",
    "\n",
    "print(f\"The program finished in {round(end-start,2)}seconds\")"
   ]
  },
  {
   "cell_type": "code",
   "execution_count": null,
   "metadata": {},
   "outputs": [],
   "source": []
  }
 ],
 "metadata": {
  "kernelspec": {
   "display_name": "Python 3",
   "language": "python",
   "name": "python3"
  },
  "language_info": {
   "codemirror_mode": {
    "name": "ipython",
    "version": 3
   },
   "file_extension": ".py",
   "mimetype": "text/x-python",
   "name": "python",
   "nbconvert_exporter": "python",
   "pygments_lexer": "ipython3",
   "version": "3.12.4"
  }
 },
 "nbformat": 4,
 "nbformat_minor": 2
}
