{
 "cells": [
  {
   "cell_type": "markdown",
   "metadata": {
    "vscode": {
     "languageId": "raw"
    }
   },
   "source": [
    "code >> programm >> process \n",
    "\n",
    "process is a instance of program\n",
    "\n",
    "process is executed in a processor "
   ]
  },
  {
   "cell_type": "code",
   "execution_count": null,
   "metadata": {},
   "outputs": [],
   "source": [
    "# A process is an instance of a computer program \n",
    "# process runs parallely on multy processors  >> multi processing \n",
    "# process runs concurrently  on multiple threads in a processors >> multithreading "
   ]
  },
  {
   "cell_type": "code",
   "execution_count": 1,
   "metadata": {},
   "outputs": [
    {
     "name": "stdout",
     "output_type": "stream",
     "text": [
      "Do somthing\n",
      "Sleep for 1 sec\n",
      "Done with sleeping\n",
      "The program finished in 1.0seconds\n"
     ]
    }
   ],
   "source": [
    "import time\n",
    "start = time.perf_counter()\n",
    "\n",
    "def test_func():\n",
    "    print(\"Do somthing\")\n",
    "    print(\"Sleep for 1 sec\")\n",
    "    time.sleep(1)\n",
    "    print(\"Done with sleeping\")\n",
    "test_func()\n",
    "end = time.perf_counter()\n",
    "\n",
    "print(f\"The program finished in {round(end-start,2)}seconds\")"
   ]
  },
  {
   "cell_type": "code",
   "execution_count": 3,
   "metadata": {},
   "outputs": [
    {
     "name": "stdout",
     "output_type": "stream",
     "text": [
      "Do somthing\n",
      "Sleep for 1 sec\n",
      "Done with sleeping\n",
      "Do somthing\n",
      "Sleep for 1 sec\n",
      "Done with sleeping\n",
      "Do somthing\n",
      "Sleep for 1 sec\n",
      "Done with sleeping\n",
      "Do somthing\n",
      "Sleep for 1 sec\n",
      "Done with sleeping\n",
      "Do somthing\n",
      "Sleep for 1 sec\n",
      "Done with sleeping\n",
      "The program finished in 5.01 seconds\n"
     ]
    }
   ],
   "source": [
    "import time\n",
    "start = time.perf_counter()\n",
    "\n",
    "def test_func():\n",
    "    print(\"Do somthing\")\n",
    "    print(\"Sleep for 1 sec\")\n",
    "    time.sleep(1)\n",
    "    print(\"Done with sleeping\")\n",
    "test_func()\n",
    "test_func()\n",
    "test_func()\n",
    "test_func()\n",
    "test_func()\n",
    "end = time.perf_counter()\n",
    "\n",
    "print(f\"The program finished in {round(end-start,2)} seconds\")"
   ]
  },
  {
   "cell_type": "code",
   "execution_count": null,
   "metadata": {},
   "outputs": [],
   "source": [
    "# since the program ran sequentially(single thread on a singlr core) , so it took 5 secs "
   ]
  },
  {
   "cell_type": "code",
   "execution_count": 5,
   "metadata": {},
   "outputs": [
    {
     "name": "stdout",
     "output_type": "stream",
     "text": [
      "Do somthing\n",
      "Sleep for 1 sec\n",
      "Do somthing\n",
      "Sleep for 1 sec\n",
      "Done with sleeping\n",
      "Done with sleeping\n",
      "The program finished in 1.37 seconds\n"
     ]
    }
   ],
   "source": [
    "import time\n",
    "import threading # python module\n",
    "\n",
    "start = time.perf_counter()\n",
    "\n",
    "def test_func():\n",
    "    print(\"Do somthing\")\n",
    "    print(\"Sleep for 1 sec\")\n",
    "    time.sleep(1)\n",
    "    print(\"Done with sleeping\")\n",
    "\n",
    "# run the programm on two threads\n",
    "t1 = threading.Thread(target=test_func)    \n",
    "t2 = threading.Thread(target=test_func)    \n",
    "\n",
    "t1.start() # to start the thread\n",
    "t2.start()\n",
    "\n",
    "t1.join() # join first  executed these t1 ,t2 threads and then the  main thread will be executed\n",
    "t2.join()\n",
    "\n",
    "end = time.perf_counter()\n",
    "\n",
    "print(f\"The program finished in {round(end-start,2)} seconds\")"
   ]
  },
  {
   "cell_type": "code",
   "execution_count": 6,
   "metadata": {},
   "outputs": [
    {
     "name": "stdout",
     "output_type": "stream",
     "text": [
      "Do somthing\n",
      "Sleep for 1 sec\n",
      "Do somthing\n",
      "Sleep for 1 sec\n",
      "Do somthing\n",
      "Sleep for 1 sec\n",
      "Do somthing\n",
      "Sleep for 1 sec\n",
      "Do somthing\n",
      "Sleep for 1 sec\n",
      "Do somthing\n",
      "Sleep for 1 sec\n",
      "Do somthing\n",
      "Sleep for 1 sec\n",
      "Do somthing\n",
      "Sleep for 1 sec\n",
      "Do somthing\n",
      "Sleep for 1 sec\n",
      "Do somthing\n",
      "Sleep for 1 sec\n",
      "Done with sleeping\n",
      "Done with sleeping\n",
      "Done with sleeping\n",
      "Done with sleeping\n",
      "Done with sleeping\n",
      "Done with sleeping\n",
      "Done with sleeping\n",
      "Done with sleeping\n",
      "Done with sleeping\n",
      "Done with sleeping\n",
      "The program finished in 1.44 seconds\n"
     ]
    }
   ],
   "source": [
    "import time\n",
    "import threading # python module\n",
    "\n",
    "start = time.perf_counter()\n",
    "\n",
    "def test_func():\n",
    "    print(\"Do somthing\")\n",
    "    print(\"Sleep for 1 sec\")\n",
    "    time.sleep(1)\n",
    "    print(\"Done with sleeping\")\n",
    "\n",
    "\n",
    "threads = []\n",
    "for i in range(10):\n",
    "    t = threading.Thread(target=test_func)    \n",
    "    t.start()\n",
    "    threads.append(t)\n",
    "\n",
    "for thread in threads:\n",
    "    thread.join()\n",
    "\n",
    "end = time.perf_counter()\n",
    "\n",
    "print(f\"The program finished in {round(end-start,2)} seconds\")"
   ]
  },
  {
   "cell_type": "code",
   "execution_count": null,
   "metadata": {},
   "outputs": [],
   "source": [
    "# since test_func is called in 10 times , it should have taken 10secs but due to multithreading got completed in 1secs "
   ]
  },
  {
   "cell_type": "code",
   "execution_count": 7,
   "metadata": {},
   "outputs": [
    {
     "name": "stdout",
     "output_type": "stream",
     "text": [
      "Do somthing\n",
      "Sleep for 2 sec\n",
      "Do somthing\n",
      "Sleep for 2 sec\n",
      "Do somthing\n",
      "Sleep for 2 sec\n",
      "Do somthing\n",
      "Sleep for 2 sec\n",
      "Do somthing\n",
      "Sleep for 2 sec\n",
      "Do somthing\n",
      "Sleep for 2 sec\n",
      "Do somthing\n",
      "Sleep for 2 sec\n",
      "Do somthing\n",
      "Sleep for 2 sec\n",
      "Do somthing\n",
      "Sleep for 2 sec\n",
      "Do somthing\n",
      "Sleep for 2 sec\n",
      "Done with sleeping\n",
      "Done with sleeping\n",
      "Done with sleeping\n",
      "Done with sleeping\n",
      "Done with sleeping\n",
      "Done with sleeping\n",
      "Done with sleeping\n",
      "Done with sleeping\n",
      "Done with sleeping\n",
      "Done with sleeping\n",
      "The program finished in 1.11 seconds\n"
     ]
    }
   ],
   "source": [
    "# using multithreding with function that takes an argument \n",
    "\n",
    "import time\n",
    "import threading # python module\n",
    "\n",
    "start = time.perf_counter()\n",
    "\n",
    "def test_func(args):\n",
    "    print(\"Do somthing\")\n",
    "    print(f\"Sleep for {args} sec\")\n",
    "    time.sleep(1)\n",
    "    print(\"Done with sleeping\")\n",
    "\n",
    "\n",
    "threads = []\n",
    "for i in range(10):\n",
    "    t = threading.Thread(target=test_func, args = [2])    \n",
    "    t.start()\n",
    "    threads.append(t)\n",
    "\n",
    "for thread in threads:\n",
    "    thread.join()\n",
    "\n",
    "end = time.perf_counter()\n",
    "\n",
    "print(f\"The program finished in {round(end-start,2)} seconds\")"
   ]
  },
  {
   "cell_type": "code",
   "execution_count": null,
   "metadata": {},
   "outputs": [],
   "source": [
    "# use case \n",
    "# mulithreading works very well with I/O bound tasks means where some out put has to wait for input  \n",
    "# eg : reading-writing the files, networks communication, dta base quries"
   ]
  },
  {
   "cell_type": "code",
   "execution_count": 4,
   "metadata": {},
   "outputs": [
    {
     "name": "stdout",
     "output_type": "stream",
     "text": [
      "The program finished in 5.1 seconds\n"
     ]
    }
   ],
   "source": [
    "#https://github.com/itsfoss/text-files\n",
    "import time\n",
    "import threading\n",
    "start = time.perf_counter()\n",
    "url_list = [\n",
    "    'https://raw.githubusercontent.com/dscape/spell/master/test/resources/big.txt',\n",
    "    'https://raw.githubusercontent.com/first20hours/google-10000-english/master/google-10000-english-no-swears.txt',\n",
    "    'https://raw.githubusercontent.com/itsfoss/text-files/master/sherlock.txt' ,\n",
    "    'https://raw.githubusercontent.com/itsfoss/text-files/master/sample_log_file.txt',\n",
    "]\n",
    "\n",
    "data_list = ['data1.txt', 'data2.txt','data3.txt', 'data4.txt']\n",
    "\n",
    "import urllib.request\n",
    "def file_download(url, filename):\n",
    "    urllib.request.urlretrieve(url,filename)\n",
    "\n",
    "\n",
    "threads = []\n",
    "for i in range(len(url_list)):\n",
    "    t = threading.Thread(target=file_download, args =(url_list[i],data_list[i]))    \n",
    "    t.start()\n",
    "    threads.append(t)\n",
    "\n",
    "for thread in threads:\n",
    "    thread.join()\n",
    "\n",
    "end = time.perf_counter()\n",
    "\n",
    "print(f\"The program finished in {round(end-start,2)} seconds\")\n",
    "\n"
   ]
  },
  {
   "cell_type": "code",
   "execution_count": 9,
   "metadata": {},
   "outputs": [
    {
     "name": "stdout",
     "output_type": "stream",
     "text": [
      "The program finished in 7.01 seconds\n"
     ]
    }
   ],
   "source": [
    "# multithreading using concurrent.future >> keeps codes concise\n",
    "\n",
    "\n",
    "\n",
    "import time\n",
    "import concurrent.futures\n",
    "start = time.perf_counter()\n",
    "url_list = [\n",
    "    'https://raw.githubusercontent.com/dscape/spell/master/test/resources/big.txt',\n",
    "    'https://raw.githubusercontent.com/first20hours/google-10000-english/master/google-10000-english-no-swears.txt',\n",
    "    'https://raw.githubusercontent.com/itsfoss/text-files/master/sherlock.txt' ,\n",
    "    'https://raw.githubusercontent.com/itsfoss/text-files/master/sample_log_file.txt',\n",
    "]\n",
    "\n",
    "data_list = ['data1.txt', 'data2.txt','data3.txt', 'data4.txt']\n",
    "\n",
    "import urllib.request\n",
    "\n",
    "def file_download(url, filename):\n",
    "    urllib.request.urlretrieve(url,filename)\n",
    "\n",
    "with concurrent.futures.ThreadPoolExecutor() as executor:\n",
    "    executor.map(file_download,url_list,data_list) # args >> function name with arguments\n",
    "\n",
    "\n",
    "end = time.perf_counter()\n",
    "\n",
    "print(f\"The program finished in {round(end-start,2)} seconds\")\n",
    "\n"
   ]
  },
  {
   "cell_type": "code",
   "execution_count": 5,
   "metadata": {},
   "outputs": [
    {
     "name": "stdout",
     "output_type": "stream",
     "text": [
      "Thread 1: incremented shared counter to 1\n",
      "Thread 2: incremented shared counter to 2\n",
      "Thread 3: incremented shared counter to 3\n",
      "Thread 4: incremented shared counter to 4\n",
      "Thread 5: incremented shared counter to 5\n",
      "Thread 6: incremented shared counter to 6\n",
      "The program finished in 6.74 seconds\n"
     ]
    }
   ],
   "source": [
    "# shared variables across all the threads \n",
    "\n",
    "start = time.perf_counter()\n",
    "shared_counter = 0\n",
    "counter_lock = threading.Lock() # locking the counter for a specific threads\n",
    "\n",
    "def increment_shared_counter(x):\n",
    "    global shared_counter # that can be accessed by all the threads\n",
    "    with counter_lock:\n",
    "        shared_counter = shared_counter +1\n",
    "        print(f\"Thread {x}: incremented shared counter to {shared_counter}\")\n",
    "        time.sleep(1)\n",
    "\n",
    "threads = [threading.Thread(target=increment_shared_counter, args=(i,)) for i in[1,2,3,4,5,6]]\n",
    "\n",
    "for thread in threads:\n",
    "    thread.start()\n",
    "for thread in threads:\n",
    "    thread.join()\n",
    "\n",
    "end = time.perf_counter()\n",
    "\n",
    "print(f\"The program finished in {round(end-start,2)} seconds\")"
   ]
  },
  {
   "cell_type": "code",
   "execution_count": 7,
   "metadata": {},
   "outputs": [
    {
     "name": "stdout",
     "output_type": "stream",
     "text": [
      "Thread 1: incremented shared counter to 1\n",
      "Thread 2: incremented shared counter to 2\n",
      "Thread 3: incremented shared counter to 3\n",
      "Thread 4: incremented shared counter to 4\n",
      "Thread 5: incremented shared counter to 5\n",
      "Thread 6: incremented shared counter to 6\n",
      "The program finished in 6.05 seconds\n"
     ]
    }
   ],
   "source": [
    "# same thing using concurret feature\n",
    "\n",
    "# shared variables across all the threads \n",
    "\n",
    "start = time.perf_counter()\n",
    "shared_counter = 0\n",
    "counter_lock = threading.Lock() # locking the counter for a specific threads\n",
    "\n",
    "def increment_shared_counter(x):\n",
    "    global shared_counter # that can be accessed by all the threads\n",
    "    with counter_lock:\n",
    "        shared_counter = shared_counter +1\n",
    "        print(f\"Thread {x}: incremented shared counter to {shared_counter}\")\n",
    "        time.sleep(1)\n",
    "\n",
    "with concurrent.futures.ThreadPoolExecutor() as executor:\n",
    "    thread_args = [1,2,3,4,5,6]\n",
    "    executor.map(increment_shared_counter,thread_args) # args >> function name with arguments\n",
    "\n",
    "\n",
    "end = time.perf_counter()\n",
    "\n",
    "print(f\"The program finished in {round(end-start,2)} seconds\")\n",
    "\n"
   ]
  },
  {
   "cell_type": "code",
   "execution_count": null,
   "metadata": {},
   "outputs": [],
   "source": [
    "# summary varible can be incremented by individual threads"
   ]
  }
 ],
 "metadata": {
  "kernelspec": {
   "display_name": "Python 3",
   "language": "python",
   "name": "python3"
  },
  "language_info": {
   "codemirror_mode": {
    "name": "ipython",
    "version": 3
   },
   "file_extension": ".py",
   "mimetype": "text/x-python",
   "name": "python",
   "nbconvert_exporter": "python",
   "pygments_lexer": "ipython3",
   "version": "3.12.4"
  }
 },
 "nbformat": 4,
 "nbformat_minor": 2
}
