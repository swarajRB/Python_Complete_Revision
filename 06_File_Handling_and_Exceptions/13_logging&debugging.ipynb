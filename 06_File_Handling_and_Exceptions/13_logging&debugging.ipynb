{
 "cells": [
  {
   "cell_type": "markdown",
   "metadata": {},
   "source": [
    "# logging and debugging "
   ]
  },
  {
   "cell_type": "code",
   "execution_count": 1,
   "metadata": {},
   "outputs": [],
   "source": [
    "# debugging >> is the process of idnetifyning and fixing bugs / issues in your code\n",
    "# debuging involves >> breaking the code (checkpoint) , executing the code ,  inspecting the variable using print statement "
   ]
  },
  {
   "cell_type": "code",
   "execution_count": 2,
   "metadata": {},
   "outputs": [],
   "source": [
    "def devide(a,b):\n",
    "    print(\"step1\")\n",
    "    print(\"step2\")\n",
    "    print(\"step3\")\n",
    "    print(\"step4\")\n",
    "    return a/b"
   ]
  },
  {
   "cell_type": "code",
   "execution_count": 3,
   "metadata": {},
   "outputs": [
    {
     "name": "stdout",
     "output_type": "stream",
     "text": [
      "step1\n",
      "step2\n",
      "step3\n",
      "step4\n"
     ]
    },
    {
     "data": {
      "text/plain": [
       "5.0"
      ]
     },
     "execution_count": 3,
     "metadata": {},
     "output_type": "execute_result"
    }
   ],
   "source": [
    "devide(10,2)"
   ]
  },
  {
   "cell_type": "code",
   "execution_count": 4,
   "metadata": {},
   "outputs": [
    {
     "name": "stdout",
     "output_type": "stream",
     "text": [
      "step1\n",
      "step2\n",
      "step3\n",
      "step4\n"
     ]
    },
    {
     "data": {
      "text/plain": [
       "4.0"
      ]
     },
     "execution_count": 4,
     "metadata": {},
     "output_type": "execute_result"
    }
   ],
   "source": [
    "devide(12,3)"
   ]
  },
  {
   "cell_type": "code",
   "execution_count": 5,
   "metadata": {},
   "outputs": [
    {
     "name": "stdout",
     "output_type": "stream",
     "text": [
      "step1\n",
      "step2\n",
      "step3\n",
      "step4\n"
     ]
    },
    {
     "ename": "ZeroDivisionError",
     "evalue": "division by zero",
     "output_type": "error",
     "traceback": [
      "\u001b[1;31m---------------------------------------------------------------------------\u001b[0m",
      "\u001b[1;31mZeroDivisionError\u001b[0m                         Traceback (most recent call last)",
      "Cell \u001b[1;32mIn[5], line 1\u001b[0m\n\u001b[1;32m----> 1\u001b[0m \u001b[43mdevide\u001b[49m\u001b[43m(\u001b[49m\u001b[38;5;241;43m10\u001b[39;49m\u001b[43m,\u001b[49m\u001b[38;5;241;43m0\u001b[39;49m\u001b[43m)\u001b[49m\n",
      "Cell \u001b[1;32mIn[2], line 6\u001b[0m, in \u001b[0;36mdevide\u001b[1;34m(a, b)\u001b[0m\n\u001b[0;32m      4\u001b[0m \u001b[38;5;28mprint\u001b[39m(\u001b[38;5;124m\"\u001b[39m\u001b[38;5;124mstep3\u001b[39m\u001b[38;5;124m\"\u001b[39m)\n\u001b[0;32m      5\u001b[0m \u001b[38;5;28mprint\u001b[39m(\u001b[38;5;124m\"\u001b[39m\u001b[38;5;124mstep4\u001b[39m\u001b[38;5;124m\"\u001b[39m)\n\u001b[1;32m----> 6\u001b[0m \u001b[38;5;28;01mreturn\u001b[39;00m \u001b[43ma\u001b[49m\u001b[38;5;241;43m/\u001b[39;49m\u001b[43mb\u001b[49m\n",
      "\u001b[1;31mZeroDivisionError\u001b[0m: division by zero"
     ]
    }
   ],
   "source": [
    "devide(10,0)"
   ]
  },
  {
   "cell_type": "code",
   "execution_count": 6,
   "metadata": {},
   "outputs": [],
   "source": [
    "def devide(a,b):\n",
    "    return a/b"
   ]
  },
  {
   "cell_type": "code",
   "execution_count": 8,
   "metadata": {},
   "outputs": [
    {
     "ename": "ZeroDivisionError",
     "evalue": "division by zero",
     "output_type": "error",
     "traceback": [
      "\u001b[1;31m---------------------------------------------------------------------------\u001b[0m",
      "\u001b[1;31mZeroDivisionError\u001b[0m                         Traceback (most recent call last)",
      "Cell \u001b[1;32mIn[8], line 2\u001b[0m\n\u001b[0;32m      1\u001b[0m \u001b[38;5;28;01mfor\u001b[39;00m i \u001b[38;5;129;01min\u001b[39;00m \u001b[38;5;28mrange\u001b[39m(\u001b[38;5;241m-\u001b[39m\u001b[38;5;241m10\u001b[39m,\u001b[38;5;241m10\u001b[39m):\n\u001b[1;32m----> 2\u001b[0m     \u001b[43mdevide\u001b[49m\u001b[43m(\u001b[49m\u001b[43mi\u001b[49m\u001b[43m,\u001b[49m\u001b[43mi\u001b[49m\u001b[38;5;241;43m+\u001b[39;49m\u001b[38;5;241;43m1\u001b[39;49m\u001b[43m)\u001b[49m\n\u001b[0;32m      3\u001b[0m \u001b[38;5;66;03m# you have called deivde function many times \u001b[39;00m\n\u001b[0;32m      4\u001b[0m \u001b[38;5;66;03m# at the time somewhere its throwing error, but where ?\u001b[39;00m\n\u001b[0;32m      5\u001b[0m \u001b[38;5;66;03m# you have to debug the code >> for what value of a and b parameter the code is throwing error\u001b[39;00m\n",
      "Cell \u001b[1;32mIn[6], line 2\u001b[0m, in \u001b[0;36mdevide\u001b[1;34m(a, b)\u001b[0m\n\u001b[0;32m      1\u001b[0m \u001b[38;5;28;01mdef\u001b[39;00m \u001b[38;5;21mdevide\u001b[39m(a,b):\n\u001b[1;32m----> 2\u001b[0m     \u001b[38;5;28;01mreturn\u001b[39;00m \u001b[43ma\u001b[49m\u001b[38;5;241;43m/\u001b[39;49m\u001b[43mb\u001b[49m\n",
      "\u001b[1;31mZeroDivisionError\u001b[0m: division by zero"
     ]
    }
   ],
   "source": [
    "for i in range(-10,10):\n",
    "    devide(i,i+1)\n",
    "# you have called deivde function many times \n",
    "# at the time somewhere its throwing error, but where ?\n",
    "# you have to debug the code >> for what value of a and b parameter the code is throwing error\n"
   ]
  },
  {
   "cell_type": "raw",
   "metadata": {
    "vscode": {
     "languageId": "raw"
    }
   },
   "source": [
    "# debuging involves >>\n",
    "breaking the code (checkpoint) ,\n",
    "executing the code ,  \n",
    "inspecting the variable using print statement "
   ]
  },
  {
   "cell_type": "code",
   "execution_count": 9,
   "metadata": {},
   "outputs": [
    {
     "ename": "ZeroDivisionError",
     "evalue": "division by zero",
     "output_type": "error",
     "traceback": [
      "\u001b[1;31m---------------------------------------------------------------------------\u001b[0m",
      "\u001b[1;31mZeroDivisionError\u001b[0m                         Traceback (most recent call last)",
      "Cell \u001b[1;32mIn[9], line 6\u001b[0m\n\u001b[0;32m      2\u001b[0m     \u001b[38;5;28;01mreturn\u001b[39;00m a\u001b[38;5;241m/\u001b[39mb\n\u001b[0;32m      5\u001b[0m \u001b[38;5;28;01mfor\u001b[39;00m i \u001b[38;5;129;01min\u001b[39;00m \u001b[38;5;28mrange\u001b[39m(\u001b[38;5;241m-\u001b[39m\u001b[38;5;241m10\u001b[39m,\u001b[38;5;241m10\u001b[39m):\n\u001b[1;32m----> 6\u001b[0m     \u001b[43mdevide\u001b[49m\u001b[43m(\u001b[49m\u001b[43mi\u001b[49m\u001b[43m,\u001b[49m\u001b[43mi\u001b[49m\u001b[38;5;241;43m+\u001b[39;49m\u001b[38;5;241;43m1\u001b[39;49m\u001b[43m)\u001b[49m\n\u001b[0;32m      8\u001b[0m     \u001b[38;5;66;03m# breaking the code >> logically  >> here we understand that there are two steps involved\u001b[39;00m\n\u001b[0;32m      9\u001b[0m     \u001b[38;5;66;03m# break the code in terms of excution  also\u001b[39;00m\n\u001b[0;32m     10\u001b[0m     \u001b[38;5;66;03m# first a loop and second calling divide function in loop \u001b[39;00m\n",
      "Cell \u001b[1;32mIn[9], line 2\u001b[0m, in \u001b[0;36mdevide\u001b[1;34m(a, b)\u001b[0m\n\u001b[0;32m      1\u001b[0m \u001b[38;5;28;01mdef\u001b[39;00m \u001b[38;5;21mdevide\u001b[39m(a,b):\n\u001b[1;32m----> 2\u001b[0m     \u001b[38;5;28;01mreturn\u001b[39;00m \u001b[43ma\u001b[49m\u001b[38;5;241;43m/\u001b[39;49m\u001b[43mb\u001b[49m\n",
      "\u001b[1;31mZeroDivisionError\u001b[0m: division by zero"
     ]
    }
   ],
   "source": [
    "def devide(a,b):\n",
    "    return a/b\n",
    "\n",
    "\n",
    "for i in range(-10,10):\n",
    "    devide(i,i+1)\n",
    "\n",
    "    # breaking the code >> logically  >> here we understand that there are two steps involved\n",
    "    # break the code in terms of excution  also\n",
    "    # first a loop and second calling divide function in loop "
   ]
  },
  {
   "cell_type": "code",
   "execution_count": 10,
   "metadata": {},
   "outputs": [
    {
     "name": "stdout",
     "output_type": "stream",
     "text": [
      "-10 -9\n",
      "-9 -8\n",
      "-8 -7\n",
      "-7 -6\n",
      "-6 -5\n",
      "-5 -4\n",
      "-4 -3\n",
      "-3 -2\n",
      "-2 -1\n",
      "-1 0\n"
     ]
    },
    {
     "ename": "ZeroDivisionError",
     "evalue": "division by zero",
     "output_type": "error",
     "traceback": [
      "\u001b[1;31m---------------------------------------------------------------------------\u001b[0m",
      "\u001b[1;31mZeroDivisionError\u001b[0m                         Traceback (most recent call last)",
      "Cell \u001b[1;32mIn[10], line 8\u001b[0m\n\u001b[0;32m      6\u001b[0m \u001b[38;5;28;01mfor\u001b[39;00m i \u001b[38;5;129;01min\u001b[39;00m \u001b[38;5;28mrange\u001b[39m(\u001b[38;5;241m-\u001b[39m\u001b[38;5;241m10\u001b[39m,\u001b[38;5;241m10\u001b[39m):\n\u001b[0;32m      7\u001b[0m     \u001b[38;5;28mprint\u001b[39m(i,i\u001b[38;5;241m+\u001b[39m\u001b[38;5;241m1\u001b[39m)\n\u001b[1;32m----> 8\u001b[0m     \u001b[43mdevide\u001b[49m\u001b[43m(\u001b[49m\u001b[43mi\u001b[49m\u001b[43m,\u001b[49m\u001b[43mi\u001b[49m\u001b[38;5;241;43m+\u001b[39;49m\u001b[38;5;241;43m1\u001b[39;49m\u001b[43m)\u001b[49m\n",
      "Cell \u001b[1;32mIn[10], line 3\u001b[0m, in \u001b[0;36mdevide\u001b[1;34m(a, b)\u001b[0m\n\u001b[0;32m      2\u001b[0m \u001b[38;5;28;01mdef\u001b[39;00m \u001b[38;5;21mdevide\u001b[39m(a,b):\n\u001b[1;32m----> 3\u001b[0m     \u001b[38;5;28;01mreturn\u001b[39;00m \u001b[43ma\u001b[49m\u001b[38;5;241;43m/\u001b[39;49m\u001b[43mb\u001b[49m\n",
      "\u001b[1;31mZeroDivisionError\u001b[0m: division by zero"
     ]
    }
   ],
   "source": [
    "# using print statement to debug\n",
    "def devide(a,b):\n",
    "    return a/b\n",
    "\n",
    "\n",
    "for i in range(-10,10):\n",
    "    print(i,i+1)\n",
    "    devide(i,i+1)"
   ]
  },
  {
   "cell_type": "code",
   "execution_count": 11,
   "metadata": {},
   "outputs": [
    {
     "name": "stdout",
     "output_type": "stream",
     "text": [
      "-10 -9\n",
      "-9 -8\n",
      "-8 -7\n",
      "-7 -6\n",
      "-6 -5\n",
      "-5 -4\n",
      "-4 -3\n",
      "-3 -2\n",
      "-2 -1\n",
      "-1 0\n"
     ]
    },
    {
     "ename": "ZeroDivisionError",
     "evalue": "division by zero",
     "output_type": "error",
     "traceback": [
      "\u001b[1;31m---------------------------------------------------------------------------\u001b[0m",
      "\u001b[1;31mZeroDivisionError\u001b[0m                         Traceback (most recent call last)",
      "Cell \u001b[1;32mIn[11], line 8\u001b[0m\n\u001b[0;32m      4\u001b[0m     \u001b[38;5;28;01mreturn\u001b[39;00m a\u001b[38;5;241m/\u001b[39mb\n\u001b[0;32m      6\u001b[0m \u001b[38;5;28;01mfor\u001b[39;00m i \u001b[38;5;129;01min\u001b[39;00m \u001b[38;5;28mrange\u001b[39m(\u001b[38;5;241m-\u001b[39m\u001b[38;5;241m10\u001b[39m,\u001b[38;5;241m10\u001b[39m):\n\u001b[0;32m      7\u001b[0m     \u001b[38;5;66;03m# print(i,i+1)\u001b[39;00m\n\u001b[1;32m----> 8\u001b[0m     \u001b[43mdevide\u001b[49m\u001b[43m(\u001b[49m\u001b[43mi\u001b[49m\u001b[43m,\u001b[49m\u001b[43mi\u001b[49m\u001b[38;5;241;43m+\u001b[39;49m\u001b[38;5;241;43m1\u001b[39;49m\u001b[43m)\u001b[49m\n",
      "Cell \u001b[1;32mIn[11], line 4\u001b[0m, in \u001b[0;36mdevide\u001b[1;34m(a, b)\u001b[0m\n\u001b[0;32m      2\u001b[0m \u001b[38;5;28;01mdef\u001b[39;00m \u001b[38;5;21mdevide\u001b[39m(a,b):\n\u001b[0;32m      3\u001b[0m     \u001b[38;5;28mprint\u001b[39m(a,b)\n\u001b[1;32m----> 4\u001b[0m     \u001b[38;5;28;01mreturn\u001b[39;00m \u001b[43ma\u001b[49m\u001b[38;5;241;43m/\u001b[39;49m\u001b[43mb\u001b[49m\n",
      "\u001b[1;31mZeroDivisionError\u001b[0m: division by zero"
     ]
    }
   ],
   "source": [
    "# using another print function \n",
    "def devide(a,b):\n",
    "    print(a,b)\n",
    "    return a/b\n",
    "\n",
    "for i in range(-10,10):\n",
    "    # print(i,i+1)\n",
    "    devide(i,i+1)"
   ]
  },
  {
   "cell_type": "code",
   "execution_count": 12,
   "metadata": {},
   "outputs": [
    {
     "name": "stdout",
     "output_type": "stream",
     "text": [
      "-10 -9\n",
      "-9 -8\n",
      "-8 -7\n",
      "-7 -6\n",
      "-6 -5\n",
      "-5 -4\n",
      "-4 -3\n",
      "-3 -2\n",
      "-2 -1\n",
      "-1 0\n",
      "zero devision error\n",
      "0 1\n",
      "1 2\n",
      "2 3\n",
      "3 4\n",
      "4 5\n",
      "5 6\n",
      "6 7\n",
      "7 8\n",
      "8 9\n",
      "9 10\n"
     ]
    }
   ],
   "source": [
    "# from print statement you understamd that when b is 0 i,t throw the error\n",
    "def devide(a,b):\n",
    "    print(a,b)\n",
    "    # breaking the code in terms execution\n",
    "    if b==0:\n",
    "        print(\"zero devision error\")\n",
    "        return\n",
    "    return a/b\n",
    "\n",
    "for i in range(-10,10):\n",
    "    # print(i,i+1)\n",
    "    devide(i,i+1)"
   ]
  },
  {
   "cell_type": "code",
   "execution_count": 13,
   "metadata": {},
   "outputs": [],
   "source": [
    "# print statement is not a pythonic way  to debug >> print statement is not efficient\n",
    "# print staement is good for smple  scripts but  not for complex \n",
    "# in console / terminal all the print statement will be lost\n",
    "# you use logging instead of print statement"
   ]
  },
  {
   "cell_type": "markdown",
   "metadata": {
    "vscode": {
     "languageId": "raw"
    }
   },
   "source": [
    "logging >> it record the state and flow of your programm / code / \n",
    "it is usefull to understaning , monitering , debugging of your code\n",
    "it shows how programm behaves over time\n",
    "\n",
    "Analogy >> dairy entry sience childhood to now >> to understand how you evolved\n",
    "\n",
    "similarly in complex codes to understand how your code is changing the result over time, you can log the specific steps  \n"
   ]
  },
  {
   "cell_type": "raw",
   "metadata": {
    "vscode": {
     "languageId": "raw"
    }
   },
   "source": [
    "theroritical use case explanation >>\n",
    "see the diffrent steps of codding below\n",
    "step 1 >> remove some elemnt of list\n",
    "step 2 >> capitalize >> upper case\n",
    "step 3 >> remove metroplotitant city \n",
    "step 4 >> lower case\n",
    "if after step 3 the list becomes empty ,step 4 can throw error , so ou can log the result of step 3 to debug"
   ]
  },
  {
   "cell_type": "code",
   "execution_count": null,
   "metadata": {},
   "outputs": [],
   "source": [
    "# logging support deffrent levels of logging which helps  categorize message based on their  sever  \n",
    "# analogy >> diffrent level of severity can go to emergency \n",
    "# similarlly in loggging we have diffrent of logging "
   ]
  },
  {
   "cell_type": "code",
   "execution_count": 1,
   "metadata": {},
   "outputs": [],
   "source": [
    "import logging"
   ]
  },
  {
   "cell_type": "code",
   "execution_count": 2,
   "metadata": {},
   "outputs": [],
   "source": [
    "logging.basicConfig(filename = \"test.log\", level = logging.INFO)"
   ]
  },
  {
   "cell_type": "code",
   "execution_count": 3,
   "metadata": {},
   "outputs": [],
   "source": [
    "logging.info(\"This is my normal information about my software\")"
   ]
  },
  {
   "cell_type": "code",
   "execution_count": 4,
   "metadata": {},
   "outputs": [],
   "source": [
    "logging.warning(\"There can be empty list here\")"
   ]
  },
  {
   "cell_type": "code",
   "execution_count": 5,
   "metadata": {},
   "outputs": [],
   "source": [
    "logging.debug(\"The length of list is \")"
   ]
  },
  {
   "cell_type": "code",
   "execution_count": 6,
   "metadata": {},
   "outputs": [],
   "source": [
    "logging.error(\"Some error has happend\")"
   ]
  },
  {
   "cell_type": "code",
   "execution_count": 7,
   "metadata": {},
   "outputs": [],
   "source": [
    "logging.critical(\"The sofware has stopped running\")"
   ]
  },
  {
   "cell_type": "code",
   "execution_count": 8,
   "metadata": {},
   "outputs": [],
   "source": [
    "logging.shutdown()"
   ]
  },
  {
   "cell_type": "raw",
   "metadata": {
    "vscode": {
     "languageId": "raw"
    }
   },
   "source": [
    "# NOSET >> this will start from debug\n",
    "\n",
    "1. DEBUG >> lowest level of logging . To give detailed information of any variable , msg ,while doing debigging\n",
    "\n",
    "2. INFO >>This is used to convey that the code is working as expected \n",
    "# example \"Data analysis is completed\"\n",
    "\n",
    "3. WARNING >> Used to indicate something unexpected happend or potential issue in the code \n",
    "\n",
    "4. ERROR >> Serious problem in function\n",
    "\n",
    "5. CRITICAL >> Termination of Program/code/software\n",
    "\n",
    "The above level of logging is executed in the same order. >> debug being lowest priority and critical highest priority\n",
    "While defining level in logging.basicConfig, from that level the logs will be logged or in other words the log priority will start from that level which is used to initialize the logging\n",
    "\n",
    "EXAMPLe >>> if you initialise with the WARNING then only warning , error ,critical msg wil be logged. debug and info will not be logged ."
   ]
  },
  {
   "cell_type": "code",
   "execution_count": 1,
   "metadata": {},
   "outputs": [],
   "source": [
    "import logging\n",
    "logging.basicConfig(filename = \"test_new.log\",level= logging.DEBUG, format='%(asctime)s %(message)s')"
   ]
  },
  {
   "cell_type": "code",
   "execution_count": 2,
   "metadata": {},
   "outputs": [],
   "source": [
    "logging.debug(\"This msg for debugging\")\n",
    "logging.info(\"This is my warining msg\")\n",
    "logging.warning(\"This is my warning msg\")\n",
    "logging.shutdown()"
   ]
  },
  {
   "cell_type": "code",
   "execution_count": 1,
   "metadata": {},
   "outputs": [],
   "source": [
    "# say you want level name in logs as well\n",
    "import logging\n",
    "logging.basicConfig(filename = \"test_new_1.log\",level= logging.DEBUG, format='%(asctime)s %(levelname)s %(message)s')\n",
    "logging.debug(\"This msg for debugging\")\n",
    "logging.info(\"This is my warining msg\")\n",
    "logging.warning(\"This is my warning msg\")\n",
    "logging.shutdown()"
   ]
  },
  {
   "cell_type": "code",
   "execution_count": 5,
   "metadata": {},
   "outputs": [],
   "source": [
    "# use case with example \n",
    "import logging\n",
    "logging.basicConfig(filename = \"program.1.log\",level= logging.DEBUG, format='%(asctime)s %(levelname)s %(message)s')"
   ]
  },
  {
   "cell_type": "code",
   "execution_count": 2,
   "metadata": {},
   "outputs": [],
   "source": [
    "# write a program to separate the integer and string in two list separately\n",
    "l = [1,\"hello\", [2,\"world\"],[3,'python']]\n"
   ]
  },
  {
   "cell_type": "code",
   "execution_count": 3,
   "metadata": {},
   "outputs": [
    {
     "name": "stdout",
     "output_type": "stream",
     "text": [
      "[1]\n",
      "['hello']\n"
     ]
    }
   ],
   "source": [
    "l1_int = []\n",
    "l2_str = []\n",
    "\n",
    "for i in l:\n",
    "    if type(i) == int :\n",
    "        l1_int.append(i)\n",
    "        print(l1_int)\n",
    "\n",
    "for j in l:\n",
    "    if type(j) == str:\n",
    "        l2_str.append(j)\n",
    "        print(l2_str)"
   ]
  },
  {
   "cell_type": "code",
   "execution_count": 6,
   "metadata": {},
   "outputs": [],
   "source": [
    "l1_int = []\n",
    "l2_str = []\n",
    "\n",
    "for i in l:\n",
    "    logging.info(f\"Processing each element:{i}\")\n",
    "\n",
    "    if type(i) == list:\n",
    "        for j in i:\n",
    "            logging.info(f\"Processing sublist element:{j}\")\n",
    "            if type(j) == int:\n",
    "                l1_int.append(j)\n",
    "    elif type(i) == int:\n",
    "        l1_int.append(i)\n",
    "    else:\n",
    "        l2_str.append(i)\n",
    "logging.info(f\"The result is :{l1_int},{l2_str}\")\n",
    "logging.shutdown()"
   ]
  },
  {
   "cell_type": "code",
   "execution_count": null,
   "metadata": {},
   "outputs": [],
   "source": [
    "# add else condition for sublist \n",
    "# try to write another program which find a prime numbe from a given list of numbers use log"
   ]
  }
 ],
 "metadata": {
  "kernelspec": {
   "display_name": "Python 3",
   "language": "python",
   "name": "python3"
  },
  "language_info": {
   "codemirror_mode": {
    "name": "ipython",
    "version": 3
   },
   "file_extension": ".py",
   "mimetype": "text/x-python",
   "name": "python",
   "nbconvert_exporter": "python",
   "pygments_lexer": "ipython3",
   "version": "3.12.4"
  }
 },
 "nbformat": 4,
 "nbformat_minor": 2
}
